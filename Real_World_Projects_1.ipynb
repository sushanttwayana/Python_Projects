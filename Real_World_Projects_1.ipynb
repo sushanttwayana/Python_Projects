{
  "nbformat": 4,
  "nbformat_minor": 0,
  "metadata": {
    "colab": {
      "provenance": [],
      "authorship_tag": "ABX9TyNbF28QN6PyIlmR+mXhSquh",
      "include_colab_link": true
    },
    "kernelspec": {
      "name": "python3",
      "display_name": "Python 3"
    },
    "language_info": {
      "name": "python"
    }
  },
  "cells": [
    {
      "cell_type": "markdown",
      "metadata": {
        "id": "view-in-github",
        "colab_type": "text"
      },
      "source": [
        "<a href=\"https://colab.research.google.com/github/sushanttwayana/Python_Projects/blob/main/Real_World_Projects_1.ipynb\" target=\"_parent\"><img src=\"https://colab.research.google.com/assets/colab-badge.svg\" alt=\"Open In Colab\"/></a>"
      ]
    },
    {
      "cell_type": "code",
      "execution_count": 1,
      "metadata": {
        "colab": {
          "base_uri": "https://localhost:8080/"
        },
        "id": "tpuxSL1RkzwG",
        "outputId": "1c7c1c0a-1cd1-4d2f-99dc-1a63a5c8793e"
      },
      "outputs": [
        {
          "output_type": "stream",
          "name": "stdout",
          "text": [
            "Collecting speedtest-cli\n",
            "  Downloading speedtest_cli-2.1.3-py2.py3-none-any.whl (23 kB)\n",
            "Installing collected packages: speedtest-cli\n",
            "Successfully installed speedtest-cli-2.1.3\n"
          ]
        }
      ],
      "source": [
        "! pip install speedtest-cli"
      ]
    },
    {
      "cell_type": "code",
      "source": [
        "# SpeedTest\n",
        "\n",
        "import speedtest\n",
        "\n",
        "st = speedtest.Speedtest()\n",
        "\n",
        "download_speed = st.download() / 10 ** 6 # Mbps\n",
        "upload_speed =  st.upload() / 10**6\n",
        "ping = st.results.ping # ping in milliseconds\n",
        "\n",
        "print(f\"Download Speed: {download_speed:.2f} Mbps\")\n",
        "print(f\"Upload Speed: {upload_speed:.2f} Mbps\")\n",
        "print(f\"Ping: {ping} ms\")\n"
      ],
      "metadata": {
        "colab": {
          "base_uri": "https://localhost:8080/"
        },
        "id": "es2gS4H7lMDP",
        "outputId": "b5d6eaa6-40e5-4553-8ad2-0bfb86acefcc"
      },
      "execution_count": 5,
      "outputs": [
        {
          "output_type": "stream",
          "name": "stdout",
          "text": [
            "Download Speed: 923.08 Mbps\n",
            "Upload Speed: 802.97 Mbps\n",
            "Ping: 7.931 ms\n"
          ]
        }
      ]
    },
    {
      "cell_type": "code",
      "source": [
        "# Helps to send notification in notification section in windows 10\n",
        "\n",
        "!pip install --upgrade setuptools\n",
        "! pip install win10toast\n",
        "# !pip install pypiwin32==223\n"
      ],
      "metadata": {
        "colab": {
          "base_uri": "https://localhost:8080/"
        },
        "id": "icU8HOEJnaQc",
        "outputId": "923d0a0c-a35a-4f19-bf69-45727abbfbf3"
      },
      "execution_count": 9,
      "outputs": [
        {
          "output_type": "stream",
          "name": "stdout",
          "text": [
            "Requirement already satisfied: setuptools in /usr/local/lib/python3.10/dist-packages (68.2.2)\n",
            "Collecting win10toast\n",
            "  Using cached win10toast-0.9-py2.py3-none-any.whl (21 kB)\n",
            "Collecting pypiwin32 (from win10toast)\n",
            "  Using cached pypiwin32-223-py3-none-any.whl (1.7 kB)\n",
            "Requirement already satisfied: setuptools in /usr/local/lib/python3.10/dist-packages (from win10toast) (68.2.2)\n",
            "INFO: pip is looking at multiple versions of pypiwin32 to determine which version is compatible with other requirements. This could take a while.\n",
            "  Using cached pypiwin32-219.zip (4.8 MB)\n",
            "  \u001b[1;31merror\u001b[0m: \u001b[1msubprocess-exited-with-error\u001b[0m\n",
            "  \n",
            "  \u001b[31m×\u001b[0m \u001b[32mpython setup.py egg_info\u001b[0m did not run successfully.\n",
            "  \u001b[31m│\u001b[0m exit code: \u001b[1;36m1\u001b[0m\n",
            "  \u001b[31m╰─>\u001b[0m See above for output.\n",
            "  \n",
            "  \u001b[1;35mnote\u001b[0m: This error originates from a subprocess, and is likely not a problem with pip.\n",
            "  Preparing metadata (setup.py) ... \u001b[?25l\u001b[?25herror\n",
            "\u001b[1;31merror\u001b[0m: \u001b[1mmetadata-generation-failed\u001b[0m\n",
            "\n",
            "\u001b[31m×\u001b[0m Encountered error while generating package metadata.\n",
            "\u001b[31m╰─>\u001b[0m See above for output.\n",
            "\n",
            "\u001b[1;35mnote\u001b[0m: This is an issue with the package mentioned above, not pip.\n",
            "\u001b[1;36mhint\u001b[0m: See above for details.\n"
          ]
        }
      ]
    },
    {
      "cell_type": "code",
      "source": [
        "\n",
        "\n",
        "# we can send and recieve requests from different websites\n",
        "import requests\n",
        "from win10toast import ToastNotifier\n",
        "import json\n",
        "import time\n",
        "\n",
        "def update():\n",
        "\n",
        "  r = requests.get()"
      ],
      "metadata": {
        "id": "5zLo5VL_nBYQ"
      },
      "execution_count": null,
      "outputs": []
    }
  ]
}