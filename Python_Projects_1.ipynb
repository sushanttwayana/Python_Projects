{
  "nbformat": 4,
  "nbformat_minor": 0,
  "metadata": {
    "colab": {
      "provenance": [],
      "authorship_tag": "ABX9TyPmZ1YP/KtfHxJmR1MioVgq",
      "include_colab_link": true
    },
    "kernelspec": {
      "name": "python3",
      "display_name": "Python 3"
    },
    "language_info": {
      "name": "python"
    }
  },
  "cells": [
    {
      "cell_type": "markdown",
      "metadata": {
        "id": "view-in-github",
        "colab_type": "text"
      },
      "source": [
        "<a href=\"https://colab.research.google.com/github/sushanttwayana/Python_Projects/blob/main/Python_Projects_1.ipynb\" target=\"_parent\"><img src=\"https://colab.research.google.com/assets/colab-badge.svg\" alt=\"Open In Colab\"/></a>"
      ]
    },
    {
      "cell_type": "code",
      "source": [
        "# Simple Calculator\n",
        "\n",
        "import math\n",
        "\n",
        "def calculator():\n",
        "  global i\n",
        "  print(\"Choose the operation you want to perform:\")\n",
        "  print(\"Enter 1 for addition\")\n",
        "  print(\"Enter 2 for subtraction\")\n",
        "  print(\"Enter 3 for multiplication\")\n",
        "  print(\"Enter 4 for divison\")\n",
        "  print(\"Enter 5 for Square Root\")\n",
        "  print(\"Enter 6 to exit\")\n",
        "  i = int(input(\"Enter your choice:\"))\n",
        "\n",
        "calculator()\n",
        "\n",
        "if (i == 1):\n",
        "  a = int(input('Enter the first number:'))\n",
        "  b = int(input('Enter the second number:'))\n",
        "  result = a + b\n",
        "  print(\"%d + %d = %d\" %(a, b, result ))\n",
        "  # calculator()\n",
        "\n",
        "elif (i == 2):\n",
        "  a = int(input('Enter the first number:'))\n",
        "  b = int(input('Enter the second number:'))\n",
        "  result = a - b\n",
        "  print(\"%d - %d = %d\" %(a, b, result ))\n",
        "  # calculator()\n",
        "\n",
        "elif (i == 3):\n",
        "  a = int(input('Enter the first number:'))\n",
        "  b = int(input('Enter the second number:'))\n",
        "  result = a * b\n",
        "  print(\"%d * %d = %d\" %(a, b, result ))\n",
        "  # calculator()\n",
        "\n",
        "\n",
        "elif (i == 4):\n",
        "  a = int(input('Enter the first number:'))\n",
        "  b = int(input('Enter the second number:'))\n",
        "  result = a / b\n",
        "  print(\"%d / %d = %d\" %(a, b, result ))\n",
        "  # calculator()\n",
        "\n",
        "elif (i == 5):\n",
        "  a = int(input('Enter the number:'))\n",
        "  result = math.sqrt(a)\n",
        "  print(\"Sqrt of %d = %d\" %(a,result ) )\n",
        "  # calculator()\n",
        "\n",
        "# elif(i == 6):\n",
        "#   break\n",
        "\n"
      ],
      "metadata": {
        "colab": {
          "base_uri": "https://localhost:8080/"
        },
        "id": "aIX6TxxKopTY",
        "outputId": "446ab269-4b67-4d6e-e939-a987a8815e1a"
      },
      "execution_count": null,
      "outputs": [
        {
          "output_type": "stream",
          "name": "stdout",
          "text": [
            "Choose the operation you want to perform:\n",
            "Enter 1 for addition\n",
            "Enter 2 for subtraction\n",
            "Enter 3 for multiplication\n",
            "Enter 4 for divison\n",
            "Enter 5 for Square Root\n",
            "Enter 6 to exit\n",
            "Enter your choice:3\n",
            "Enter the first number:3\n",
            "Enter the second number:3\n",
            "3 * 3 = 9\n"
          ]
        }
      ]
    },
    {
      "cell_type": "code",
      "source": [
        "# Dice rolling game\n",
        "\n",
        "import random\n",
        "\n",
        "x = input(\"Press 'y' to roll dice and 'n' to exit:\")\n",
        "print(\"\\n\")\n",
        "\n",
        "if x == \"y\":\n",
        "  no = random.randint(1, 6)\n",
        "\n",
        "  if no == 1 :\n",
        "    print(\"0\")\n",
        "\n",
        "  if no == 2 :\n",
        "    print(\"0\")\n",
        "    print(\"0\")\n",
        "\n",
        "  if no == 3:\n",
        "    print(\"0 0 0\")\n",
        "\n",
        "  if no == 4:\n",
        "    print(\"0 0\")\n",
        "    print(\"0 0\")\n",
        "\n",
        "  if no == 5:\n",
        "    print(\"0 0\")\n",
        "    print(\" 0 \")\n",
        "    print(\"0 0\")\n",
        "\n",
        "  if no == 6:\n",
        "    print(\"0 0 0\")\n",
        "    print(\"0 0 0\")\n",
        "\n",
        "else :\n",
        "  print(\"Stop\")"
      ],
      "metadata": {
        "colab": {
          "base_uri": "https://localhost:8080/"
        },
        "id": "gmE2rPy_vmyC",
        "outputId": "9fa0d92d-0e13-4a1e-ce68-f10fd1279690"
      },
      "execution_count": null,
      "outputs": [
        {
          "output_type": "stream",
          "name": "stdout",
          "text": [
            "Press 'y' to roll dice and 'n' to exit:y\n",
            "\n",
            "\n",
            "0 0\n",
            " 0 \n",
            "0 0\n"
          ]
        }
      ]
    },
    {
      "cell_type": "code",
      "source": [
        "# number guessing game\n",
        "\n",
        "import math\n",
        "import random\n",
        "\n",
        "# taking inputs\n",
        "\n",
        "lower = int(input(\"Enter the lower bound:\"))\n",
        "upper = int(input(\"Enter the upper bound:\"))\n",
        "\n",
        "#generating random number\n",
        "\n",
        "x = random.randint(lower, upper)\n",
        "\n",
        "print(\"\\nYou've only\", round(math.log(upper + lower - 1, 2)), \"chances to guess the integer \\n\")\n",
        "\n",
        "# initializing the no of guess\n",
        "count = 0\n",
        "\n",
        "while count < math.log(upper + lower - 1, 2):\n",
        "  count += 1\n",
        "\n",
        "  # taking guessing number as input\n",
        "  guess = int(input(\"Guess a number between your range:\"))\n",
        "\n",
        "  # Condition testing\n",
        "\n",
        "  if x == guess :\n",
        "    print(\"Congratulations!! You've guess it right in\",count,\"try\")\n",
        "    break\n",
        "\n",
        "  elif x > guess :\n",
        "    print(\"You guessed too small.\")\n",
        "\n",
        "  elif x < guess :\n",
        "    print(\"You guessed too high.\")\n",
        "\n",
        "#If guessing is more than the required guess\n",
        "if count > math.log(upper + lower - 1, 2):\n",
        "\n",
        "  print(\"\\n The number is \", x)\n",
        "  print(\"Better Luck Next Time\")\n",
        "\n"
      ],
      "metadata": {
        "colab": {
          "base_uri": "https://localhost:8080/"
        },
        "id": "Knih7snOwEee",
        "outputId": "601b23f0-6f61-4d88-caa1-70b84b526aac"
      },
      "execution_count": null,
      "outputs": [
        {
          "output_type": "stream",
          "name": "stdout",
          "text": [
            "Enter the lower bound:1\n",
            "Enter the upper bound:100\n",
            "\n",
            "You've only 7 chances to guess the integer \n",
            "\n",
            "Guess a number between your range:20\n",
            "You guessed too small.\n",
            "Guess a number between your range:40\n",
            "You guessed too small.\n",
            "Guess a number between your range:60\n",
            "You guessed too high.\n",
            "Guess a number between your range:50\n",
            "You guessed too small.\n",
            "Guess a number between your range:55\n",
            "Congratulations!! You've guess it right in  5 try\n"
          ]
        }
      ]
    },
    {
      "cell_type": "code",
      "source": [
        "print(round(math.log(1 + 100 - 1, 2)))\n",
        "print(math.log(1 + 100 - 1, 2))\n",
        "print(math.log(1 + 100 -1, 100))\n",
        "print(math.log(1 + 100 -1, 20))"
      ],
      "metadata": {
        "colab": {
          "base_uri": "https://localhost:8080/"
        },
        "id": "CCrO0LNC58in",
        "outputId": "504d52da-db41-42dd-bd99-4e702e1fbbde"
      },
      "execution_count": null,
      "outputs": [
        {
          "output_type": "stream",
          "name": "stdout",
          "text": [
            "7\n",
            "6.643856189774725\n",
            "1.0\n",
            "1.537243573680482\n"
          ]
        }
      ]
    }
  ]
}