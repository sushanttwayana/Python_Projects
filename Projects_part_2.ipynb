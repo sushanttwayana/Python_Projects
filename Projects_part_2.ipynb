{
  "nbformat": 4,
  "nbformat_minor": 0,
  "metadata": {
    "colab": {
      "provenance": [],
      "authorship_tag": "ABX9TyN6lct+iNpZlHRjFIfYunRI",
      "include_colab_link": true
    },
    "kernelspec": {
      "name": "python3",
      "display_name": "Python 3"
    },
    "language_info": {
      "name": "python"
    }
  },
  "cells": [
    {
      "cell_type": "markdown",
      "metadata": {
        "id": "view-in-github",
        "colab_type": "text"
      },
      "source": [
        "<a href=\"https://colab.research.google.com/github/sushanttwayana/Python_Projects/blob/main/Projects_part_2.ipynb\" target=\"_parent\"><img src=\"https://colab.research.google.com/assets/colab-badge.svg\" alt=\"Open In Colab\"/></a>"
      ]
    },
    {
      "cell_type": "code",
      "execution_count": null,
      "metadata": {
        "id": "rHD4EiZON3zE"
      },
      "outputs": [],
      "source": [
        "# Language translator tool\n",
        "\n",
        "#1. Import required modules\n",
        "\n",
        "from tkinter import *\n",
        "from translate import Translator\n",
        "\n",
        "# Create a display window\n",
        "window =  Tk()\n",
        "window.title(\"Language Translator App\")\n",
        "window.geometry(\"800x600\")\n",
        "# window.resizable(0, 0)\n",
        "window.config(bg = \"#edf0f3\" )\n",
        "\n",
        "# Define the options menu widget to select a language to select the lang in your app\n",
        "\n",
        "#=======For input Widget =========\n",
        "\n",
        "InputLanguageChoice = StringVar()\n",
        "# Label(window, text = \"Input Text\").grid(row = 1, column = 2)\n",
        "InputLanguageChoice.set(\"English\")\n",
        "\n",
        "LanguageChoices = OptionMenu(window, InputLanguageChoice, 'Hindi', 'Nepali', 'Spanish', 'Japanese', 'Chinese', 'French', 'German')\n",
        "LanguageChoices.config(bg = \"#1a4564\", fg = \"white\")\n",
        "LanguageChoices[\"menu\"].config(bg = \"#ebf7ff\")\n",
        "LanguageChoices.grid(row = 2, column = 2, pady = 15, ipadx = 15, )\n",
        "\n",
        "#=======For output Widget =========\n",
        "\n",
        "OutputLanguageChoice = StringVar()\n",
        "OutputLanguageChoice.set(\"Choose Here!!\")\n",
        "\n",
        "LanguageChoices = OptionMenu(window, OutputLanguageChoice, 'Spanish', 'Japanese', 'Chinese', 'French', 'German', 'Hindi', 'Nepali', )\n",
        "LanguageChoices.config(bg = \"#1a4564\", fg = \"white\")\n",
        "LanguageChoices[\"menu\"].config(bg = \"#ebf7ff\")\n",
        "# padx -> specifies padding in x- direction\n",
        "# ipadx -> specifies the internal padding of the widget\n",
        "LanguageChoices.grid(row = 5, column = 2, padx=50,ipadx = 15, pady = 15)\n",
        "\n",
        "\n",
        "# Create input and output text widget\n",
        "\n",
        "Label(window, text = \"Enter your text here\").grid(row = 3, column = 1)\n",
        "TextVar = StringVar()\n",
        "TextBox = Entry(window, textvariable = TextVar).grid(row = 3, column = 2, ipadx=100, ipady=20, padx= 50)\n",
        "\n",
        "Label(window, text = \"Output Text\").grid(row = 7, column = 1)\n",
        "OutputVar = StringVar()\n",
        "TextBox = Entry(window, textvariable = OutputVar).grid(row = 7, column = 2, ipadx=100, ipady=20, padx= 50, pady=15)\n",
        "\n",
        "\n",
        "# Define function\n",
        "\n",
        "def translate() :\n",
        "    translator =  Translator(from_lang= InputLanguageChoice.get(), to_lang  = OutputLanguageChoice.get() )\n",
        "    Translation = translator.translate(TextVar.get())\n",
        "    OutputVar.set(Translation)\n",
        "\n",
        "# Create a translate btn\n",
        "\n",
        "btn = Button(window, text= \"Translate\", command = translate, relief = GROOVE, bg = \"#ebf7ff\").grid(row=8, column = 2)\n",
        "\n",
        "window.mainloop()"
      ]
    },
    {
      "cell_type": "code",
      "source": [
        "# DIgital clock\n",
        "\n",
        "from tkinter import *\n",
        "from time import strftime\n",
        "\n",
        "window = Tk()\n",
        "window.title(\"Digital Clock\")\n",
        "\n",
        "def time():\n",
        "    timeFormat = strftime('%H:%M:%S %p %a')\n",
        "    clock.config(text= timeFormat)\n",
        "    clock.after(1000, time)\n",
        "\n",
        "clock = Label(window, font = \"Arial 100 bold\", pady = 10, fg =\"#ebf7ff\", bg = \"black\")\n",
        "clock .pack(anchor = \"center\")\n",
        "\n",
        "time()\n",
        "window.mainloop()"
      ],
      "metadata": {
        "id": "-0iuHSIMflcg"
      },
      "execution_count": null,
      "outputs": []
    }
  ]
}