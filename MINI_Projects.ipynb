{
  "nbformat": 4,
  "nbformat_minor": 0,
  "metadata": {
    "colab": {
      "provenance": [],
      "authorship_tag": "ABX9TyNytKGJm9zCB/MQS80Mrs0e",
      "include_colab_link": true
    },
    "kernelspec": {
      "name": "python3",
      "display_name": "Python 3"
    },
    "language_info": {
      "name": "python"
    }
  },
  "cells": [
    {
      "cell_type": "markdown",
      "metadata": {
        "id": "view-in-github",
        "colab_type": "text"
      },
      "source": [
        "<a href=\"https://colab.research.google.com/github/sushanttwayana/Python_Projects/blob/main/MINI_Projects.ipynb\" target=\"_parent\"><img src=\"https://colab.research.google.com/assets/colab-badge.svg\" alt=\"Open In Colab\"/></a>"
      ]
    },
    {
      "cell_type": "code",
      "execution_count": null,
      "metadata": {
        "colab": {
          "base_uri": "https://localhost:8080/"
        },
        "id": "tpuxSL1RkzwG",
        "outputId": "1c7c1c0a-1cd1-4d2f-99dc-1a63a5c8793e"
      },
      "outputs": [
        {
          "output_type": "stream",
          "name": "stdout",
          "text": [
            "Collecting speedtest-cli\n",
            "  Downloading speedtest_cli-2.1.3-py2.py3-none-any.whl (23 kB)\n",
            "Installing collected packages: speedtest-cli\n",
            "Successfully installed speedtest-cli-2.1.3\n"
          ]
        }
      ],
      "source": [
        "! pip install speedtest-cli"
      ]
    },
    {
      "cell_type": "code",
      "source": [],
      "metadata": {
        "id": "RihX_0bO-7nt"
      },
      "execution_count": null,
      "outputs": []
    },
    {
      "cell_type": "code",
      "source": [
        "# SpeedTest\n",
        "\n",
        "import speedtest\n",
        "\n",
        "st = speedtest.Speedtest()\n",
        "\n",
        "download_speed = st.download() / 10 ** 6 # Mbps\n",
        "upload_speed =  st.upload() / 10**6\n",
        "ping = st.results.ping # ping in milliseconds\n",
        "\n",
        "print(f\"Download Speed: {download_speed:.2f} Mbps\")\n",
        "print(f\"Upload Speed: {upload_speed:.2f} Mbps\")\n",
        "print(f\"Ping: {ping} ms\")\n"
      ],
      "metadata": {
        "colab": {
          "base_uri": "https://localhost:8080/"
        },
        "id": "es2gS4H7lMDP",
        "outputId": "b5d6eaa6-40e5-4553-8ad2-0bfb86acefcc"
      },
      "execution_count": null,
      "outputs": [
        {
          "output_type": "stream",
          "name": "stdout",
          "text": [
            "Download Speed: 923.08 Mbps\n",
            "Upload Speed: 802.97 Mbps\n",
            "Ping: 7.931 ms\n"
          ]
        }
      ]
    },
    {
      "cell_type": "code",
      "source": [
        "import pyqrcode\n",
        "# import png\n",
        "\n",
        "def qrcode() :\n",
        "\n",
        "    q = pyqrcode.create(input(\"Enter the text of which youy want to generate qr:\"))\n",
        "    q.png('qrcode.png', scale = 6)\n",
        "    print(\"QR successfully generated\")\n",
        "\n",
        "if __name__ == '__main__' :\n",
        "    qrcode()\n"
      ],
      "metadata": {
        "id": "tqjlmfp115w1"
      },
      "execution_count": null,
      "outputs": []
    },
    {
      "cell_type": "code",
      "source": [
        "# we can send and recieve requests from different websites\n",
        "import requests\n",
        "from win10toast import ToastNotifier\n",
        "import json\n",
        "import time\n",
        "\n",
        "# def update():\n",
        "\n",
        "#   r = requests.get()"
      ],
      "metadata": {
        "id": "ZGc4fC4Iis2X"
      },
      "execution_count": null,
      "outputs": []
    },
    {
      "cell_type": "code",
      "source": [
        "! pip install wikipedia\n",
        "\n",
        "import wikipedia\n",
        "\n",
        "query = wikipedia.page(\"Machine  Learning\")\n",
        "# prints the summary of the provided content\n",
        "print(query.summary)"
      ],
      "metadata": {
        "colab": {
          "base_uri": "https://localhost:8080/"
        },
        "id": "u9eyex80-9ir",
        "outputId": "098e131f-26b2-4a50-c1cc-0ca759c1e5ce"
      },
      "execution_count": null,
      "outputs": [
        {
          "output_type": "stream",
          "name": "stdout",
          "text": [
            "Collecting wikipedia\n",
            "  Downloading wikipedia-1.4.0.tar.gz (27 kB)\n",
            "  Preparing metadata (setup.py) ... \u001b[?25l\u001b[?25hdone\n",
            "Requirement already satisfied: beautifulsoup4 in /usr/local/lib/python3.10/dist-packages (from wikipedia) (4.11.2)\n",
            "Requirement already satisfied: requests<3.0.0,>=2.0.0 in /usr/local/lib/python3.10/dist-packages (from wikipedia) (2.31.0)\n",
            "Requirement already satisfied: charset-normalizer<4,>=2 in /usr/local/lib/python3.10/dist-packages (from requests<3.0.0,>=2.0.0->wikipedia) (3.2.0)\n",
            "Requirement already satisfied: idna<4,>=2.5 in /usr/local/lib/python3.10/dist-packages (from requests<3.0.0,>=2.0.0->wikipedia) (3.4)\n",
            "Requirement already satisfied: urllib3<3,>=1.21.1 in /usr/local/lib/python3.10/dist-packages (from requests<3.0.0,>=2.0.0->wikipedia) (2.0.4)\n",
            "Requirement already satisfied: certifi>=2017.4.17 in /usr/local/lib/python3.10/dist-packages (from requests<3.0.0,>=2.0.0->wikipedia) (2023.7.22)\n",
            "Requirement already satisfied: soupsieve>1.2 in /usr/local/lib/python3.10/dist-packages (from beautifulsoup4->wikipedia) (2.5)\n",
            "Building wheels for collected packages: wikipedia\n",
            "  Building wheel for wikipedia (setup.py) ... \u001b[?25l\u001b[?25hdone\n",
            "  Created wheel for wikipedia: filename=wikipedia-1.4.0-py3-none-any.whl size=11678 sha256=e9858a8f31172334c1aa6c65b321ae4e1fc4dae3659eb4e6e7cee7503660dcb0\n",
            "  Stored in directory: /root/.cache/pip/wheels/5e/b6/c5/93f3dec388ae76edc830cb42901bb0232504dfc0df02fc50de\n",
            "Successfully built wikipedia\n",
            "Installing collected packages: wikipedia\n",
            "Successfully installed wikipedia-1.4.0\n",
            "Machine learning (ML) is an umbrella term for solving problems for which development of algorithms by human programmers would be cost-prohibitive, and instead the problems are solved by helping machines \"discover\" their \"own\" algorithms, without needing to be explicitly told what to do by any human-developed algorithms. Recently, generative artificial neural networks have been able to surpass results of many previous approaches. Machine-learning approaches have been applied to large language models, computer vision, speech recognition, email filtering, agriculture and medicine, where it is too costly to develop algorithms to perform the needed tasks.The mathematical foundations of ML are provided by mathematical optimization (mathematical programming) methods. Data mining is a related (parallel) field of study, focusing on exploratory data analysis through unsupervised learning.ML is known in its application across business problems under the name predictive analytics. Although not all machine learning is statistically based, computational statistics is an important source of the field's methods. \n",
            "\n",
            "\n"
          ]
        }
      ]
    },
    {
      "cell_type": "code",
      "source": [
        "# urlextract\n",
        "\n",
        "from urllib.request import urlopen\n",
        "\n",
        "page = urlopen(\"https://facebook.com/\")\n",
        "print(page.headers)"
      ],
      "metadata": {
        "colab": {
          "base_uri": "https://localhost:8080/"
        },
        "id": "vDwgdJydH_DE",
        "outputId": "d40b1dc5-265d-4ea4-81a5-3583227e7cb1"
      },
      "execution_count": null,
      "outputs": [
        {
          "output_type": "stream",
          "name": "stdout",
          "text": [
            "Vary: Accept-Encoding\n",
            "Set-Cookie: fr=0E65uuFbMGQdgDgMM..BlGqjP.Qw.AAA.0.0.BlGqjP.AWWJzVeMQXw; expires=Sun, 31-Dec-2023 11:26:07 GMT; Max-Age=7776000; path=/; domain=.facebook.com; secure; httponly\n",
            "Set-Cookie: sb=z6gaZQnmChRz3xi_4A3T6GpY; expires=Tue, 05-Nov-2024 11:26:07 GMT; Max-Age=34560000; path=/; domain=.facebook.com; secure; httponly\n",
            "report-to: {\"max_age\":259200,\"endpoints\":[{\"url\":\"https:\\/\\/www.facebook.com\\/ajax\\/browser_error_reports\\/?device_level=unknown\"}]}\n",
            "content-security-policy: default-src data: blob: 'self' https://*.fbsbx.com 'unsafe-inline' *.facebook.com *.fbcdn.net 'unsafe-eval';script-src *.facebook.com *.fbcdn.net *.facebook.net *.google-analytics.com *.google.com 127.0.0.1:* 'unsafe-inline' blob: data: 'self' connect.facebook.net 'unsafe-eval';style-src fonts.googleapis.com *.fbcdn.net data: *.facebook.com 'unsafe-inline';connect-src *.facebook.com facebook.com *.fbcdn.net *.facebook.net wss://*.facebook.com:* wss://*.whatsapp.com:* wss://*.fbcdn.net attachment.fbsbx.com ws://localhost:* blob: *.cdninstagram.com 'self' http://localhost:3103 wss://gateway.facebook.com wss://edge-chat.facebook.com wss://snaptu-d.facebook.com wss://kaios-d.facebook.com/ v.whatsapp.net *.fbsbx.com *.fb.com;font-src data: *.gstatic.com *.facebook.com *.fbcdn.net *.fbsbx.com;img-src *.fbcdn.net *.facebook.com data: https://*.fbsbx.com *.tenor.co media.tenor.com facebook.com *.cdninstagram.com fbsbx.com fbcdn.net *.giphy.com connect.facebook.net *.carriersignal.info blob: android-webview-video-poster: googleads.g.doubleclick.net www.googleadservices.com *.whatsapp.net *.fb.com *.oculuscdn.com;media-src *.cdninstagram.com blob: *.fbcdn.net *.fbsbx.com www.facebook.com *.facebook.com https://*.giphy.com data:;frame-src *.doubleclick.net *.google.com *.facebook.com www.googleadservices.com *.fbsbx.com fbsbx.com data: www.instagram.com *.fbcdn.net https://paywithmybank.com https://sandbox.paywithmybank.com;worker-src blob: *.facebook.com data:;block-all-mixed-content;upgrade-insecure-requests;\n",
            "document-policy: force-load-at-top\n",
            "permissions-policy: accelerometer=(), ambient-light-sensor=(), bluetooth=(), camera=(self), geolocation=(self), gyroscope=(), hid=(), idle-detection=(), magnetometer=(), microphone=(self), midi=(), payment=(), screen-wake-lock=(), serial=(), usb=()\n",
            "cross-origin-resource-policy: cross-origin\n",
            "cross-origin-opener-policy: unsafe-none\n",
            "Pragma: no-cache\n",
            "Cache-Control: private, no-cache, no-store, must-revalidate\n",
            "Expires: Sat, 01 Jan 2000 00:00:00 GMT\n",
            "X-Content-Type-Options: nosniff\n",
            "X-XSS-Protection: 0\n",
            "X-Frame-Options: DENY\n",
            "Strict-Transport-Security: max-age=15552000; preload\n",
            "Content-Type: text/html; charset=\"utf-8\"\n",
            "X-FB-Debug: mdFxsj2P7xKY3LzPnIxUlL6T7zuVvK1urUgLe/Mh5e+1j2dko3HojXLJ78B12VNp8pMD+RKoBu19sJOu5YeybQ==\n",
            "Date: Mon, 02 Oct 2023 11:26:07 GMT\n",
            "Alt-Svc: h3=\":443\"; ma=86400\n",
            "Connection: close\n",
            "\n",
            "\n"
          ]
        }
      ]
    },
    {
      "cell_type": "code",
      "source": [
        "# helps us to view the source code of any url that we provides\n",
        "\n",
        "from urllib.request import urlopen\n",
        "\n",
        "page = urlopen(\"https://facebook.com/\")\n",
        "\n",
        "# provides the sourcecode\n",
        "\n",
        "sourcecode = page.read()\n",
        "print(sourcecode)"
      ],
      "metadata": {
        "colab": {
          "base_uri": "https://localhost:8080/"
        },
        "id": "vXy1XpI4Jbxo",
        "outputId": "785a7759-aa44-48ae-eb53-5bb6028f23d7"
      },
      "execution_count": null,
      "outputs": [
        {
          "output_type": "stream",
          "name": "stdout",
          "text": [
            "b'<!DOCTYPE html>\\n<html lang=\"en\" id=\"facebook\" class=\"no_js\">\\n<head><meta charset=\"utf-8\" /><meta name=\"referrer\" content=\"default\" id=\"meta_referrer\" /><script nonce=\"4RpN4hF9\">function envFlush(a){function b(b){for(var c in a)b[c]=a[c]}window.requireLazy?window.requireLazy([\"Env\"],b):(window.Env=window.Env||{},b(window.Env))}envFlush({\"useTrustedTypes\":false,\"isTrustedTypesReportOnly\":false,\"ajaxpipe_token\":\"AXjvhKKmKBTOCaD0rjw\",\"remove_heartbeat\":false,\"stack_trace_limit\":30,\"timesliceBufferSize\":5000,\"show_invariant_decoder\":false,\"compat_iframe_token\":\"AQ4XdO9OI7x_McEgFuE\",\"isCQuick\":false});</script><script nonce=\"4RpN4hF9\">(function(a){function b(b){if(!window.openDatabase)return;b.I_AM_INCOGNITO_AND_I_REALLY_NEED_WEBSQL=function(a,b,c,d){return window.openDatabase(a,b,c,d)};window.openDatabase=function(){throw new Error()}}b(a)})(this);</script><style nonce=\"4RpN4hF9\"></style><script nonce=\"4RpN4hF9\">__DEV__=0;</script><noscript><meta http-equiv=\"refresh\" content=\"0; URL=/?_fb_noscript=1\" /></noscript><link rel=\"manifest\" id=\"MANIFEST_LINK\" href=\"/data/manifest/\" crossorigin=\"use-credentials\" /><title id=\"pageTitle\">Facebook - log in or sign up</title><meta property=\"og:site_name\" content=\"Facebook\" /><meta property=\"og:url\" content=\"https://www.facebook.com/\" /><meta property=\"og:image\" content=\"https://www.facebook.com/images/fb_logo/app-facebook-circle-bp.png\" /><meta property=\"og:locale\" content=\"en_US\" /><link rel=\"alternate\" media=\"only screen and (max-width: 640px)\" href=\"https://m.facebook.com/\" /><link rel=\"alternate\" media=\"handheld\" href=\"https://m.facebook.com/\" /><meta name=\"description\" content=\"Log into Facebook to start sharing and connecting with your friends, family, and people you know.\" /><script type=\"application/ld+json\" nonce=\"4RpN4hF9\">{\"\\\\u0040context\":\"http:\\\\/\\\\/schema.org\",\"\\\\u0040type\":\"WebSite\",\"name\":\"Facebook\",\"url\":\"https:\\\\/\\\\/www.facebook.com\\\\/\"}</script><link rel=\"canonical\" href=\"https://www.facebook.com/\" /><link rel=\"icon\" href=\"https://static.xx.fbcdn.net/rsrc.php/yv/r/B8BxsscfVBr.ico\" /><link type=\"text/css\" rel=\"stylesheet\" href=\"https://static.xx.fbcdn.net/rsrc.php/v3/yY/l/0,cross/4qFqTquP-fc.css?_nc_x=Ij3Wp8lg5Kz\" data-bootloader-hash=\"/uaktyf\" />\\n<link type=\"text/css\" rel=\"stylesheet\" href=\"https://static.xx.fbcdn.net/rsrc.php/v3/yV/l/0,cross/LNG3NJxo-TI.css?_nc_x=Ij3Wp8lg5Kz\" data-bootloader-hash=\"vDbzf9V\" />\\n<link type=\"text/css\" rel=\"stylesheet\" href=\"https://static.xx.fbcdn.net/rsrc.php/v3/yV/l/0,cross/KxGJ10xTR_J.css?_nc_x=Ij3Wp8lg5Kz\" data-bootloader-hash=\"Pud6B2Z\" />\\n<link type=\"text/css\" rel=\"stylesheet\" href=\"https://static.xx.fbcdn.net/rsrc.php/v3/y0/l/0,cross/CjlWAqTyAlF.css?_nc_x=Ij3Wp8lg5Kz\" data-bootloader-hash=\"EuCsSiD\" />\\n<link type=\"text/css\" rel=\"stylesheet\" href=\"https://static.xx.fbcdn.net/rsrc.php/v3/yi/l/0,cross/yotEdcUw9Gj.css?_nc_x=Ij3Wp8lg5Kz\" data-bootloader-hash=\"DcLQ9Pg\" />\\n<link type=\"text/css\" rel=\"stylesheet\" href=\"https://static.xx.fbcdn.net/rsrc.php/v3/yc/l/0,cross/1FPNULrhhBJ.css?_nc_x=Ij3Wp8lg5Kz\" data-bootloader-hash=\"0Bj1L9r\" />\\n<link type=\"text/css\" rel=\"stylesheet\" href=\"https://static.xx.fbcdn.net/rsrc.php/v3/yV/l/0,cross/_bzWjvAFjKO.css?_nc_x=Ij3Wp8lg5Kz\" data-bootloader-hash=\"JG0XRy3\" />\\n<link type=\"text/css\" rel=\"stylesheet\" href=\"https://static.xx.fbcdn.net/rsrc.php/v3/y3/l/0,cross/ikFECARVllV.css?_nc_x=Ij3Wp8lg5Kz\" data-bootloader-hash=\"qgYJ9Ln\" />\\n<script src=\"https://static.xx.fbcdn.net/rsrc.php/v3/yh/r/BI02XrrCupT.js?_nc_x=Ij3Wp8lg5Kz\" data-bootloader-hash=\"4MtYcQP\" nonce=\"4RpN4hF9\"></script>\\n<script nonce=\"4RpN4hF9\">requireLazy([\"HasteSupportData\"],function(m){m.handle({\"clpData\":{\"1838142\":{\"r\":1,\"s\":1},\"4883\":{\"r\":1,\"s\":1},\"1814852\":{\"r\":1},\"1848815\":{\"r\":10000,\"s\":1}},\"gkxData\":{\"676837\":{\"result\":false,\"hash\":\"AT4N8wBZA8ctCdHws8w\"},\"708253\":{\"result\":false,\"hash\":\"AT5n4hBL3YTMnQWtn5s\"},\"1167394\":{\"result\":false,\"hash\":\"AT7BpN-tlUPwbIIFbXU\"},\"1073500\":{\"result\":false,\"hash\":\"AT7aJmfnqWyioxOO9Co\"},\"1224637\":{\"result\":false,\"hash\":\"AT7JRluWxuwDm3Xz-zQ\"},\"1263340\":{\"result\":false,\"hash\":\"AT5bwizWgDaFQudmOWc\"},\"1857581\":{\"result\":false,\"hash\":\"AT5yTxGMp6le0PAtfWU\"}},\"qexData\":{\"662\":{\"r\":null}}})});requireLazy([\"TimeSliceImpl\",\"ServerJS\"],function(TimeSlice,ServerJS){(new ServerJS()).handle({\"define\":[[\"ServerNonce\",[],{\"ServerNonce\":\"Q27NU4hRg8dcTDQIJj9Olt\"},141],[\"KSConfig\",[],{\"killed\":{\"__set\":[\"MLHUB_FLOW_AUTOREFRESH_SEARCH\",\"WORKPLACE_DISPLAY_TEXT_EVIDENCE_REPORTING\",\"BUSINESS_INVITE_FLOW_WITH_SELLER_PROFILE\",\"BUSINESS_GRAPH_SETTING_APP_ASSIGNED_USERS_NEW_API\",\"BUSINESS_GRAPH_SETTING_BU_ASSIGNED_USERS_NEW_API\",\"BUSINESS_GRAPH_SETTING_ESG_ASSIGNED_USERS_NEW_API\",\"BUSINESS_GRAPH_SETTING_PRODUCT_CATALOG_ASSIGNED_USERS_NEW_API\",\"BUSINESS_GRAPH_SETTING_SESG_ASSIGNED_USERS_NEW_API\",\"BUSINESS_GRAPH_SETTING_WABA_ASSIGNED_USERS_NEW_API\",\"FORCE_FETCH_BOOSTED_COMPONENT_AFTER_ADS_CREATION\",\"VIDEO_DIMENSIONS_FROM_PLAYER_IN_UPLOAD_DIALOG\",\"SNIVY_GROUP_BY_EVENT_TRACE_ID_AND_NAME\",\"ADS_STORE_VISITS_METRICS_DEPRECATION\",\"AD_DRAFT_ENABLE_SYNCRHONOUS_FRAGMENT_VALIDATION\",\"SEPARATE_MESSAGING_COMACTIVITY_PAGE_PERMS\",\"LAB_NET_NEW_UI_RELEASE\",\"POCKET_MONSTERS_CREATE\",\"POCKET_MONSTERS_DELETE\",\"WORKPLACE_PLATFORM_SECURE_APPS_MAILBOXES\",\"POCKET_MONSTERS_UPDATE_NAME\",\"IC_DISABLE_MERGE_TOOL_FEED_CHECK_FOR_REPLACE_SCHEDULE\",\"ADS_EPD_IMPACTED_ADVERTISER_MIGRATE_XCONTROLLER\",\"BIZ_INBOX_POP_UP_TIP_NAVIGATION_BUG_FIX\",\"EO_STORE_HOME_PAGE_COVID19_BANNER\",\"TPA_SRT_TRANSLATION\",\"WORKROOMS_REQUEST_TAGGING_TAG_NO_INIT_BY_VC_GALAXY\"]},\"ko\":{\"__set\":[\"3OsLvnSHNTt\",\"8NAceEy9JZo\",\"7FOIzos6XJX\",\"4j36SVzvP3w\",\"4NSq3ZC4ScE\",\"53gCxKq281G\",\"3yzzwBY7Npj\",\"1onzIv0jH6H\",\"8PlKuowafe8\",\"4SIH2GRVX5W\",\"2dhqRnqXGLQ\",\"2WgiNOrHVuC\",\"amKHb4Cw4WI\",\"8rDvN9vWdAK\",\"5BdzWGmfvrA\",\"DDZhogI19W\",\"acrJTh9WGdp\",\"1oOE64fL4wO\",\"5XCz1h9Iaw3\",\"7r6mSP7ofr2\",\"6DGPLrRdyts\",\"aWxCyi1sEC7\",\"awYA7fn2Bse\",\"Fl3bH3ozLe\",\"3sKizTQ6byg\",\"6XsXQ2qHw8y\"]}},2580],[\"InitialCookieConsent\",[],{\"deferCookies\":false,\"initialConsent\":[1,2],\"noCookies\":false,\"shouldShowCookieBanner\":false},4328],[\"CookieConsentIFrameConfig\",[],{\"consent_param\":\"FQAREhISAA==.ARb2qYyaHbUbsJ14g40Si8eKflYyS-zQ5JbISfSFwNNizs2X\",\"allowlisted_iframes\":[]},5540],[\"ServerTimeData\",[],{\"serverTime\":1696246168817,\"timeOfRequestStart\":1696246168784.7,\"timeOfResponseStart\":1696246168784.7},5943],[\"URLFragmentPreludeConfig\",[],{\"hashtagRedirect\":true,\"fragBlacklist\":[\"nonce\",\"access_token\",\"oauth_token\",\"xs\",\"checkpoint_data\",\"code\"]},137],[\"CometPersistQueryParams\",[],{\"relative\":{},\"domain\":{}},6231],[\"CookieDomain\",[],{\"domain\":\"facebook.com\"},6421],[\"CurrentAdAccountInitialData\",[],{\"AD_ACCOUNT_ID\":null},6828],[\"BootloaderConfig\",[],{\"deferBootloads\":false,\"jsRetries\":[200,500],\"jsRetryAbortNum\":2,\"jsRetryAbortTime\":5,\"silentDups\":false,\"timeout\":60000,\"hypStep4\":false,\"phdOn\":false,\"btCutoffIndex\":1997,\"fastPathForAlreadyRequired\":true,\"earlyRequireLazy\":false,\"translationRetries\":[200,500],\"translationRetryAbortNum\":3,\"translationRetryAbortTime\":50},329],[\"CSSLoaderConfig\",[],{\"timeout\":5000,\"modulePrefix\":\"BLCSS:\",\"forcePollForBootloader\":true},619],[\"CookieCoreConfig\",[],{\"c_user\":{\"t\":31536000},\"cppo\":{\"t\":86400},\"dpr\":{\"t\":604800},\"fbl_ci\":{\"t\":31536000},\"fbl_cs\":{\"t\":31536000},\"fbl_st\":{\"t\":31536000},\"i_user\":{\"t\":31536000},\"locale\":{\"t\":604800},\"m_ls\":{\"t\":34560000},\"m_pixel_ratio\":{\"t\":604800},\"noscript\":{},\"presence\":{\"t\":2592000},\"sfau\":{},\"usida\":{},\"vpd\":{\"t\":5184000},\"wd\":{\"t\":604800},\"wl_cbv\":{\"t\":7776000},\"x-referer\":{},\"x-src\":{\"t\":1}},2104],[\"CurrentCommunityInitialData\",[],{},490],[\"CurrentEnvironment\",[],{\"facebookdotcom\":true,\"messengerdotcom\":false,\"workplacedotcom\":false,\"instagramdotcom\":false,\"workdotmetadotcom\":false,\"horizondotmetadotcom\":false},827],[\"CurrentUserInitialData\",[],{\"ACCOUNT_ID\":\"0\",\"USER_ID\":\"0\",\"NAME\":\"\",\"SHORT_NAME\":null,\"IS_BUSINESS_PERSON_ACCOUNT\":false,\"HAS_SECONDARY_BUSINESS_PERSON\":false,\"IS_FACEBOOK_WORK_ACCOUNT\":false,\"IS_MESSENGER_ONLY_USER\":false,\"IS_DEACTIVATED_ALLOWED_ON_MESSENGER\":false,\"IS_MESSENGER_CALL_GUEST_USER\":false,\"IS_WORK_MESSENGER_CALL_GUEST_USER\":false,\"IS_WORKROOMS_USER\":false,\"APP_ID\":\"256281040558\",\"IS_BUSINESS_DOMAIN\":false},270],[\"DTSGInitialData\",[],{},258],[\"ISB\",[],{},330],[\"LSD\",[],{\"token\":\"AVpzDwXY3pc\"},323],[\"SiteData\",[],{\"server_revision\":1008975542,\"client_revision\":1008975542,\"tier\":\"\",\"push_phase\":\"C3\",\"pkg_cohort\":\"BP:DEFAULT\",\"haste_session\":\"19632.BP:DEFAULT.2.0..0.0\",\"pr\":1,\"haste_site\":\"www\",\"manifest_base_uri\":\"https:\\\\/\\\\/static.xx.fbcdn.net\",\"manifest_origin\":null,\"manifest_version_prefix\":null,\"be_one_ahead\":false,\"is_rtl\":false,\"is_comet\":false,\"is_experimental_tier\":false,\"is_jit_warmed_up\":true,\"hsi\":\"7285321817845632686\",\"semr_host_bucket\":\"5\",\"bl_hash_version\":2,\"skip_rd_bl\":true,\"comet_env\":0,\"wbloks_env\":false,\"spin\":4,\"__spin_r\":1008975542,\"__spin_b\":\"trunk\",\"__spin_t\":1696246168,\"vip\":\"157.240.249.35\"},317],[\"SprinkleConfig\",[],{\"param_name\":\"jazoest\",\"version\":2,\"should_randomize\":false},2111],[\"UserAgentData\",[],{\"browserArchitecture\":\"32\",\"browserFullVersion\":null,\"browserMinorVersion\":null,\"browserName\":\"Unknown\",\"browserVersion\":null,\"deviceName\":\"Unknown\",\"engineName\":\"Unknown\",\"engineVersion\":null,\"platformArchitecture\":\"32\",\"platformName\":\"Unknown\",\"platformVersion\":null,\"platformFullVersion\":null},527],[\"PromiseUsePolyfillSetImmediateGK\",[],{\"www_always_use_polyfill_setimmediate\":false},2190],[\"CurrentBusinessUser\",[],{\"business_id\":null,\"business_persona_id\":null,\"business_role\":null,\"business_user_id\":null,\"businessAccountName\":null,\"email\":null,\"first_name\":null,\"ip_permission\":null,\"isBusinessPerson\":false,\"isFacebookWorkAccount\":false,\"isInstagramBusinessPerson\":false,\"isEnterpriseBusiness\":false,\"shouldHideComponentsByUnsupportedFirstPartyTools\":false,\"shouldShowAccountSwitchComponents\":false,\"isUserOptInAccountSwitchInfraUpgrade\":false,\"business_profile_pic_url\":null,\"enterprise_profile_pic_url\":null,\"isTwoFacNewFlow\":false,\"last_name\":null,\"personal_user_id\":\"0\",\"is_ads_feature_limited\":null,\"is_business_banhammered\":null,\"expiry_time\":null,\"has_verified_email\":null,\"permitted_business_account_task_ids\":[]},2654],[\"JSErrorLoggingConfig\",[],{\"appId\":256281040558,\"extra\":[],\"reportInterval\":50,\"sampleWeight\":null,\"sampleWeightKey\":\"__jssesw\",\"projectBlocklist\":[]},2776],[\"DataStoreConfig\",[],{\"expandoKey\":\"__FB_STORE\",\"useExpando\":true},2915],[\"CookieCoreLoggingConfig\",[],{\"maximumIgnorableStallMs\":16.67,\"sampleRate\":9.7e-5,\"sampleRateClassic\":1.0e-10,\"sampleRateFastStale\":1.0e-8},3401],[\"ImmediateImplementationExperiments\",[],{\"prefer_message_channel\":true},3419],[\"DTSGInitData\",[],{\"token\":\"\",\"async_get_token\":\"\"},3515],[\"UriNeedRawQuerySVConfig\",[],{\"uris\":[\"dms.netmng.com\",\"doubleclick.net\",\"r.msn.com\",\"watchit.sky.com\",\"graphite.instagram.com\",\"www.kfc.co.th\",\"learn.pantheon.io\",\"www.landmarkshops.in\",\"www.ncl.com\",\"s0.wp.com\",\"www.tatacliq.com\",\"bs.serving-sys.com\",\"kohls.com\",\"lazada.co.th\",\"xg4ken.com\",\"technopark.ru\",\"officedepot.com.mx\",\"bestbuy.com.mx\",\"booking.com\",\"nibio.no\"]},3871],[\"WebConnectionClassServerGuess\",[],{\"connectionClass\":\"EXCELLENT\"},4705],[\"CometAltpayJsSdkIframeAllowedDomains\",[],{\"allowed_domains\":[\"https:\\\\/\\\\/live.adyen.com\",\"https:\\\\/\\\\/integration-facebook.payu.in\",\"https:\\\\/\\\\/facebook.payulatam.com\",\"https:\\\\/\\\\/secure.payu.com\",\"https:\\\\/\\\\/facebook.dlocal.com\",\"https:\\\\/\\\\/buy2.boku.com\"]},4920],[\"BootloaderEndpointConfig\",[],{\"debugNoBatching\":false,\"maxBatchSize\":-1,\"endpointURI\":\"https:\\\\/\\\\/www.facebook.com\\\\/ajax\\\\/bootloader-endpoint\\\\/\"},5094],[\"BigPipeExperiments\",[],{\"link_images_to_pagelets\":false,\"enable_bigpipe_plugins\":false},907],[\"IntlVariationHoldout\",[],{\"disable_variation\":false},6533],[\"IntlNumberTypeProps\",[\"IntlCLDRNumberType05\"],{\"module\":{\"__m\":\"IntlCLDRNumberType05\"}},7027],[\"AsyncRequestConfig\",[],{\"retryOnNetworkError\":\"1\",\"useFetchStreamAjaxPipeTransport\":false},328],[\"FbtResultGK\",[],{\"shouldReturnFbtResult\":true,\"inlineMode\":\"NO_INLINE\"},876],[\"IntlPhonologicalRules\",[],{\"meta\":{\"\\\\/_B\\\\/\":\"([.,!?\\\\\\\\s]|^)\",\"\\\\/_E\\\\/\":\"([.,!?\\\\\\\\s]|$)\"},\"patterns\":{\"\\\\/\\\\u0001(.*)(\\'|&#039;)s\\\\u0001(?:\\'|&#039;)s(.*)\\\\/\":\"\\\\u0001$1$2s\\\\u0001$3\",\"\\\\/_\\\\u0001([^\\\\u0001]*)\\\\u0001\\\\/\":\"javascript\"}},1496],[\"IntlViewerContext\",[],{\"GENDER\":3,\"regionalLocale\":null},772],[\"NumberFormatConfig\",[],{\"decimalSeparator\":\".\",\"numberDelimiter\":\",\",\"minDigitsForThousandsSeparator\":4,\"standardDecimalPatternInfo\":{\"primaryGroupSize\":3,\"secondaryGroupSize\":3},\"numberingSystemData\":null},54],[\"SessionNameConfig\",[],{\"seed\":\"2iiS\"},757],[\"ZeroCategoryHeader\",[],{},1127],[\"ZeroRewriteRules\",[],{\"rewrite_rules\":{},\"whitelist\":{\"\\\\/hr\\\\/r\":1,\"\\\\/hr\\\\/p\":1,\"\\\\/zero\\\\/unsupported_browser\\\\/\":1,\"\\\\/zero\\\\/policy\\\\/optin\":1,\"\\\\/zero\\\\/optin\\\\/write\\\\/\":1,\"\\\\/zero\\\\/optin\\\\/legal\\\\/\":1,\"\\\\/zero\\\\/optin\\\\/free\\\\/\":1,\"\\\\/about\\\\/privacy\\\\/\":1,\"\\\\/about\\\\/privacy\\\\/update\\\\/\":1,\"\\\\/privacy\\\\/explanation\\\\/\":1,\"\\\\/zero\\\\/toggle\\\\/welcome\\\\/\":1,\"\\\\/zero\\\\/toggle\\\\/nux\\\\/\":1,\"\\\\/zero\\\\/toggle\\\\/settings\\\\/\":1,\"\\\\/fup\\\\/interstitial\\\\/\":1,\"\\\\/work\\\\/landing\":1,\"\\\\/work\\\\/login\\\\/\":1,\"\\\\/work\\\\/email\\\\/\":1,\"\\\\/ai.php\":1,\"\\\\/js_dialog_resources\\\\/dialog_descriptions_android.json\":0,\"\\\\/connect\\\\/jsdialog\\\\/MPlatformAppInvitesJSDialog\\\\/\":0,\"\\\\/connect\\\\/jsdialog\\\\/MPlatformOAuthShimJSDialog\\\\/\":0,\"\\\\/connect\\\\/jsdialog\\\\/MPlatformLikeJSDialog\\\\/\":0,\"\\\\/qp\\\\/interstitial\\\\/\":1,\"\\\\/qp\\\\/action\\\\/redirect\\\\/\":1,\"\\\\/qp\\\\/action\\\\/close\\\\/\":1,\"\\\\/zero\\\\/support\\\\/ineligible\\\\/\":1,\"\\\\/zero_balance_redirect\\\\/\":1,\"\\\\/zero_balance_redirect\":1,\"\\\\/zero_balance_redirect\\\\/l\\\\/\":1,\"\\\\/l.php\":1,\"\\\\/lsr.php\":1,\"\\\\/ajax\\\\/dtsg\\\\/\":1,\"\\\\/checkpoint\\\\/block\\\\/\":1,\"\\\\/exitdsite\":1,\"\\\\/zero\\\\/balance\\\\/pixel\\\\/\":1,\"\\\\/zero\\\\/balance\\\\/\":1,\"\\\\/zero\\\\/balance\\\\/carrier_landing\\\\/\":1,\"\\\\/zero\\\\/flex\\\\/logging\\\\/\":1,\"\\\\/tr\":1,\"\\\\/tr\\\\/\":1,\"\\\\/sem_campaigns\\\\/sem_pixel_test\\\\/\":1,\"\\\\/bookmarks\\\\/flyout\\\\/body\\\\/\":1,\"\\\\/zero\\\\/subno\\\\/\":1,\"\\\\/confirmemail.php\":1,\"\\\\/policies\\\\/\":1,\"\\\\/mobile\\\\/internetdotorg\\\\/classifier\\\\/\":1,\"\\\\/zero\\\\/dogfooding\":1,\"\\\\/xti.php\":1,\"\\\\/zero\\\\/fblite\\\\/config\\\\/\":1,\"\\\\/hr\\\\/zsh\\\\/wc\\\\/\":1,\"\\\\/ajax\\\\/bootloader-endpoint\\\\/\":1,\"\\\\/mobile\\\\/zero\\\\/carrier_page\\\\/\":1,\"\\\\/mobile\\\\/zero\\\\/carrier_page\\\\/education_page\\\\/\":1,\"\\\\/mobile\\\\/zero\\\\/carrier_page\\\\/feature_switch\\\\/\":1,\"\\\\/mobile\\\\/zero\\\\/carrier_page\\\\/settings_page\\\\/\":1,\"\\\\/aloha_check_build\":1,\"\\\\/upsell\\\\/zbd\\\\/softnudge\\\\/\":1,\"\\\\/mobile\\\\/zero\\\\/af_transition\\\\/\":1,\"\\\\/mobile\\\\/zero\\\\/af_transition\\\\/action\\\\/\":1,\"\\\\/mobile\\\\/zero\\\\/freemium\\\\/\":1,\"\\\\/mobile\\\\/zero\\\\/freemium\\\\/redirect\\\\/\":1,\"\\\\/mobile\\\\/zero\\\\/freemium\\\\/zero_fup\\\\/\":1,\"\\\\/privacy\\\\/policy\\\\/\":1,\"\\\\/privacy\\\\/center\\\\/\":1,\"\\\\/data\\\\/manifest\\\\/\":1,\"\\\\/4oh4.php\":1,\"\\\\/autologin.php\":1,\"\\\\/birthday_help.php\":1,\"\\\\/checkpoint\\\\/\":1,\"\\\\/contact-importer\\\\/\":1,\"\\\\/cr.php\":1,\"\\\\/legal\\\\/terms\\\\/\":1,\"\\\\/login.php\":1,\"\\\\/login\\\\/\":1,\"\\\\/mobile\\\\/account\\\\/\":1,\"\\\\/n\\\\/\":1,\"\\\\/remote_test_device\\\\/\":1,\"\\\\/upsell\\\\/buy\\\\/\":1,\"\\\\/upsell\\\\/buyconfirm\\\\/\":1,\"\\\\/upsell\\\\/buyresult\\\\/\":1,\"\\\\/upsell\\\\/promos\\\\/\":1,\"\\\\/upsell\\\\/continue\\\\/\":1,\"\\\\/upsell\\\\/h\\\\/promos\\\\/\":1,\"\\\\/upsell\\\\/loan\\\\/learnmore\\\\/\":1,\"\\\\/upsell\\\\/purchase\\\\/\":1,\"\\\\/upsell\\\\/promos\\\\/upgrade\\\\/\":1,\"\\\\/upsell\\\\/buy_redirect\\\\/\":1,\"\\\\/upsell\\\\/loan\\\\/buyconfirm\\\\/\":1,\"\\\\/upsell\\\\/loan\\\\/buy\\\\/\":1,\"\\\\/upsell\\\\/sms\\\\/\":1,\"\\\\/wap\\\\/a\\\\/channel\\\\/reconnect.php\":1,\"\\\\/wap\\\\/a\\\\/nux\\\\/wizard\\\\/nav.php\":1,\"\\\\/wap\\\\/appreg.php\":1,\"\\\\/wap\\\\/birthday_help.php\":1,\"\\\\/wap\\\\/c.php\":1,\"\\\\/wap\\\\/confirmemail.php\":1,\"\\\\/wap\\\\/cr.php\":1,\"\\\\/wap\\\\/login.php\":1,\"\\\\/wap\\\\/r.php\":1,\"\\\\/zero\\\\/datapolicy\":1,\"\\\\/a\\\\/timezone.php\":1,\"\\\\/a\\\\/bz\":1,\"\\\\/bz\\\\/reliability\":1,\"\\\\/r.php\":1,\"\\\\/mr\\\\/\":1,\"\\\\/reg\\\\/\":1,\"\\\\/registration\\\\/log\\\\/\":1,\"\\\\/terms\\\\/\":1,\"\\\\/f123\\\\/\":1,\"\\\\/expert\\\\/\":1,\"\\\\/experts\\\\/\":1,\"\\\\/terms\\\\/index.php\":1,\"\\\\/terms.php\":1,\"\\\\/srr\\\\/\":1,\"\\\\/msite\\\\/redirect\\\\/\":1,\"\\\\/fbs\\\\/pixel\\\\/\":1,\"\\\\/contactpoint\\\\/preconfirmation\\\\/\":1,\"\\\\/contactpoint\\\\/cliff\\\\/\":1,\"\\\\/contactpoint\\\\/confirm\\\\/submit\\\\/\":1,\"\\\\/contactpoint\\\\/confirmed\\\\/\":1,\"\\\\/contactpoint\\\\/login\\\\/\":1,\"\\\\/preconfirmation\\\\/contactpoint_change\\\\/\":1,\"\\\\/help\\\\/contact\\\\/\":1,\"\\\\/survey\\\\/\":1,\"\\\\/upsell\\\\/loyaltytopup\\\\/accept\\\\/\":1,\"\\\\/settings\\\\/\":1,\"\\\\/lite\\\\/\":1,\"\\\\/zero_status_update\\\\/\":1,\"\\\\/operator_store\\\\/\":1,\"\\\\/upsell\\\\/\":1,\"\\\\/wifiauth\\\\/login\\\\/\":1}},1478],[\"WebDriverConfig\",[],{\"isTestRunning\":false,\"isJestE2ETestRun\":false,\"isXRequestConfigEnabled\":false,\"auxiliaryServiceInfo\":{},\"testPath\":null,\"originHost\":null},5332],[\"FbtQTOverrides\",[],{\"overrides\":{}},551],[\"AnalyticsCoreData\",[],{\"device_id\":\"$^|AcaRAAdI1OJhXHevqtf-uKp3QfnOu31J9g1tUKEMKhMRKl27xAykAQZr25ctCH63R1qtsrawAMj4JxNGTsZTdIPn-I0OmbE|fd.AcYTXtjozISOJxCgJdsa1aAaxaRk2uszycsJZ5JqMGk7TVVDgm2aGQph83vtpeHpTr7ylgARmipKjrN4IWWbYhSg\",\"app_id\":\"256281040558\",\"enable_bladerunner\":false,\"enable_ack\":true,\"push_phase\":\"C3\",\"enable_observer\":false,\"enable_cmcd_observer\":false,\"enable_dataloss_timer\":false,\"enable_fallback_for_br\":true,\"queue_activation_experiment\":false,\"max_delay_br_queue\":60000,\"max_delay_br_queue_immediate\":3,\"consents\":{},\"app_universe\":1,\"br_stateful_batching_exp\":true,\"enable_br_stateful_batching\":true,\"enable_non_fb_br_stateless_by_default\":false,\"use_falco_as_mutex_key\":false},5237],[\"cr:1126\",[\"TimeSliceImpl\"],{\"__rc\":[\"TimeSliceImpl\",\"Aa3-3fLFsNK2vEZTS83Y7OcwGadJ6mHV7LhjSHjtk7PcwBgtrbGr6Z2e9dVEpRtSRMirvnvHje0kuRIP6DV8JfA\"]},-1],[\"cr:6640\",[\"PromiseImpl\"],{\"__rc\":[\"PromiseImpl\",\"Aa2BuiPxngJjNMulkbH319lp-Qg-LrU1WR7Av4M5wio_npRLAJryB0NQbpUH-k48by4jh2z630CV63-SFlIE5rFrGcmfSA\"]},-1],[\"cr:806696\",[\"clearTimeoutBlue\"],{\"__rc\":[\"clearTimeoutBlue\",\"Aa0GwjtveHR2LQu6TD2P0jXK0P3DLgTnykCxjOP09t-P561--5U3jWOBqZhiEDG31jpD5M3O9Lif4lOqxaHNXygWLe8\"]},-1],[\"cr:807042\",[\"setTimeoutBlue\"],{\"__rc\":[\"setTimeoutBlue\",\"Aa0GwjtveHR2LQu6TD2P0jXK0P3DLgTnykCxjOP09t-P561--5U3jWOBqZhiEDG31jpD5M3O9Lif4lOqxaHNXygWLe8\"]},-1],[\"cr:925100\",[\"RunBlue\"],{\"__rc\":[\"RunBlue\",\"Aa0GwjtveHR2LQu6TD2P0jXK0P3DLgTnykCxjOP09t-P561--5U3jWOBqZhiEDG31jpD5M3O9Lif4lOqxaHNXygWLe8\"]},-1],[\"cr:696703\",[],{\"__rc\":[null,\"Aa0GwjtveHR2LQu6TD2P0jXK0P3DLgTnykCxjOP09t-P561--5U3jWOBqZhiEDG31jpD5M3O9Lif4lOqxaHNXygWLe8\"]},-1],[\"cr:708886\",[\"EventProfilerImpl\"],{\"__rc\":[\"EventProfilerImpl\",\"Aa0GwjtveHR2LQu6TD2P0jXK0P3DLgTnykCxjOP09t-P561--5U3jWOBqZhiEDG31jpD5M3O9Lif4lOqxaHNXygWLe8\"]},-1],[\"cr:896462\",[\"setIntervalAcrossTransitionsBlue\"],{\"__rc\":[\"setIntervalAcrossTransitionsBlue\",\"Aa0GwjtveHR2LQu6TD2P0jXK0P3DLgTnykCxjOP09t-P561--5U3jWOBqZhiEDG31jpD5M3O9Lif4lOqxaHNXygWLe8\"]},-1],[\"cr:986633\",[\"setTimeoutAcrossTransitionsBlue\"],{\"__rc\":[\"setTimeoutAcrossTransitionsBlue\",\"Aa0GwjtveHR2LQu6TD2P0jXK0P3DLgTnykCxjOP09t-P561--5U3jWOBqZhiEDG31jpD5M3O9Lif4lOqxaHNXygWLe8\"]},-1],[\"cr:1003267\",[\"clearIntervalBlue\"],{\"__rc\":[\"clearIntervalBlue\",\"Aa0GwjtveHR2LQu6TD2P0jXK0P3DLgTnykCxjOP09t-P561--5U3jWOBqZhiEDG31jpD5M3O9Lif4lOqxaHNXygWLe8\"]},-1],[\"cr:1183579\",[\"InlineFbtResultImpl\"],{\"__rc\":[\"InlineFbtResultImpl\",\"Aa0GwjtveHR2LQu6TD2P0jXK0P3DLgTnykCxjOP09t-P561--5U3jWOBqZhiEDG31jpD5M3O9Lif4lOqxaHNXygWLe8\"]},-1],[\"cr:1094907\",[],{\"__rc\":[null,\"Aa2egFWavPf9VRTAtcPU9vu3yuqgCjOanM21YKHUN79CZoYNRBAcjGa1H940sQl16igkcpg6RrP3Y39RyISj1Jc\"]},-1],[\"EventConfig\",[],{\"sampling\":{\"bandwidth\":0,\"play\":0,\"playing\":0,\"progress\":0,\"pause\":0,\"ended\":0,\"seeked\":0,\"seeking\":0,\"waiting\":0,\"loadedmetadata\":0,\"canplay\":0,\"selectionchange\":0,\"change\":0,\"timeupdate\":0,\"adaptation\":0,\"focus\":0,\"blur\":0,\"load\":0,\"error\":0,\"message\":0,\"abort\":0,\"storage\":0,\"scroll\":200000,\"mousemove\":20000,\"mouseover\":10000,\"mouseout\":10000,\"mousewheel\":1,\"MSPointerMove\":10000,\"keydown\":0.1,\"click\":0.02,\"mouseup\":0.02,\"__100ms\":0.001,\"__default\":5000,\"__min\":100,\"__interactionDefault\":200,\"__eventDefault\":100000},\"page_sampling_boost\":1,\"interaction_regexes\":{},\"interaction_boost\":{},\"event_types\":{},\"manual_instrumentation\":false,\"profile_eager_execution\":false,\"disable_heuristic\":true,\"disable_event_profiler\":false},1726],[\"AdsInterfacesSessionConfig\",[],{},2393]],\"require\":[[\"markJSEnabled\"],[\"lowerDomain\"],[\"URLFragmentPrelude\"],[\"Primer\"],[\"BigPipe\"],[\"Bootloader\"],[\"TimeSlice\"],[\"AsyncRequest\"],[\"FbtLogging\"],[\"IntlQtEventFalcoEvent\"],[\"RequireDeferredReference\",\"unblock\",[],[[\"AsyncRequest\",\"FbtLogging\",\"IntlQtEventFalcoEvent\"],\"sd\"]],[\"RequireDeferredReference\",\"unblock\",[],[[\"AsyncRequest\",\"FbtLogging\",\"IntlQtEventFalcoEvent\"],\"css\"]]]});});</script></head><body class=\"fbIndex UIPage_LoggedOut _-kb _605a b_c3pyn-ahh x1 Locale_en_US\" dir=\"ltr\"><script type=\"text/javascript\" nonce=\"4RpN4hF9\">requireLazy([\"bootstrapWebSession\"],function(j){j(1696246168)})</script><div class=\"_li\" id=\"u_0_1_cX\"><div id=\"globalContainer\" class=\"uiContextualLayerParent\"><div class=\"fb_content clearfix \" id=\"content\" role=\"main\"><div><div class=\"_8esj _95k9 _8esf _8opv _8f3m _8ilg _8icx _8op_ _95ka\"><div class=\"_8esk\"><div class=\"_8esl\"><div class=\"_8ice\"><img class=\"fb_logo _8ilh img\" src=\"https://static.xx.fbcdn.net/rsrc.php/yI/r/4aAhOWlwaXf.svg\" alt=\"Facebook\" /></div><h2 class=\"_8eso\">Connect with friends and the world around you on Facebook.</h2></div><div class=\"_8esn\"><div class=\"_8iep _8icy _9ahz _9ah-\"><div class=\"_6luv _52jv\"><form class=\"_9vtf\" data-testid=\"royal_login_form\" action=\"/login/?privacy_mutation_token=eyJ0eXBlIjowLCJjcmVhdGlvbl90aW1lIjoxNjk2MjQ2MTY4LCJjYWxsc2l0ZV9pZCI6MzgxMjI5MDc5NTc1OTQ2fQ%3D%3D\" method=\"post\" onsubmit=\"\" id=\"u_0_2_S1\"><input type=\"hidden\" name=\"jazoest\" value=\"21011\" autocomplete=\"off\" /><input type=\"hidden\" name=\"lsd\" value=\"AVpzDwXY3pc\" autocomplete=\"off\" /><div><div class=\"_6lux\"><input type=\"text\" class=\"inputtext _55r1 _6luy\" name=\"email\" id=\"email\" data-testid=\"royal_email\" placeholder=\"Email or phone number\" autofocus=\"1\" aria-label=\"Email or phone number\" /></div><div class=\"_6lux\"><div class=\"_6luy _55r1 _1kbt\" id=\"passContainer\"><input type=\"password\" class=\"inputtext _55r1 _6luy _9npi\" name=\"pass\" id=\"pass\" data-testid=\"royal_pass\" placeholder=\"Password\" aria-label=\"Password\" /><div class=\"_9ls7\" id=\"u_0_3_uM\"><a href=\"#\" role=\"button\"><div class=\"_9lsa\"><div class=\"_9lsb\" id=\"u_0_4_ck\"></div></div></a></div></div></div></div><input type=\"hidden\" autocomplete=\"off\" name=\"login_source\" value=\"comet_headerless_login\" /><input type=\"hidden\" autocomplete=\"off\" name=\"next\" value=\"\" /><div class=\"_6ltg\"><button value=\"1\" class=\"_42ft _4jy0 _6lth _4jy6 _4jy1 selected _51sy\" name=\"login\" data-testid=\"royal_login_button\" type=\"submit\" id=\"u_0_5_zf\">Log In</button></div><div class=\"_6ltj\"><a href=\"https://www.facebook.com/recover/initiate/?privacy_mutation_token=eyJ0eXBlIjowLCJjcmVhdGlvbl90aW1lIjoxNjk2MjQ2MTY4LCJjYWxsc2l0ZV9pZCI6MzgxMjI5MDc5NTc1OTQ2fQ%3D%3D&amp;ars=facebook_login\">Forgot password?</a></div><div class=\"_8icz\"></div><div class=\"_6ltg\"><a role=\"button\" class=\"_42ft _4jy0 _6lti _4jy6 _4jy2 selected _51sy\" href=\"#\" ajaxify=\"/reg/spotlight/\" id=\"u_0_0_AW\" data-testid=\"open-registration-form-button\" rel=\"async\">Create new account</a></div></form></div><div id=\"reg_pages_msg\" class=\"_58mk\"><a href=\"/pages/create/?ref_type=registration_form\" class=\"_8esh\">Create a Page</a> for a celebrity, brand or business.</div></div></div></div></div></div></div><div class=\"\"><div class=\"_95ke _8opy\"><div id=\"pageFooter\" data-referrer=\"page_footer\" data-testid=\"page_footer\"><ul class=\"uiList localeSelectorList _2pid _509- _4ki _6-h _6-j _6-i\" data-nocookies=\"1\"><li>English (US)</li><li><a class=\"_sv4\" dir=\"ltr\" href=\"https://es-la.facebook.com/\" onclick=\"require(&quot;IntlUtils&quot;).setCookieLocale(&quot;es_LA&quot;, &quot;en_US&quot;, &quot;https:\\\\/\\\\/es-la.facebook.com\\\\/&quot;, &quot;www_list_selector&quot;, 0); return false;\" title=\"Spanish\">Espa\\xc3\\xb1ol</a></li><li><a class=\"_sv4\" dir=\"ltr\" href=\"https://fr-fr.facebook.com/\" onclick=\"require(&quot;IntlUtils&quot;).setCookieLocale(&quot;fr_FR&quot;, &quot;en_US&quot;, &quot;https:\\\\/\\\\/fr-fr.facebook.com\\\\/&quot;, &quot;www_list_selector&quot;, 1); return false;\" title=\"French (France)\">Fran\\xc3\\xa7ais (France)</a></li><li><a class=\"_sv4\" dir=\"ltr\" href=\"https://zh-cn.facebook.com/\" onclick=\"require(&quot;IntlUtils&quot;).setCookieLocale(&quot;zh_CN&quot;, &quot;en_US&quot;, &quot;https:\\\\/\\\\/zh-cn.facebook.com\\\\/&quot;, &quot;www_list_selector&quot;, 2); return false;\" title=\"Simplified Chinese (China)\">\\xe4\\xb8\\xad\\xe6\\x96\\x87(\\xe7\\xae\\x80\\xe4\\xbd\\x93)</a></li><li><a class=\"_sv4\" dir=\"rtl\" href=\"https://ar-ar.facebook.com/\" onclick=\"require(&quot;IntlUtils&quot;).setCookieLocale(&quot;ar_AR&quot;, &quot;en_US&quot;, &quot;https:\\\\/\\\\/ar-ar.facebook.com\\\\/&quot;, &quot;www_list_selector&quot;, 3); return false;\" title=\"Arabic\">\\xd8\\xa7\\xd9\\x84\\xd8\\xb9\\xd8\\xb1\\xd8\\xa8\\xd9\\x8a\\xd8\\xa9</a></li><li><a class=\"_sv4\" dir=\"ltr\" href=\"https://pt-br.facebook.com/\" onclick=\"require(&quot;IntlUtils&quot;).setCookieLocale(&quot;pt_BR&quot;, &quot;en_US&quot;, &quot;https:\\\\/\\\\/pt-br.facebook.com\\\\/&quot;, &quot;www_list_selector&quot;, 4); return false;\" title=\"Portuguese (Brazil)\">Portugu\\xc3\\xaas (Brasil)</a></li><li><a class=\"_sv4\" dir=\"ltr\" href=\"https://it-it.facebook.com/\" onclick=\"require(&quot;IntlUtils&quot;).setCookieLocale(&quot;it_IT&quot;, &quot;en_US&quot;, &quot;https:\\\\/\\\\/it-it.facebook.com\\\\/&quot;, &quot;www_list_selector&quot;, 5); return false;\" title=\"Italian\">Italiano</a></li><li><a class=\"_sv4\" dir=\"ltr\" href=\"https://ko-kr.facebook.com/\" onclick=\"require(&quot;IntlUtils&quot;).setCookieLocale(&quot;ko_KR&quot;, &quot;en_US&quot;, &quot;https:\\\\/\\\\/ko-kr.facebook.com\\\\/&quot;, &quot;www_list_selector&quot;, 6); return false;\" title=\"Korean\">\\xed\\x95\\x9c\\xea\\xb5\\xad\\xec\\x96\\xb4</a></li><li><a class=\"_sv4\" dir=\"ltr\" href=\"https://de-de.facebook.com/\" onclick=\"require(&quot;IntlUtils&quot;).setCookieLocale(&quot;de_DE&quot;, &quot;en_US&quot;, &quot;https:\\\\/\\\\/de-de.facebook.com\\\\/&quot;, &quot;www_list_selector&quot;, 7); return false;\" title=\"German\">Deutsch</a></li><li><a class=\"_sv4\" dir=\"ltr\" href=\"https://hi-in.facebook.com/\" onclick=\"require(&quot;IntlUtils&quot;).setCookieLocale(&quot;hi_IN&quot;, &quot;en_US&quot;, &quot;https:\\\\/\\\\/hi-in.facebook.com\\\\/&quot;, &quot;www_list_selector&quot;, 8); return false;\" title=\"Hindi\">\\xe0\\xa4\\xb9\\xe0\\xa4\\xbf\\xe0\\xa4\\xa8\\xe0\\xa5\\x8d\\xe0\\xa4\\xa6\\xe0\\xa5\\x80</a></li><li><a class=\"_sv4\" dir=\"ltr\" href=\"https://ja-jp.facebook.com/\" onclick=\"require(&quot;IntlUtils&quot;).setCookieLocale(&quot;ja_JP&quot;, &quot;en_US&quot;, &quot;https:\\\\/\\\\/ja-jp.facebook.com\\\\/&quot;, &quot;www_list_selector&quot;, 9); return false;\" title=\"Japanese\">\\xe6\\x97\\xa5\\xe6\\x9c\\xac\\xe8\\xaa\\x9e</a></li><li><a role=\"button\" class=\"_42ft _4jy0 _517i _517h _51sy\" rel=\"dialog\" ajaxify=\"/settings/language/language/?uri=https%3A%2F%2Fja-jp.facebook.com%2F&amp;source=www_list_selector_more\" href=\"#\" title=\"Show more languages\"><i class=\"img sp_EP9wX8qDDvu sx_0de3e6\"></i></a></li></ul><div id=\"contentCurve\"></div><div id=\"pageFooterChildren\" role=\"contentinfo\" aria-label=\"Facebook site links\"><ul class=\"uiList pageFooterLinkList _509- _4ki _703 _6-i\"><li><a href=\"/reg/\" title=\"Sign Up for Facebook\">Sign Up</a></li><li><a href=\"/login/\" title=\"Log into Facebook\">Log In</a></li><li><a href=\"https://messenger.com/\" title=\"Check out Messenger.\">Messenger</a></li><li><a href=\"/lite/\" title=\"Facebook Lite for Android.\">Facebook Lite</a></li><li><a href=\"https://www.facebook.com/watch/\" title=\"Browse in Video\">Video</a></li><li><a href=\"/places/\" title=\"Check out popular places on Facebook.\">Places</a></li><li><a href=\"/games/\" title=\"Check out Facebook games.\">Games</a></li><li><a href=\"/marketplace/\" title=\"Buy and sell on Facebook Marketplace.\">Marketplace</a></li><li><a href=\"https://pay.facebook.com/\" title=\"Learn more about Meta Pay\" target=\"_blank\">Meta Pay</a></li><li><a href=\"https://www.meta.com/\" title=\"Check out Meta\" target=\"_blank\">Meta Store</a></li><li><a href=\"https://www.meta.com/quest/\" title=\"Learn more about Meta Quest\" target=\"_blank\">Meta Quest</a></li><li><a href=\"https://l.facebook.com/l.php?u=https%3A%2F%2Fwww.instagram.com%2F&amp;h=AT0Bs5WDcy6TCgtcu417V4zqcQbLo8uDiZJzYdXU6AKwCU1qZbP0PecGKgaWd1L5uFFU6NnFfofCZk1OhiGbZp2n_GtQYgcuU-_UtTSIeS3CNi-Bcjm7WOlGOrE-Ap5jndwaa660gg9bEAGu\" title=\"Check out Instagram\" target=\"_blank\" rel=\"nofollow\" data-lynx-mode=\"hover\">Instagram</a></li><li><a href=\"https://l.facebook.com/l.php?u=https%3A%2F%2Fwww.threads.net%2F&amp;h=AT2Y8lIW-ylGeoNYqD7-cma7CzrsMuqArCQvilV83vIN9FHUJ2j5oQyjaMh8spt6tN6YBdMe74agkuQqoq5j_UtVg8Tx5VK3mQKUVWG2IDAesrDYrbkU4qrY11UnM_JfKdp4ZZcYeavFEqQv\" title=\"Check out Threads\" target=\"_blank\" rel=\"nofollow\" data-lynx-mode=\"hover\">Threads</a></li><li><a href=\"/fundraisers/\" title=\"Donate to worthy causes.\">Fundraisers</a></li><li><a href=\"/biz/directory/\" title=\"Browse our Facebook Services directory.\">Services</a></li><li><a href=\"/votinginformationcenter/?entry_point=c2l0ZQ%3D%3D\" title=\"See the Voting Information Center.\">Voting Information Center</a></li><li><a href=\"/privacy/policy/?entry_point=facebook_page_footer\" title=\"Learn how we collect, use and share information to support Facebook.\">Privacy Policy</a></li><li><a href=\"/privacy/center/?entry_point=facebook_page_footer\" title=\"Learn how to manage and control your privacy on Facebook.\">Privacy Center</a></li><li><a href=\"/groups/discover/\" title=\"Explore our Groups.\">Groups</a></li><li><a href=\"https://about.meta.com/\" accesskey=\"8\" title=\"Read our blog, discover the resource center, and find job opportunities.\">About</a></li><li><a href=\"/ad_campaign/landing.php?placement=pflo&amp;campaign_id=402047449186&amp;nav_source=unknown&amp;extra_1=auto\" title=\"Advertise on Facebook.\">Create ad</a></li><li><a href=\"/pages/create/?ref_type=site_footer\" title=\"Create a page\">Create Page</a></li><li><a href=\"https://developers.facebook.com/?ref=pf\" title=\"Develop on our platform.\">Developers</a></li><li><a href=\"/careers/?ref=pf\" title=\"Make your next career move to our awesome company.\">Careers</a></li><li><a href=\"/policies/cookies/\" title=\"Learn about cookies and Facebook.\" data-nocookies=\"1\">Cookies</a></li><li><a class=\"_41ug\" data-nocookies=\"1\" href=\"https://www.facebook.com/help/568137493302217\" title=\"Learn about Ad Choices.\">Ad choices<i class=\"img sp_EP9wX8qDDvu sx_6bdd81\"></i></a></li><li><a data-nocookies=\"1\" href=\"/policies?ref=pf\" accesskey=\"9\" title=\"Review our terms and policies.\">Terms</a></li><li><a href=\"/help/?ref=pf\" accesskey=\"0\" title=\"Visit our Help Center.\">Help</a></li><li><a href=\"help/637205020878504\" title=\"Visit our Contact Uploading &amp; Non-Users Notice.\">Contact Uploading &amp; Non-Users</a></li><li><a accesskey=\"6\" class=\"accessible_elem\" href=\"/settings\" title=\"View and edit your Facebook settings.\">Settings</a></li><li><a accesskey=\"7\" class=\"accessible_elem\" href=\"/allactivity?privacy_source=activity_log_top_menu\" title=\"View your activity log\">Activity log</a></li></ul></div><div class=\"mvl copyright\"><div><span> Meta \\xc2\\xa9 2023</span></div></div></div></div></div></div><div></div><span><img src=\"https://facebook.com/security/hsts-pixel.gif?c=3.2.5\" width=\"0\" height=\"0\" style=\"display:none\" /></span></div><div style=\"display:none\"></div>\\n<script>requireLazy([\"HasteSupportData\"],function(m){m.handle({\"bxData\":{\"875231\":{\"uri\":\"https:\\\\/\\\\/static.xx.fbcdn.net\\\\/rsrc.php\\\\/yD\\\\/r\\\\/d4ZIVX-5C-b.ico\"}},\"gkxData\":{\"996940\":{\"result\":false,\"hash\":\"AT7opYuEGy3sjG1a61Y\"}}})});requireLazy([\"Bootloader\"],function(m){m.handlePayload({\"consistency\":{\"rev\":1008975542},\"rsrcMap\":{\"GPHaZlx\":{\"type\":\"js\",\"src\":\"https:\\\\/\\\\/static.xx.fbcdn.net\\\\/rsrc.php\\\\/v3igis4\\\\/yd\\\\/l\\\\/en_US\\\\/ZzLo6tj2BGy.js?_nc_x=Ij3Wp8lg5Kz\",\"nc\":1},\"1QwLAOU\":{\"type\":\"js\",\"src\":\"https:\\\\/\\\\/static.xx.fbcdn.net\\\\/rsrc.php\\\\/v3\\\\/yt\\\\/r\\\\/d4QqVJOdC1V.js?_nc_x=Ij3Wp8lg5Kz\",\"nc\":1},\"jHUJgeS\":{\"type\":\"js\",\"src\":\"https:\\\\/\\\\/static.xx.fbcdn.net\\\\/rsrc.php\\\\/v3\\\\/yd\\\\/r\\\\/D8yA-TXiNuk.js?_nc_x=Ij3Wp8lg5Kz\",\"nc\":1},\"CwChZtC\":{\"type\":\"js\",\"src\":\"https:\\\\/\\\\/static.xx.fbcdn.net\\\\/rsrc.php\\\\/v3\\\\/yk\\\\/r\\\\/5Lpd1SWfz0K.js?_nc_x=Ij3Wp8lg5Kz\",\"nc\":1},\"\\\\/1D0E1S\":{\"type\":\"js\",\"src\":\"https:\\\\/\\\\/static.xx.fbcdn.net\\\\/rsrc.php\\\\/v3\\\\/yz\\\\/r\\\\/OI6yJ5DDoTy.js?_nc_x=Ij3Wp8lg5Kz\",\"nc\":1},\"2qb5Dfk\":{\"type\":\"js\",\"src\":\"https:\\\\/\\\\/static.xx.fbcdn.net\\\\/rsrc.php\\\\/v3\\\\/yb\\\\/r\\\\/TPdUEkA5C5u.js?_nc_x=Ij3Wp8lg5Kz\",\"nc\":1},\"6tTjOTm\":{\"type\":\"js\",\"src\":\"https:\\\\/\\\\/static.xx.fbcdn.net\\\\/rsrc.php\\\\/v3\\\\/yh\\\\/r\\\\/bpW4eEg-2_W.js?_nc_x=Ij3Wp8lg5Kz\",\"nc\":1},\"ZdCPifI\":{\"type\":\"js\",\"src\":\"https:\\\\/\\\\/static.xx.fbcdn.net\\\\/rsrc.php\\\\/v3\\\\/yU\\\\/r\\\\/WpZmEY4bcoe.js?_nc_x=Ij3Wp8lg5Kz\",\"nc\":1},\"BCv7ubz\":{\"type\":\"js\",\"src\":\"https:\\\\/\\\\/static.xx.fbcdn.net\\\\/rsrc.php\\\\/v3\\\\/yr\\\\/r\\\\/6XlDJXhMTmo.js?_nc_x=Ij3Wp8lg5Kz\",\"nc\":1},\"coXAcdj\":{\"type\":\"js\",\"src\":\"https:\\\\/\\\\/static.xx.fbcdn.net\\\\/rsrc.php\\\\/v3\\\\/yk\\\\/r\\\\/kg_LcWkMBGy.js?_nc_x=Ij3Wp8lg5Kz\",\"nc\":1},\"ionYQ7M\":{\"type\":\"js\",\"src\":\"https:\\\\/\\\\/static.xx.fbcdn.net\\\\/rsrc.php\\\\/v3\\\\/yI\\\\/r\\\\/8iBPf52GdU5.js?_nc_x=Ij3Wp8lg5Kz\",\"nc\":1},\"w3F04Bn\":{\"type\":\"js\",\"src\":\"https:\\\\/\\\\/static.xx.fbcdn.net\\\\/rsrc.php\\\\/v3i8JF4\\\\/yB\\\\/l\\\\/en_US\\\\/qKEruLrkOQg.js?_nc_x=Ij3Wp8lg5Kz\",\"nc\":1},\"9NiATAn\":{\"type\":\"js\",\"src\":\"https:\\\\/\\\\/static.xx.fbcdn.net\\\\/rsrc.php\\\\/v3\\\\/yv\\\\/r\\\\/yRuFCzueB7p.js?_nc_x=Ij3Wp8lg5Kz\",\"nc\":1},\"Leu9nA5\":{\"type\":\"js\",\"src\":\"https:\\\\/\\\\/static.xx.fbcdn.net\\\\/rsrc.php\\\\/v3\\\\/yA\\\\/r\\\\/EBZ0dGMxczi.js?_nc_x=Ij3Wp8lg5Kz\",\"nc\":1},\"FNJaVUT\":{\"type\":\"js\",\"src\":\"https:\\\\/\\\\/static.xx.fbcdn.net\\\\/rsrc.php\\\\/v3i7M54\\\\/yM\\\\/l\\\\/en_US\\\\/LKOC0D0Ap0H.js?_nc_x=Ij3Wp8lg5Kz\",\"nc\":1},\"dAWNZ\\\\/s\":{\"type\":\"js\",\"src\":\"https:\\\\/\\\\/static.xx.fbcdn.net\\\\/rsrc.php\\\\/v3\\\\/yF\\\\/r\\\\/gb_2sOlx922.js?_nc_x=Ij3Wp8lg5Kz\",\"nc\":1},\"wksQFaG\":{\"type\":\"js\",\"src\":\"https:\\\\/\\\\/static.xx.fbcdn.net\\\\/rsrc.php\\\\/v3\\\\/yT\\\\/r\\\\/O-slAwrPi5S.js?_nc_x=Ij3Wp8lg5Kz\",\"nc\":1},\"R5w1rCJ\":{\"type\":\"js\",\"src\":\"https:\\\\/\\\\/static.xx.fbcdn.net\\\\/rsrc.php\\\\/v3\\\\/yF\\\\/r\\\\/p55HfXW__mM.js?_nc_x=Ij3Wp8lg5Kz\",\"nc\":1},\"sgVKv39\":{\"type\":\"js\",\"src\":\"https:\\\\/\\\\/static.xx.fbcdn.net\\\\/rsrc.php\\\\/v3\\\\/yY\\\\/r\\\\/T40ueQB90Wk.js?_nc_x=Ij3Wp8lg5Kz\",\"nc\":1},\"l89Xlsk\":{\"type\":\"js\",\"src\":\"https:\\\\/\\\\/static.xx.fbcdn.net\\\\/rsrc.php\\\\/v3\\\\/ye\\\\/r\\\\/yUtEQ4ajXZI.js?_nc_x=Ij3Wp8lg5Kz\",\"nc\":1},\"QEWvfQt\":{\"type\":\"js\",\"src\":\"https:\\\\/\\\\/static.xx.fbcdn.net\\\\/rsrc.php\\\\/v3\\\\/y2\\\\/r\\\\/Szq51TCr-iX.js?_nc_x=Ij3Wp8lg5Kz\",\"nc\":1},\"G1qwYcZ\":{\"type\":\"css\",\"src\":\"https:\\\\/\\\\/static.xx.fbcdn.net\\\\/rsrc.php\\\\/v3\\\\/y_\\\\/l\\\\/0,cross\\\\/mrVze2Lpz8K.css?_nc_x=Ij3Wp8lg5Kz\",\"nc\":1},\"CGkH4FY\":{\"type\":\"js\",\"src\":\"https:\\\\/\\\\/static.xx.fbcdn.net\\\\/rsrc.php\\\\/v3\\\\/yZ\\\\/r\\\\/x4Eyp9nQ1uk.js?_nc_x=Ij3Wp8lg5Kz\",\"nc\":1},\"oRJJljL\":{\"type\":\"js\",\"src\":\"https:\\\\/\\\\/static.xx.fbcdn.net\\\\/rsrc.php\\\\/v3iPwL4\\\\/yi\\\\/l\\\\/en_US\\\\/AAnuEkJqILS.js?_nc_x=Ij3Wp8lg5Kz\",\"nc\":1},\"RqVBwxl\":{\"type\":\"js\",\"src\":\"https:\\\\/\\\\/static.xx.fbcdn.net\\\\/rsrc.php\\\\/v3ilBJ4\\\\/yi\\\\/l\\\\/en_US\\\\/s2x7e79bToY.js?_nc_x=Ij3Wp8lg5Kz\",\"nc\":1},\"jFE2rmn\":{\"type\":\"js\",\"src\":\"https:\\\\/\\\\/static.xx.fbcdn.net\\\\/rsrc.php\\\\/v3ikPw4\\\\/yN\\\\/l\\\\/en_US\\\\/TEYu8cutI8u.js?_nc_x=Ij3Wp8lg5Kz\",\"nc\":1},\"CjQet1P\":{\"type\":\"js\",\"src\":\"https:\\\\/\\\\/static.xx.fbcdn.net\\\\/rsrc.php\\\\/v3\\\\/y7\\\\/r\\\\/gHLOrYAzc3h.js?_nc_x=Ij3Wp8lg5Kz\",\"nc\":1},\"TdcELXE\":{\"type\":\"js\",\"src\":\"https:\\\\/\\\\/static.xx.fbcdn.net\\\\/rsrc.php\\\\/v3\\\\/yw\\\\/r\\\\/4nHwJP4CHoN.js?_nc_x=Ij3Wp8lg5Kz\",\"nc\":1},\"pqumXvu\":{\"type\":\"js\",\"src\":\"https:\\\\/\\\\/static.xx.fbcdn.net\\\\/rsrc.php\\\\/v3\\\\/y7\\\\/r\\\\/HeSmjwIBYdp.js?_nc_x=Ij3Wp8lg5Kz\",\"nc\":1},\"XWnp19q\":{\"type\":\"js\",\"src\":\"https:\\\\/\\\\/static.xx.fbcdn.net\\\\/rsrc.php\\\\/v3\\\\/yB\\\\/r\\\\/DjKjUpSELQF.js?_nc_x=Ij3Wp8lg5Kz\",\"nc\":1},\"ABzacem\":{\"type\":\"js\",\"src\":\"https:\\\\/\\\\/static.xx.fbcdn.net\\\\/rsrc.php\\\\/v3iaO64\\\\/y6\\\\/l\\\\/en_US\\\\/oP_9DzPH3of.js?_nc_x=Ij3Wp8lg5Kz\",\"nc\":1},\"94d96LK\":{\"type\":\"js\",\"src\":\"https:\\\\/\\\\/static.xx.fbcdn.net\\\\/rsrc.php\\\\/v3icYN4\\\\/y2\\\\/l\\\\/en_US\\\\/tCmQd2kJlw7.js?_nc_x=Ij3Wp8lg5Kz\",\"nc\":1},\"75Jr8vb\":{\"type\":\"js\",\"src\":\"https:\\\\/\\\\/static.xx.fbcdn.net\\\\/rsrc.php\\\\/v3\\\\/y3\\\\/r\\\\/DhRTirRgsBC.js?_nc_x=Ij3Wp8lg5Kz\",\"nc\":1},\"DhnvByp\":{\"type\":\"css\",\"src\":\"https:\\\\/\\\\/static.xx.fbcdn.net\\\\/rsrc.php\\\\/v3\\\\/ym\\\\/l\\\\/0,cross\\\\/JdjJQCDdcTl.css?_nc_x=Ij3Wp8lg5Kz\",\"nc\":1},\"7htsK4n\":{\"type\":\"css\",\"src\":\"https:\\\\/\\\\/static.xx.fbcdn.net\\\\/rsrc.php\\\\/v3\\\\/yK\\\\/l\\\\/0,cross\\\\/v4KKMp2VF8t.css?_nc_x=Ij3Wp8lg5Kz\",\"nc\":1},\"MkqgjDy\":{\"type\":\"js\",\"src\":\"https:\\\\/\\\\/static.xx.fbcdn.net\\\\/rsrc.php\\\\/v3\\\\/yz\\\\/r\\\\/Q03vRxeEwUN.js?_nc_x=Ij3Wp8lg5Kz\",\"nc\":1},\"u9RiAvG\":{\"type\":\"js\",\"src\":\"https:\\\\/\\\\/static.xx.fbcdn.net\\\\/rsrc.php\\\\/v3iIma4\\\\/yA\\\\/l\\\\/en_US\\\\/VSBKogMqWMA.js?_nc_x=Ij3Wp8lg5Kz\",\"nc\":1},\"C1EfGym\":{\"type\":\"js\",\"src\":\"https:\\\\/\\\\/static.xx.fbcdn.net\\\\/rsrc.php\\\\/v3\\\\/yZ\\\\/r\\\\/DjU0d_ZlKOL.js?_nc_x=Ij3Wp8lg5Kz\",\"nc\":1},\"bZY8HBk\":{\"type\":\"js\",\"src\":\"https:\\\\/\\\\/static.xx.fbcdn.net\\\\/rsrc.php\\\\/v3ipt64\\\\/ys\\\\/l\\\\/en_US\\\\/iZ9NX1JFrUs.js?_nc_x=Ij3Wp8lg5Kz\",\"nc\":1},\"ryvO5RA\":{\"type\":\"js\",\"src\":\"https:\\\\/\\\\/static.xx.fbcdn.net\\\\/rsrc.php\\\\/v3\\\\/yv\\\\/r\\\\/Fh9q8WThRHe.js?_nc_x=Ij3Wp8lg5Kz\",\"nc\":1},\"1cAY3iJ\":{\"type\":\"css\",\"src\":\"https:\\\\/\\\\/static.xx.fbcdn.net\\\\/rsrc.php\\\\/v3\\\\/yA\\\\/l\\\\/0,cross\\\\/diYWtwoseIT.css?_nc_x=Ij3Wp8lg5Kz\",\"nc\":1},\"UtssFLi\":{\"type\":\"js\",\"src\":\"https:\\\\/\\\\/static.xx.fbcdn.net\\\\/rsrc.php\\\\/v3\\\\/yj\\\\/r\\\\/1K9uvG1oz0w.js?_nc_x=Ij3Wp8lg5Kz\",\"nc\":1},\"8Fzv9FW\":{\"type\":\"js\",\"src\":\"https:\\\\/\\\\/static.xx.fbcdn.net\\\\/rsrc.php\\\\/v3\\\\/yp\\\\/r\\\\/dEv5R1m2DYP.js?_nc_x=Ij3Wp8lg5Kz\",\"nc\":1},\"CMsup3q\":{\"type\":\"js\",\"src\":\"https:\\\\/\\\\/static.xx.fbcdn.net\\\\/rsrc.php\\\\/v3iTQy4\\\\/yQ\\\\/l\\\\/en_US\\\\/yDKegy3oaxE.js?_nc_x=Ij3Wp8lg5Kz\",\"nc\":1},\"kHxYW2r\":{\"type\":\"js\",\"src\":\"https:\\\\/\\\\/static.xx.fbcdn.net\\\\/rsrc.php\\\\/v3\\\\/yc\\\\/r\\\\/X7XBHfZNzTr.js?_nc_x=Ij3Wp8lg5Kz\",\"nc\":1},\"XcVcWgD\":{\"type\":\"js\",\"src\":\"https:\\\\/\\\\/static.xx.fbcdn.net\\\\/rsrc.php\\\\/v3\\\\/yt\\\\/r\\\\/jIUN0Hn2kpD.js?_nc_x=Ij3Wp8lg5Kz\",\"nc\":1},\"WA6KFzs\":{\"type\":\"js\",\"src\":\"https:\\\\/\\\\/static.xx.fbcdn.net\\\\/rsrc.php\\\\/v3\\\\/yt\\\\/r\\\\/KpfFAAY29Zf.js?_nc_x=Ij3Wp8lg5Kz\",\"nc\":1},\"4KnEfZE\":{\"type\":\"js\",\"src\":\"https:\\\\/\\\\/static.xx.fbcdn.net\\\\/rsrc.php\\\\/v3\\\\/yJ\\\\/r\\\\/QbphG1CSRLN.js?_nc_x=Ij3Wp8lg5Kz\",\"nc\":1},\"hF+yknE\":{\"type\":\"css\",\"src\":\"https:\\\\/\\\\/static.xx.fbcdn.net\\\\/rsrc.php\\\\/v3\\\\/yA\\\\/l\\\\/0,cross\\\\/ChqP_coWK1y.css?_nc_x=Ij3Wp8lg5Kz\",\"nc\":1},\"4F+5DV6\":{\"type\":\"js\",\"src\":\"https:\\\\/\\\\/static.xx.fbcdn.net\\\\/rsrc.php\\\\/v3\\\\/yD\\\\/r\\\\/yhOIywA2dto.js?_nc_x=Ij3Wp8lg5Kz\",\"nc\":1},\"JqWUWlL\":{\"type\":\"css\",\"src\":\"https:\\\\/\\\\/static.xx.fbcdn.net\\\\/rsrc.php\\\\/v3\\\\/y4\\\\/l\\\\/0,cross\\\\/bCio8PCtPdO.css?_nc_x=Ij3Wp8lg5Kz\",\"nc\":1},\"fXYWKEw\":{\"type\":\"js\",\"src\":\"https:\\\\/\\\\/static.xx.fbcdn.net\\\\/rsrc.php\\\\/v3\\\\/yb\\\\/r\\\\/X98p6omdveu.js?_nc_x=Ij3Wp8lg5Kz\",\"nc\":1},\"qZTUWEd\":{\"type\":\"js\",\"src\":\"https:\\\\/\\\\/static.xx.fbcdn.net\\\\/rsrc.php\\\\/v3\\\\/yO\\\\/r\\\\/BfHC3jocfGH.js?_nc_x=Ij3Wp8lg5Kz\",\"nc\":1},\"A99V4gr\":{\"type\":\"js\",\"src\":\"https:\\\\/\\\\/static.xx.fbcdn.net\\\\/rsrc.php\\\\/v3itDX4\\\\/yQ\\\\/l\\\\/en_US\\\\/v_BLw9F_Mxf.js?_nc_x=Ij3Wp8lg5Kz\",\"nc\":1},\"3M\\\\/Iqpr\":{\"type\":\"css\",\"src\":\"https:\\\\/\\\\/static.xx.fbcdn.net\\\\/rsrc.php\\\\/v3\\\\/yN\\\\/l\\\\/0,cross\\\\/_81jCyZgKTr.css?_nc_x=Ij3Wp8lg5Kz\",\"nc\":1},\"lsSwEYN\":{\"type\":\"js\",\"src\":\"https:\\\\/\\\\/static.xx.fbcdn.net\\\\/rsrc.php\\\\/v3\\\\/yG\\\\/r\\\\/K3qKc0LZC6p.js?_nc_x=Ij3Wp8lg5Kz\",\"nc\":1},\"oVqwFRd\":{\"type\":\"js\",\"src\":\"https:\\\\/\\\\/static.xx.fbcdn.net\\\\/rsrc.php\\\\/v3iLBs4\\\\/yL\\\\/l\\\\/en_US\\\\/j8i05okmwkV.js?_nc_x=Ij3Wp8lg5Kz\",\"nc\":1},\"izv6P\\\\/t\":{\"type\":\"js\",\"src\":\"https:\\\\/\\\\/static.xx.fbcdn.net\\\\/rsrc.php\\\\/v3id044\\\\/y8\\\\/l\\\\/en_US\\\\/_HJX2B0bhpO.js?_nc_x=Ij3Wp8lg5Kz\",\"nc\":1},\"vmNSp+b\":{\"type\":\"js\",\"src\":\"https:\\\\/\\\\/static.xx.fbcdn.net\\\\/rsrc.php\\\\/v3ikec4\\\\/yL\\\\/l\\\\/en_US\\\\/AFx1Rrinz5i.js?_nc_x=Ij3Wp8lg5Kz\",\"nc\":1},\"ZgBqrnG\":{\"type\":\"js\",\"src\":\"https:\\\\/\\\\/static.xx.fbcdn.net\\\\/rsrc.php\\\\/v3\\\\/y5\\\\/r\\\\/Gf9YrMsrpfu.js?_nc_x=Ij3Wp8lg5Kz\",\"nc\":1},\"S9qhtvK\":{\"type\":\"js\",\"src\":\"https:\\\\/\\\\/static.xx.fbcdn.net\\\\/rsrc.php\\\\/v3\\\\/yn\\\\/r\\\\/q01KH9Ay1Mw.js?_nc_x=Ij3Wp8lg5Kz\",\"nc\":1},\"T\\\\/0tn53\":{\"type\":\"js\",\"src\":\"https:\\\\/\\\\/static.xx.fbcdn.net\\\\/rsrc.php\\\\/v3i_QM4\\\\/yY\\\\/l\\\\/en_US\\\\/vam5ANfp7pv.js?_nc_x=Ij3Wp8lg5Kz\",\"nc\":1},\"HZbqH8S\":{\"type\":\"js\",\"src\":\"https:\\\\/\\\\/static.xx.fbcdn.net\\\\/rsrc.php\\\\/v3\\\\/yc\\\\/r\\\\/yPMN7lh3svS.js?_nc_x=Ij3Wp8lg5Kz\",\"nc\":1},\"DYJo7NV\":{\"type\":\"js\",\"src\":\"https:\\\\/\\\\/static.xx.fbcdn.net\\\\/rsrc.php\\\\/v3\\\\/ym\\\\/r\\\\/R_qswDMOLWA.js?_nc_x=Ij3Wp8lg5Kz\",\"nc\":1},\"zPAkIeI\":{\"type\":\"js\",\"src\":\"https:\\\\/\\\\/static.xx.fbcdn.net\\\\/rsrc.php\\\\/v3iqES4\\\\/yB\\\\/l\\\\/en_US\\\\/xWVLjJ40HKK.js?_nc_x=Ij3Wp8lg5Kz\",\"nc\":1},\"AxRJL+1\":{\"type\":\"css\",\"src\":\"https:\\\\/\\\\/static.xx.fbcdn.net\\\\/rsrc.php\\\\/v3\\\\/ys\\\\/l\\\\/0,cross\\\\/dodkZ7-8MGS.css?_nc_x=Ij3Wp8lg5Kz\",\"nc\":1},\"3JBnIZl\":{\"type\":\"js\",\"src\":\"https:\\\\/\\\\/static.xx.fbcdn.net\\\\/rsrc.php\\\\/v3iwdk4\\\\/y5\\\\/l\\\\/en_US\\\\/n5Lcb4Gz-ub.js?_nc_x=Ij3Wp8lg5Kz\",\"nc\":1},\"zr1S4PD\":{\"type\":\"js\",\"src\":\"https:\\\\/\\\\/static.xx.fbcdn.net\\\\/rsrc.php\\\\/v3\\\\/yz\\\\/r\\\\/x6h41fm56b9.js?_nc_x=Ij3Wp8lg5Kz\",\"nc\":1},\"iNUTR8P\":{\"type\":\"css\",\"src\":\"https:\\\\/\\\\/static.xx.fbcdn.net\\\\/rsrc.php\\\\/v3\\\\/yY\\\\/l\\\\/0,cross\\\\/Yx_g4Z2Wwl7.css?_nc_x=Ij3Wp8lg5Kz\",\"nc\":1},\"nNxjF+N\":{\"type\":\"js\",\"src\":\"https:\\\\/\\\\/static.xx.fbcdn.net\\\\/rsrc.php\\\\/v3iLl54\\\\/yw\\\\/l\\\\/en_US\\\\/3aneYtmk4Hi.js?_nc_x=Ij3Wp8lg5Kz\",\"nc\":1},\"jsute0I\":{\"type\":\"css\",\"src\":\"https:\\\\/\\\\/static.xx.fbcdn.net\\\\/rsrc.php\\\\/v3\\\\/yw\\\\/l\\\\/0,cross\\\\/ED-U4Yemxjc.css?_nc_x=Ij3Wp8lg5Kz\",\"nc\":1},\"N\\\\/rx1QF\":{\"type\":\"css\",\"src\":\"https:\\\\/\\\\/static.xx.fbcdn.net\\\\/rsrc.php\\\\/v3\\\\/y7\\\\/l\\\\/0,cross\\\\/UURohTp354p.css?_nc_x=Ij3Wp8lg5Kz\",\"nc\":1},\"QIfrE\\\\/P\":{\"type\":\"css\",\"src\":\"https:\\\\/\\\\/static.xx.fbcdn.net\\\\/rsrc.php\\\\/v3\\\\/yk\\\\/l\\\\/0,cross\\\\/HKgKiES0l0c.css?_nc_x=Ij3Wp8lg5Kz\",\"nc\":1},\"SSqxbKw\":{\"type\":\"js\",\"src\":\"https:\\\\/\\\\/static.xx.fbcdn.net\\\\/rsrc.php\\\\/v3\\\\/yq\\\\/r\\\\/3_9xDuLUF9M.js?_nc_x=Ij3Wp8lg5Kz\",\"nc\":1},\"vUbYxOK\":{\"type\":\"css\",\"src\":\"https:\\\\/\\\\/static.xx.fbcdn.net\\\\/rsrc.php\\\\/v3\\\\/yx\\\\/l\\\\/0,cross\\\\/fpBO7L1cTlS.css?_nc_x=Ij3Wp8lg5Kz\",\"nc\":1},\"lOZh+G3\":{\"type\":\"js\",\"src\":\"https:\\\\/\\\\/static.xx.fbcdn.net\\\\/rsrc.php\\\\/v3\\\\/yR\\\\/r\\\\/7DkCixLyboS.js?_nc_x=Ij3Wp8lg5Kz\",\"nc\":1},\"90wYn79\":{\"type\":\"js\",\"src\":\"https:\\\\/\\\\/static.xx.fbcdn.net\\\\/rsrc.php\\\\/v3iz8e4\\\\/yA\\\\/l\\\\/en_US\\\\/tik7lu_vBQr.js?_nc_x=Ij3Wp8lg5Kz\",\"nc\":1},\"gWMJgTe\":{\"type\":\"js\",\"src\":\"https:\\\\/\\\\/static.xx.fbcdn.net\\\\/rsrc.php\\\\/v3\\\\/yH\\\\/r\\\\/iGksp69foR_.js?_nc_x=Ij3Wp8lg5Kz\",\"nc\":1},\"hIek+bG\":{\"type\":\"js\",\"src\":\"https:\\\\/\\\\/static.xx.fbcdn.net\\\\/rsrc.php\\\\/v3\\\\/yY\\\\/r\\\\/DZ_VBlsy-dC.js?_nc_x=Ij3Wp8lg5Kz\",\"nc\":1},\"rCasuzG\":{\"type\":\"js\",\"src\":\"https:\\\\/\\\\/static.xx.fbcdn.net\\\\/rsrc.php\\\\/v3\\\\/yA\\\\/r\\\\/OzWmCcYw0wO.js?_nc_x=Ij3Wp8lg5Kz\",\"nc\":1},\"Pmrrzla\":{\"type\":\"js\",\"src\":\"https:\\\\/\\\\/static.xx.fbcdn.net\\\\/rsrc.php\\\\/v3iAdp4\\\\/yK\\\\/l\\\\/en_US\\\\/uVoPSsZXQnF.js?_nc_x=Ij3Wp8lg5Kz\",\"nc\":1},\"x22Oby4\":{\"type\":\"js\",\"src\":\"https:\\\\/\\\\/static.xx.fbcdn.net\\\\/rsrc.php\\\\/v3\\\\/yZ\\\\/r\\\\/tVshp1OIV9l.js?_nc_x=Ij3Wp8lg5Kz\",\"nc\":1},\"SWx3yNv\":{\"type\":\"js\",\"src\":\"https:\\\\/\\\\/static.xx.fbcdn.net\\\\/rsrc.php\\\\/v3\\\\/y7\\\\/r\\\\/g__eV5OXSXl.js?_nc_x=Ij3Wp8lg5Kz\",\"nc\":1},\"VF\\\\/T8Qr\":{\"type\":\"js\",\"src\":\"https:\\\\/\\\\/static.xx.fbcdn.net\\\\/rsrc.php\\\\/v3iQYZ4\\\\/yE\\\\/l\\\\/en_US\\\\/oT9ASogq1e_.js?_nc_x=Ij3Wp8lg5Kz\",\"nc\":1},\"8ELCBwH\":{\"type\":\"js\",\"src\":\"https:\\\\/\\\\/static.xx.fbcdn.net\\\\/rsrc.php\\\\/v3\\\\/ye\\\\/r\\\\/VRzSVH5iU-V.js?_nc_x=Ij3Wp8lg5Kz\",\"nc\":1},\"oE4DofT\":{\"type\":\"js\",\"src\":\"https:\\\\/\\\\/static.xx.fbcdn.net\\\\/rsrc.php\\\\/v3\\\\/yJ\\\\/r\\\\/EejAgnHUad4.js?_nc_x=Ij3Wp8lg5Kz\",\"nc\":1},\"161SwvX\":{\"type\":\"js\",\"src\":\"https:\\\\/\\\\/static.xx.fbcdn.net\\\\/rsrc.php\\\\/v3\\\\/yb\\\\/r\\\\/0sRyfmnv8FX.js?_nc_x=Ij3Wp8lg5Kz\",\"nc\":1},\"H\\\\/5lfuF\":{\"type\":\"js\",\"src\":\"https:\\\\/\\\\/static.xx.fbcdn.net\\\\/rsrc.php\\\\/v3\\\\/yF\\\\/r\\\\/iqrvM8jAXX7.js?_nc_x=Ij3Wp8lg5Kz\",\"nc\":1},\"VhquNVl\":{\"type\":\"js\",\"src\":\"https:\\\\/\\\\/static.xx.fbcdn.net\\\\/rsrc.php\\\\/v3\\\\/yp\\\\/r\\\\/4VGIWkxeDth.js?_nc_x=Ij3Wp8lg5Kz\",\"nc\":1},\"QIamfde\":{\"type\":\"js\",\"src\":\"https:\\\\/\\\\/static.xx.fbcdn.net\\\\/rsrc.php\\\\/v3\\\\/yA\\\\/r\\\\/Y37sQzk-yb8.js?_nc_x=Ij3Wp8lg5Kz\",\"nc\":1},\"\\\\/rO0lbn\":{\"type\":\"js\",\"src\":\"https:\\\\/\\\\/static.xx.fbcdn.net\\\\/rsrc.php\\\\/v3\\\\/yf\\\\/r\\\\/LgvwffuKmeX.js?_nc_x=Ij3Wp8lg5Kz\",\"nc\":1},\"P\\\\/mr5VE\":{\"type\":\"css\",\"src\":\"data:text\\\\/css; charset=utf-8;base64,I2Jvb3Rsb2FkZXJfUF9tcjVWRXtoZWlnaHQ6NDJweDt9LmJvb3Rsb2FkZXJfUF9tcjVWRXtkaXNwbGF5OmJsb2NrIWltcG9ydGFudDt9\",\"nc\":1,\"d\":1}},\"compMap\":{\"Dock\":{\"r\":[\"GPHaZlx\",\"1QwLAOU\",\"jHUJgeS\",\"CwChZtC\",\"\\\\/1D0E1S\",\"2qb5Dfk\",\"6tTjOTm\",\"JG0XRy3\",\"ZdCPifI\",\"BCv7ubz\",\"coXAcdj\",\"ionYQ7M\",\"vDbzf9V\",\"w3F04Bn\"],\"be\":1},\"WebSpeedInteractionsTypedLogger\":{\"r\":[\"9NiATAn\",\"ZdCPifI\",\"Leu9nA5\"],\"be\":1},\"AsyncRequest\":{\"r\":[\"\\\\/1D0E1S\",\"6tTjOTm\",\"ZdCPifI\",\"FNJaVUT\",\"ionYQ7M\",\"vDbzf9V\"],\"rds\":{\"m\":[\"FbtLogging\",\"IntlQtEventFalcoEvent\"]},\"be\":1},\"DOM\":{\"r\":[\"\\\\/1D0E1S\",\"ionYQ7M\",\"vDbzf9V\"],\"be\":1},\"Form\":{\"r\":[\"\\\\/1D0E1S\",\"dAWNZ\\\\/s\",\"ionYQ7M\",\"vDbzf9V\"],\"be\":1},\"FormSubmit\":{\"r\":[\"\\\\/1D0E1S\",\"6tTjOTm\",\"ZdCPifI\",\"FNJaVUT\",\"wksQFaG\",\"dAWNZ\\\\/s\",\"ionYQ7M\",\"vDbzf9V\"],\"rds\":{\"m\":[\"FbtLogging\",\"IntlQtEventFalcoEvent\"]},\"be\":1},\"Input\":{\"r\":[\"dAWNZ\\\\/s\"],\"be\":1},\"Toggler\":{\"r\":[\"1QwLAOU\",\"jHUJgeS\",\"\\\\/1D0E1S\",\"2qb5Dfk\",\"6tTjOTm\",\"JG0XRy3\",\"ZdCPifI\",\"coXAcdj\",\"ionYQ7M\",\"vDbzf9V\",\"w3F04Bn\"],\"be\":1},\"Tooltip\":{\"r\":[\"R5w1rCJ\",\"1QwLAOU\",\"jHUJgeS\",\"CwChZtC\",\"\\\\/1D0E1S\",\"2qb5Dfk\",\"6tTjOTm\",\"sgVKv39\",\"ZdCPifI\",\"l89Xlsk\",\"BCv7ubz\",\"FNJaVUT\",\"DcLQ9Pg\",\"ionYQ7M\",\"vDbzf9V\",\"QEWvfQt\",\"w3F04Bn\",\"G1qwYcZ\",\"CGkH4FY\",\"coXAcdj\",\"dAWNZ\\\\/s\",\"oRJJljL\"],\"rds\":{\"m\":[\"FbtLogging\",\"IntlQtEventFalcoEvent\",\"PageTransitions\",\"Animation\"]},\"be\":1},\"URI\":{\"r\":[],\"be\":1},\"trackReferrer\":{\"r\":[],\"be\":1},\"PhotoTagApproval\":{\"r\":[\"\\\\/1D0E1S\",\"RqVBwxl\",\"jFE2rmn\",\"ionYQ7M\",\"vDbzf9V\"],\"be\":1},\"PhotoSnowlift\":{\"r\":[\"R5w1rCJ\",\"GPHaZlx\",\"CjQet1P\",\"TdcELXE\",\"Leu9nA5\",\"1QwLAOU\",\"0Bj1L9r\",\"pqumXvu\",\"XWnp19q\",\"jHUJgeS\",\"ABzacem\",\"94d96LK\",\"75Jr8vb\",\"CwChZtC\",\"DhnvByp\",\"\\\\/1D0E1S\",\"2qb5Dfk\",\"7htsK4n\",\"MkqgjDy\",\"u9RiAvG\",\"6tTjOTm\",\"C1EfGym\",\"bZY8HBk\",\"ryvO5RA\",\"RqVBwxl\",\"JG0XRy3\",\"1cAY3iJ\",\"sgVKv39\",\"UtssFLi\",\"ZdCPifI\",\"8Fzv9FW\",\"l89Xlsk\",\"BCv7ubz\",\"FNJaVUT\",\"CMsup3q\",\"kHxYW2r\",\"DcLQ9Pg\",\"XcVcWgD\",\"WA6KFzs\",\"coXAcdj\",\"4KnEfZE\",\"hF+yknE\",\"dAWNZ\\\\/s\",\"4F+5DV6\",\"JqWUWlL\",\"fXYWKEw\",\"ionYQ7M\",\"vDbzf9V\",\"qZTUWEd\",\"A99V4gr\",\"3M\\\\/Iqpr\",\"lsSwEYN\",\"oVqwFRd\",\"oRJJljL\",\"Pud6B2Z\",\"QEWvfQt\",\"w3F04Bn\",\"EuCsSiD\",\"izv6P\\\\/t\",\"vmNSp+b\",\"ZgBqrnG\",\"G1qwYcZ\",\"CGkH4FY\",\"S9qhtvK\",\"T\\\\/0tn53\",\"HZbqH8S\",\"DYJo7NV\",\"zPAkIeI\",\"AxRJL+1\",\"3JBnIZl\",\"zr1S4PD\"],\"rds\":{\"m\":[\"Animation\",\"FbtLogging\",\"IntlQtEventFalcoEvent\",\"PageTransitions\"]},\"be\":1},\"PhotoTagger\":{\"r\":[\"R5w1rCJ\",\"Leu9nA5\",\"1QwLAOU\",\"iNUTR8P\",\"0Bj1L9r\",\"jHUJgeS\",\"ABzacem\",\"CwChZtC\",\"nNxjF+N\",\"\\\\/1D0E1S\",\"jsute0I\",\"2qb5Dfk\",\"6tTjOTm\",\"RqVBwxl\",\"JG0XRy3\",\"N\\\\/rx1QF\",\"sgVKv39\",\"ZdCPifI\",\"8Fzv9FW\",\"l89Xlsk\",\"BCv7ubz\",\"jFE2rmn\",\"FNJaVUT\",\"DcLQ9Pg\",\"ionYQ7M\",\"vDbzf9V\",\"oVqwFRd\",\"oRJJljL\",\"QEWvfQt\",\"w3F04Bn\",\"QIfrE\\\\/P\",\"G1qwYcZ\",\"CGkH4FY\",\"zPAkIeI\",\"ryvO5RA\",\"coXAcdj\",\"dAWNZ\\\\/s\",\"zr1S4PD\",\"DYJo7NV\"],\"rds\":{\"m\":[\"FbtLogging\",\"IntlQtEventFalcoEvent\",\"PageTransitions\",\"Animation\"]},\"be\":1},\"PhotoTags\":{\"r\":[\"1QwLAOU\",\"\\\\/1D0E1S\",\"RqVBwxl\",\"jFE2rmn\",\"ionYQ7M\",\"vDbzf9V\"],\"be\":1},\"TagTokenizer\":{\"r\":[\"1QwLAOU\",\"SSqxbKw\",\"jHUJgeS\",\"\\\\/1D0E1S\",\"7htsK4n\",\"ZdCPifI\",\"jFE2rmn\",\"dAWNZ\\\\/s\",\"ionYQ7M\",\"vDbzf9V\",\"vUbYxOK\",\"EuCsSiD\",\"lOZh+G3\",\"90wYn79\",\"T\\\\/0tn53\"],\"rds\":{\"m\":[\"FbtLogging\",\"IntlQtEventFalcoEvent\"],\"r\":[\"FNJaVUT\"]},\"be\":1},\"AsyncDialog\":{\"r\":[\"R5w1rCJ\",\"1QwLAOU\",\"0Bj1L9r\",\"jHUJgeS\",\"CwChZtC\",\"\\\\/1D0E1S\",\"2qb5Dfk\",\"6tTjOTm\",\"JG0XRy3\",\"sgVKv39\",\"UtssFLi\",\"ZdCPifI\",\"8Fzv9FW\",\"BCv7ubz\",\"FNJaVUT\",\"coXAcdj\",\"fXYWKEw\",\"ionYQ7M\",\"vDbzf9V\",\"3M\\\\/Iqpr\",\"oVqwFRd\",\"oRJJljL\",\"w3F04Bn\",\"izv6P\\\\/t\",\"G1qwYcZ\",\"DYJo7NV\",\"ryvO5RA\",\"zr1S4PD\"],\"rds\":{\"m\":[\"FbtLogging\",\"IntlQtEventFalcoEvent\"]},\"be\":1},\"Hovercard\":{\"r\":[\"R5w1rCJ\",\"Leu9nA5\",\"1QwLAOU\",\"iNUTR8P\",\"0Bj1L9r\",\"jHUJgeS\",\"ABzacem\",\"CwChZtC\",\"nNxjF+N\",\"\\\\/1D0E1S\",\"jsute0I\",\"2qb5Dfk\",\"6tTjOTm\",\"JG0XRy3\",\"sgVKv39\",\"ZdCPifI\",\"8Fzv9FW\",\"l89Xlsk\",\"BCv7ubz\",\"FNJaVUT\",\"DcLQ9Pg\",\"ionYQ7M\",\"vDbzf9V\",\"oVqwFRd\",\"oRJJljL\",\"QEWvfQt\",\"w3F04Bn\",\"QIfrE\\\\/P\",\"G1qwYcZ\",\"CGkH4FY\",\"coXAcdj\",\"dAWNZ\\\\/s\"],\"rds\":{\"m\":[\"FbtLogging\",\"IntlQtEventFalcoEvent\",\"PageTransitions\",\"Animation\"]},\"be\":1},\"XSalesPromoWWWDetailsDialogAsyncController\":{\"r\":[\"gWMJgTe\",\"FNJaVUT\"],\"be\":1},\"XOfferController\":{\"r\":[\"hIek+bG\",\"FNJaVUT\"],\"be\":1},\"PerfXSharedFields\":{\"r\":[\"fXYWKEw\",\"ionYQ7M\"],\"be\":1},\"KeyEventTypedLogger\":{\"r\":[\"ZdCPifI\",\"rCasuzG\",\"Leu9nA5\"],\"be\":1},\"Dialog\":{\"r\":[\"1QwLAOU\",\"0Bj1L9r\",\"jHUJgeS\",\"DhnvByp\",\"\\\\/1D0E1S\",\"2qb5Dfk\",\"6tTjOTm\",\"JG0XRy3\",\"ZdCPifI\",\"8Fzv9FW\",\"BCv7ubz\",\"FNJaVUT\",\"CMsup3q\",\"dAWNZ\\\\/s\",\"ionYQ7M\",\"vDbzf9V\",\"QEWvfQt\",\"w3F04Bn\",\"R5w1rCJ\",\"CwChZtC\",\"coXAcdj\",\"oRJJljL\",\"sgVKv39\"],\"rds\":{\"m\":[\"FbtLogging\",\"IntlQtEventFalcoEvent\",\"Animation\",\"PageTransitions\"]},\"be\":1},\"ExceptionDialog\":{\"r\":[\"R5w1rCJ\",\"CjQet1P\",\"1QwLAOU\",\"0Bj1L9r\",\"jHUJgeS\",\"ABzacem\",\"CwChZtC\",\"\\\\/1D0E1S\",\"2qb5Dfk\",\"6tTjOTm\",\"JG0XRy3\",\"sgVKv39\",\"UtssFLi\",\"ZdCPifI\",\"8Fzv9FW\",\"BCv7ubz\",\"FNJaVUT\",\"Pmrrzla\",\"coXAcdj\",\"fXYWKEw\",\"ionYQ7M\",\"vDbzf9V\",\"3M\\\\/Iqpr\",\"oVqwFRd\",\"oRJJljL\",\"w3F04Bn\",\"EuCsSiD\",\"izv6P\\\\/t\",\"G1qwYcZ\",\"DYJo7NV\",\"3JBnIZl\"],\"rds\":{\"m\":[\"FbtLogging\",\"IntlQtEventFalcoEvent\"]},\"be\":1},\"QuickSandSolver\":{\"r\":[\"pqumXvu\",\"x22Oby4\",\"\\\\/1D0E1S\",\"6tTjOTm\",\"SWx3yNv\",\"ZdCPifI\",\"FNJaVUT\",\"dAWNZ\\\\/s\",\"ionYQ7M\",\"VF\\\\/T8Qr\",\"8ELCBwH\",\"vDbzf9V\"],\"rds\":{\"m\":[\"FbtLogging\",\"IntlQtEventFalcoEvent\"]},\"be\":1},\"ConfirmationDialog\":{\"r\":[\"1QwLAOU\",\"oE4DofT\",\"\\\\/1D0E1S\",\"dAWNZ\\\\/s\",\"ionYQ7M\",\"vDbzf9V\"],\"be\":1},\"MWADeveloperReauthBarrier\":{\"r\":[\"\\\\/1D0E1S\",\"161SwvX\",\"H\\\\/5lfuF\",\"ionYQ7M\",\"VhquNVl\",\"QIamfde\"],\"be\":1}}})});</script>\\n<script>requireLazy([\"InitialJSLoader\"], function(InitialJSLoader) {InitialJSLoader.loadOnDOMContentReady([\"8Fzv9FW\",\"FNJaVUT\",\"jHUJgeS\",\"1QwLAOU\",\"ZdCPifI\",\"l89Xlsk\",\"coXAcdj\",\"ionYQ7M\",\"\\\\/1D0E1S\",\"6tTjOTm\",\"dAWNZ\\\\/s\",\"\\\\/rO0lbn\",\"Leu9nA5\",\"P\\\\/mr5VE\"]);});</script>\\n<script>requireLazy([\"TimeSliceImpl\",\"ServerJS\"],function(TimeSlice,ServerJS){var s=(new ServerJS());s.handle({\"define\":[[\"LinkshimHandlerConfig\",[],{\"supports_meta_referrer\":false,\"default_meta_referrer_policy\":\"default\",\"switched_meta_referrer_policy\":\"origin\",\"non_linkshim_lnfb_mode\":\"ie\",\"link_react_default_hash\":\"AT2bSMa8DF9tu7fCA2QD4wjNR6gY5aprmtAAV6qCDcWqA1lXMFfQZM3sozAlkPc-gDFfaPVVkezo3rTI_itpJwW6gb8UwWy8gZzHM9TsE_EirRex2_cXbhgCik9jkM34XxuyT4yfLDTi5-lA\",\"untrusted_link_default_hash\":\"AT2UUq_OUNFGj4mUUbxOu5hDnRia8HnZ7ZdPVUrayfCpATcYNmi1yH6m0tmcUs15cSZzWQkz_vS4Nf35zuuo9Uj3VqAPEuYrhCTvhrHsl6moov381aiByHcGG9AuVRvTR_bOfvx5UumVQ2hn\",\"linkshim_host\":\"l.facebook.com\",\"linkshim_path\":\"\\\\/l.php\",\"linkshim_enc_param\":\"h\",\"linkshim_url_param\":\"u\",\"use_rel_no_opener\":false,\"use_rel_no_referrer\":false,\"always_use_https\":false,\"onion_always_shim\":true,\"middle_click_requires_event\":false,\"www_safe_js_mode\":\"hover\",\"m_safe_js_mode\":null,\"ghl_param_link_shim\":false,\"click_ids\":[],\"is_linkshim_supported\":true,\"current_domain\":\"facebook.com\",\"blocklisted_domains\":[\"ad.doubleclick.net\",\"ads-encryption-url-example.com\",\"bs.serving-sys.com\",\"ad.atdmt.com\",\"adform.net\",\"ad13.adfarm1.adition.com\",\"ilovemyfreedoms.com\",\"secure.adnxs.com\"],\"is_mobile_device\":false},27]],\"elements\":[[\"__elem_a588f507_0_1_R9\",\"u_0_1_cX\",1],[\"__elem_a588f507_0_0_82\",\"globalContainer\",1],[\"__elem_a588f507_0_2_p3\",\"content\",1],[\"__elem_835c633a_0_0_NN\",\"u_0_2_S1\",1],[\"__elem_9f5fac15_0_0_d3\",\"passContainer\",1],[\"__elem_558608f3_0_0_S3\",\"pass\",1],[\"__elem_a588f507_0_3_br\",\"u_0_3_uM\",1],[\"__elem_a588f507_0_4_Gj\",\"u_0_4_ck\",1],[\"__elem_45d73b5d_0_0_3Q\",\"u_0_5_zf\",1]],\"require\":[[\"ServiceWorkerLoginAndLogout\",\"login\",[],[]],[\"WebPixelRatioDetector\",\"startDetecting\",[],[true]],[\"ScriptPath\",\"set\",[],[\"XIndexReduxController\",\"a1f3c513\",{\"imp_id\":\"1RZvDkqUoh9s48v9C\",\"ef_page\":null,\"uri\":\"https:\\\\/\\\\/www.facebook.com\\\\/\"}]],[\"UITinyViewportAction\",\"init\",[],[]],[\"ResetScrollOnUnload\",\"init\",[\"__elem_a588f507_0_0_82\"],[{\"__m\":\"__elem_a588f507_0_0_82\"}]],[\"KeyboardActivityLogger\",\"init\",[],[]],[\"FocusRing\",\"init\",[],[]],[\"ErrorMessageConsole\",\"listenForUncaughtErrors\",[],[]],[\"HardwareCSS\",\"init\",[],[]],[\"LoginFormController\",\"init\",[\"__elem_835c633a_0_0_NN\",\"__elem_45d73b5d_0_0_3Q\"],[{\"__m\":\"__elem_835c633a_0_0_NN\"},{\"__m\":\"__elem_45d73b5d_0_0_3Q\"},null,true,{\"pubKey\":{\"publicKey\":\"70425d9c3279f0fd3855dd64cd5588d2dfd0fe77163bd7b650e1304b5f25135b\",\"keyId\":180}}]],[\"BrowserPrefillLogging\",\"initContactpointFieldLogging\",[],[{\"contactpointFieldID\":\"email\",\"serverPrefill\":\"\"}]],[\"BrowserPrefillLogging\",\"initPasswordFieldLogging\",[],[{\"passwordFieldID\":\"pass\"}]],[\"FocusListener\"],[\"FlipDirectionOnKeypress\"],[\"LoginFormToggle\",\"initToggle\",[\"__elem_a588f507_0_3_br\",\"__elem_a588f507_0_4_Gj\",\"__elem_558608f3_0_0_S3\",\"__elem_9f5fac15_0_0_d3\"],[{\"__m\":\"__elem_a588f507_0_3_br\"},{\"__m\":\"__elem_a588f507_0_4_Gj\"},{\"__m\":\"__elem_558608f3_0_0_S3\"},{\"__m\":\"__elem_9f5fac15_0_0_d3\"}]],[\"IntlUtils\"],[\"FBLynx\",\"setupDelegation\",[],[]],[\"RequireDeferredReference\",\"unblock\",[],[[\"FbtLogging\",\"IntlQtEventFalcoEvent\"],\"sd\"]],[\"RequireDeferredReference\",\"unblock\",[],[[\"FbtLogging\",\"IntlQtEventFalcoEvent\"],\"css\"]],[\"TimeSliceImpl\"],[\"HasteSupportData\"],[\"ServerJS\"],[\"Run\"],[\"InitialJSLoader\"]],\"contexts\":[[{\"__m\":\"__elem_a588f507_0_1_R9\"},true],[{\"__m\":\"__elem_a588f507_0_2_p3\"},true]]});requireLazy([\"Run\"],function(Run){Run.onAfterLoad(function(){s.cleanup(TimeSlice)})});});</script>\\n<script>now_inl=(function(){var p=window.performance;return p&&p.now&&p.timing&&p.timing.navigationStart?function(){return p.now()+p.timing.navigationStart}:function(){return new Date().getTime()};})();window.__bigPipeFR=now_inl();</script>\\n<link rel=\"preload\" href=\"https://static.xx.fbcdn.net/rsrc.php/v3/yY/l/0,cross/4qFqTquP-fc.css?_nc_x=Ij3Wp8lg5Kz\" as=\"style\" />\\n<link rel=\"preload\" href=\"https://static.xx.fbcdn.net/rsrc.php/v3/yV/l/0,cross/LNG3NJxo-TI.css?_nc_x=Ij3Wp8lg5Kz\" as=\"style\" />\\n<link rel=\"preload\" href=\"https://static.xx.fbcdn.net/rsrc.php/v3/yV/l/0,cross/KxGJ10xTR_J.css?_nc_x=Ij3Wp8lg5Kz\" as=\"style\" />\\n<link rel=\"preload\" href=\"https://static.xx.fbcdn.net/rsrc.php/v3/y0/l/0,cross/CjlWAqTyAlF.css?_nc_x=Ij3Wp8lg5Kz\" as=\"style\" />\\n<link rel=\"preload\" href=\"https://static.xx.fbcdn.net/rsrc.php/v3/yi/l/0,cross/yotEdcUw9Gj.css?_nc_x=Ij3Wp8lg5Kz\" as=\"style\" />\\n<link rel=\"preload\" href=\"https://static.xx.fbcdn.net/rsrc.php/v3/yc/l/0,cross/1FPNULrhhBJ.css?_nc_x=Ij3Wp8lg5Kz\" as=\"style\" />\\n<link rel=\"preload\" href=\"https://static.xx.fbcdn.net/rsrc.php/v3/yz/r/OI6yJ5DDoTy.js?_nc_x=Ij3Wp8lg5Kz\" as=\"script\" nonce=\"4RpN4hF9\" />\\n<link rel=\"preload\" href=\"https://static.xx.fbcdn.net/rsrc.php/v3/yh/r/bpW4eEg-2_W.js?_nc_x=Ij3Wp8lg5Kz\" as=\"script\" nonce=\"4RpN4hF9\" />\\n<link rel=\"preload\" href=\"https://static.xx.fbcdn.net/rsrc.php/v3/yV/l/0,cross/_bzWjvAFjKO.css?_nc_x=Ij3Wp8lg5Kz\" as=\"style\" />\\n<link rel=\"preload\" href=\"https://static.xx.fbcdn.net/rsrc.php/v3/yU/r/WpZmEY4bcoe.js?_nc_x=Ij3Wp8lg5Kz\" as=\"script\" nonce=\"4RpN4hF9\" />\\n<link rel=\"preload\" href=\"https://static.xx.fbcdn.net/rsrc.php/v3i7M54/yM/l/en_US/LKOC0D0Ap0H.js?_nc_x=Ij3Wp8lg5Kz\" as=\"script\" nonce=\"4RpN4hF9\" />\\n<link rel=\"preload\" href=\"https://static.xx.fbcdn.net/rsrc.php/v3/yI/r/8iBPf52GdU5.js?_nc_x=Ij3Wp8lg5Kz\" as=\"script\" nonce=\"4RpN4hF9\" />\\n<link rel=\"preload\" href=\"https://static.xx.fbcdn.net/rsrc.php/v3/y3/l/0,cross/ikFECARVllV.css?_nc_x=Ij3Wp8lg5Kz\" as=\"style\" />\\n<script>window.__bigPipeCtor=now_inl();requireLazy([\"BigPipe\"],function(BigPipe){define(\"__bigPipe\",[],window.bigPipe=new BigPipe({\"forceFinish\":true,\"config\":{\"flush_pagelets_asap\":true,\"dispatch_pagelet_replayable_actions\":false}}));});</script>\\n<script nonce=\"4RpN4hF9\">(function(){var n=now_inl();requireLazy([\"__bigPipe\"],function(bigPipe){bigPipe.beforePageletArrive(\"first_response\",n);})})();</script>\\n<script nonce=\"4RpN4hF9\">requireLazy([\"__bigPipe\"],(function(bigPipe){bigPipe.onPageletArrive({displayResources:[\"/uaktyf\",\"vDbzf9V\",\"Pud6B2Z\",\"EuCsSiD\",\"DcLQ9Pg\",\"0Bj1L9r\",\"/1D0E1S\",\"6tTjOTm\",\"JG0XRy3\",\"ZdCPifI\",\"FNJaVUT\",\"ionYQ7M\",\"qgYJ9Ln\",\"P/mr5VE\"],id:\"first_response\",phase:0,last_in_phase:true,tti_phase:0,all_phases:[63],hsrp:{hblp:{consistency:{rev:1008975542}}},allResources:[\"8Fzv9FW\",\"FNJaVUT\",\"jHUJgeS\",\"1QwLAOU\",\"ZdCPifI\",\"l89Xlsk\",\"coXAcdj\",\"ionYQ7M\",\"/1D0E1S\",\"6tTjOTm\",\"/uaktyf\",\"vDbzf9V\",\"Pud6B2Z\",\"EuCsSiD\",\"DcLQ9Pg\",\"0Bj1L9r\",\"JG0XRy3\",\"qgYJ9Ln\",\"dAWNZ/s\",\"/rO0lbn\",\"P/mr5VE\",\"Leu9nA5\"]});}));</script>\\n<script>requireLazy([\"__bigPipe\"],function(bigPipe){bigPipe.setPageID(\"7285321817845632686\")});</script><script nonce=\"4RpN4hF9\">(function(){var n=now_inl();requireLazy([\"__bigPipe\"],function(bigPipe){bigPipe.beforePageletArrive(\"last_response\",n);})})();</script>\\n<script nonce=\"4RpN4hF9\">requireLazy([\"__bigPipe\"],(function(bigPipe){bigPipe.onPageletArrive({displayResources:[\"ZdCPifI\"],id:\"last_response\",phase:63,last_in_phase:true,the_end:true,jsmods:{define:[[\"TimeSliceInteractionSV\",[],{on_demand_reference_counting:true,on_demand_profiling_counters:true,default_rate:1000,lite_default_rate:100,interaction_to_lite_coinflip:{ADS_INTERFACES_INTERACTION:0,ads_perf_scenario:0,ads_wait_time:0,Event:1},interaction_to_coinflip:{ADS_INTERFACES_INTERACTION:1,ads_perf_scenario:1,ads_wait_time:1,Event:100},enable_heartbeat:true,maxBlockMergeDuration:0,maxBlockMergeDistance:0,enable_banzai_stream:true,user_timing_coinflip:50,banzai_stream_coinflip:0,compression_enabled:true,ref_counting_fix:false,ref_counting_cont_fix:false,also_record_new_timeslice_format:false,force_async_request_tracing_on:false},2609],[\"cr:1642797\",[\"BanzaiBase\"],{__rc:[\"BanzaiBase\",\"Aa0GwjtveHR2LQu6TD2P0jXK0P3DLgTnykCxjOP09t-P561--5U3jWOBqZhiEDG31jpD5M3O9Lif4lOqxaHNXygWLe8\"]},-1],[\"cr:1458113\",[],{__rc:[null,\"Aa0V7dgo6Z7I9nnbvS8qCQA8GMTxL6RWwq773XnNip6dmKy2QsNznsxHC5Vn8Dku09Yt_IkPUR2kePwPEc4N8VG26-m4DqU\"]},-1],[\"cr:1069930\",[],{__rc:[null,\"Aa0GwjtveHR2LQu6TD2P0jXK0P3DLgTnykCxjOP09t-P561--5U3jWOBqZhiEDG31jpD5M3O9Lif4lOqxaHNXygWLe8\"]},-1],[\"cr:1083116\",[\"XAsyncRequest\"],{__rc:[\"XAsyncRequest\",\"Aa0GwjtveHR2LQu6TD2P0jXK0P3DLgTnykCxjOP09t-P561--5U3jWOBqZhiEDG31jpD5M3O9Lif4lOqxaHNXygWLe8\"]},-1],[\"cr:1083117\",[],{__rc:[null,\"Aa0GwjtveHR2LQu6TD2P0jXK0P3DLgTnykCxjOP09t-P561--5U3jWOBqZhiEDG31jpD5M3O9Lif4lOqxaHNXygWLe8\"]},-1],[\"BanzaiConfig\",[],{MAX_SIZE:10000,MAX_WAIT:150000,MIN_WAIT:null,RESTORE_WAIT:150000,blacklist:[\"time_spent\"],disabled:false,gks:{boosted_pagelikes:true,mercury_send_error_logging:true,platform_oauth_client_events:true,graphexplorer:true,sticker_search_ranking:true},known_routes:[\"artillery_javascript_actions\",\"artillery_javascript_trace\",\"artillery_logger_data\",\"logger\",\"falco\",\"gk2_exposure\",\"js_error_logging\",\"loom_trace\",\"marauder\",\"perfx_custom_logger_endpoint\",\"qex\",\"require_cond_exposure_logging\",\"metaconfig_exposure\"],should_drop_unknown_routes:true,should_log_unknown_routes:false},7],[\"cr:692209\",[\"cancelIdleCallbackBlue\"],{__rc:[\"cancelIdleCallbackBlue\",\"Aa0GwjtveHR2LQu6TD2P0jXK0P3DLgTnykCxjOP09t-P561--5U3jWOBqZhiEDG31jpD5M3O9Lif4lOqxaHNXygWLe8\"]},-1],[\"TrackingConfig\",[],{domain:\"https://pixel.facebook.com\"},325],[\"WebDevicePerfInfoData\",[],{needsFullUpdate:true,needsPartialUpdate:false,shouldLogResourcePerf:false},3977],[\"WebStorageMonsterLoggingURI\",[],{uri:\"/ajax/webstorage/process_keys/?state=1\"},3032],[\"BrowserPaymentHandlerConfig\",[],{enabled:false},3904],[\"TimeSpentConfig\",[],{delay:1000,timeout:64,\"0_delay\":0,\"0_timeout\":8},142],[\"cr:1634616\",[\"UserActivityBlue\"],{__rc:[\"UserActivityBlue\",\"Aa0GwjtveHR2LQu6TD2P0jXK0P3DLgTnykCxjOP09t-P561--5U3jWOBqZhiEDG31jpD5M3O9Lif4lOqxaHNXygWLe8\"]},-1],[\"cr:1353359\",[\"EventListenerImplForBlue\"],{__rc:[\"EventListenerImplForBlue\",\"Aa2IymPVjWtn_G6xlzn3PkTjfs0_2G2Q05_EvYkKfCKwlG_hqrYXsLZ9-mYXsnpZDbgPm8Gn58VIEt-06BL0LjU1GRPqiE_t6w\"]},-1],[\"cr:844180\",[\"TimeSpentImmediateActiveSecondsLoggerBlue\"],{__rc:[\"TimeSpentImmediateActiveSecondsLoggerBlue\",\"Aa0GwjtveHR2LQu6TD2P0jXK0P3DLgTnykCxjOP09t-P561--5U3jWOBqZhiEDG31jpD5M3O9Lif4lOqxaHNXygWLe8\"]},-1],[\"cr:1187159\",[\"BlueCompatBroker\"],{__rc:[\"BlueCompatBroker\",\"Aa0GwjtveHR2LQu6TD2P0jXK0P3DLgTnykCxjOP09t-P561--5U3jWOBqZhiEDG31jpD5M3O9Lif4lOqxaHNXygWLe8\"]},-1],[\"cr:5800\",[],{__rc:[null,\"Aa0QKtskGOAWNkOVBgfiNW6PUx0HxIspv_iCfF0hK_xG-nuar62YflELJ9BNTLmSuGfpIDhZMyi3neRilMNwO0vtS8U\"]},-1],[\"ImmediateActiveSecondsConfig\",[],{sampling_rate:0},423]],require:[[\"BDClientSignalCollectionTrigger\",\"startSignalCollection\",[],[{sc:\"{\\\\\"t\\\\\":1659080345,\\\\\"c\\\\\":[[30000,838801],[30001,838801],[30002,838801],[30003,838801],[30004,838801],[30005,838801],[30006,573585],[30007,838801],[30008,838801],[30012,838801],[30013,838801],[30015,806033],[30018,806033],[30021,540823],[30022,540817],[30040,806033],[30093,806033],[30094,806033],[30095,806033],[30101,541591],[30102,541591],[30103,541591],[30104,541591],[30106,806039],[30107,806039],[38000,541427],[38001,806643]]}\",fds:60,fda:60,i:60,sbs:1,dbs:100,bbs:100,hbi:60,rt:262144,hbcbc:2,hbvbc:0,hbbi:30,sid:-1,hbv:\"2975610190844970685\"}]],[\"NavigationMetrics\",\"setPage\",[],[{page:\"XIndexReduxController\",page_type:\"normal\",page_uri:\"https://www.facebook.com/\",serverLID:\"7285321817845632686\"}]],[\"FalcoLoggerTransports\",\"attach\",[],[]],[\"DimensionTracking\"],[\"ClickRefLogger\"],[\"DetectBrokenProxyCache\",\"run\",[],[0,\"c_user\"]],[\"NavigationClickPointHandler\"],[\"WebDevicePerfInfoLogging\",\"doLog\",[],[]],[\"WebStorageMonster\",\"schedule\",[],[]],[\"Artillery\",\"disable\",[],[]],[\"ScriptPathLogger\",\"startLogging\",[],[]],[\"TimeSpentBitArrayLogger\",\"init\",[],[]],[\"CookieCore\",\"setWithoutChecksIfFirstPartyContext\",[],[\"_js_datr\",\"mKkaZcisEaj8OKJBJxJb0gt7\",34560000000,\"/\",true,\".facebook.com\"]],[\"TransportSelectingClientSingletonConditional\"],[\"RequireDeferredReference\",\"unblock\",[],[[\"TransportSelectingClientSingletonConditional\"],\"sd\"]],[\"RequireDeferredReference\",\"unblock\",[],[[\"TransportSelectingClientSingletonConditional\"],\"css\"]]]},hsrp:{hsdp:{clpData:{\"1743095\":{r:1,s:1},\"1871697\":{r:1,s:1},\"1829319\":{r:1},\"1829320\":{r:1},\"1843988\":{r:1}},gkxData:{\"1652843\":{result:false,hash:\"AT6uh9NWRY4QEQoYopg\"},\"1099893\":{result:false,hash:\"AT5kly2LSZV_DKGRP2k\"}}},hblp:{consistency:{rev:1008975542},rsrcMap:{WgG0JOY:{type:\"js\",src:\"https://static.xx.fbcdn.net/rsrc.php/v3/yn/r/FQIPxzEyFvX.js?_nc_x=Ij3Wp8lg5Kz\",nc:1},zPYlTyl:{type:\"js\",src:\"https://static.xx.fbcdn.net/rsrc.php/v3/yO/r/_tJ17sGyxOX.js?_nc_x=Ij3Wp8lg5Kz\",nc:1}}}},allResources:[\"WgG0JOY\",\"zPYlTyl\",\"BCv7ubz\",\"DYJo7NV\",\"zPAkIeI\",\"ionYQ7M\",\"6tTjOTm\",\"XcVcWgD\",\"/1D0E1S\",\"FNJaVUT\",\"ZdCPifI\"]});}));</script></body></html>'\n"
          ]
        }
      ]
    },
    {
      "cell_type": "code",
      "source": [
        "# urlshortner\n",
        "\n",
        "! pip install pyshorteners"
      ],
      "metadata": {
        "colab": {
          "base_uri": "https://localhost:8080/"
        },
        "id": "S744UOa9LDSM",
        "outputId": "26569f27-969f-4b5d-c190-0de43a04240a"
      },
      "execution_count": null,
      "outputs": [
        {
          "output_type": "stream",
          "name": "stdout",
          "text": [
            "Collecting pyshorteners\n",
            "  Downloading pyshorteners-1.0.1.tar.gz (10.0 kB)\n",
            "  Preparing metadata (setup.py) ... \u001b[?25l\u001b[?25hdone\n",
            "Requirement already satisfied: requests in /usr/local/lib/python3.10/dist-packages (from pyshorteners) (2.31.0)\n",
            "Requirement already satisfied: charset-normalizer<4,>=2 in /usr/local/lib/python3.10/dist-packages (from requests->pyshorteners) (3.2.0)\n",
            "Requirement already satisfied: idna<4,>=2.5 in /usr/local/lib/python3.10/dist-packages (from requests->pyshorteners) (3.4)\n",
            "Requirement already satisfied: urllib3<3,>=1.21.1 in /usr/local/lib/python3.10/dist-packages (from requests->pyshorteners) (2.0.4)\n",
            "Requirement already satisfied: certifi>=2017.4.17 in /usr/local/lib/python3.10/dist-packages (from requests->pyshorteners) (2023.7.22)\n",
            "Building wheels for collected packages: pyshorteners\n",
            "  Building wheel for pyshorteners (setup.py) ... \u001b[?25l\u001b[?25hdone\n",
            "  Created wheel for pyshorteners: filename=pyshorteners-1.0.1-py3-none-any.whl size=17481 sha256=cf460a3ed2660bfcef7361c89cc6f360583d65bfbfa681d42d288e52524ea901\n",
            "  Stored in directory: /root/.cache/pip/wheels/d5/ff/b3/16d8906f92ab0b042f76a4696fcea11d291d79a2b3a3de1e78\n",
            "Successfully built pyshorteners\n",
            "Installing collected packages: pyshorteners\n",
            "Successfully installed pyshorteners-1.0.1\n"
          ]
        }
      ]
    },
    {
      "cell_type": "code",
      "source": [
        "import pyshorteners\n",
        "url = input(\"Enter an url:\")\n",
        "\n",
        "shortener = pyshorteners.Shortener()\n",
        "a = shortener.tinyurl.short(url)\n",
        "\n",
        "# this new url will also redirect us to the same webpage as we have provided the input, this new url is compariively provides a url of short length\n",
        "print(\"Your new url is:\",a)"
      ],
      "metadata": {
        "colab": {
          "base_uri": "https://localhost:8080/"
        },
        "id": "E5b_F1QTLYt4",
        "outputId": "a7589211-ef71-44b9-ca29-bce7afa214b9"
      },
      "execution_count": null,
      "outputs": [
        {
          "output_type": "stream",
          "name": "stdout",
          "text": [
            "Enter an url:https://facebook.com/\n",
            "Your new url is: https://tinyurl.com/47xk5c\n"
          ]
        }
      ]
    },
    {
      "cell_type": "code",
      "source": [
        "# pip install requests, win10toast\n",
        "# reuests library allows us to send requests to different websites\n",
        "# win10toast allows us to show notificitaion in windows\n",
        "\n",
        "import requests\n",
        "from win10toast import ToastNotifier\n",
        "import json # An API which allows us the as to be in json format\n",
        "import time\n",
        "\n",
        "def update():\n",
        "\n",
        "    r = requests.get('https://api.covid19api.com/all')\n",
        "    r.raise_for_status()  # Raise an exception for HTTP errors (e.g., 404)\n",
        "    data = r.json() # convert data into json format\n",
        "    # text = f'Confirmed Cases: {data[\"cases\"]}\\nDeaths: {data[\"deaths\"]}\\nRecovered: {data[\"recovered\"]}'\n",
        "    text = f'Confirmed Cases: {data[\"cases\"]}\\nDeaths: {data[\"deaths\"]}\\nRecovered: {data[\"recovered\"]}'\n",
        "\n",
        "    while True :\n",
        "        toast = ToastNotifier()\n",
        "        toast.show_toast(\"Covid-19 Updates\",text,duration = 20) #sleep after 20 seconds\n",
        "        time.sleep(60) #every 60 minute this notification will pop up again\n",
        "\n",
        "\n",
        "update()\n",
        "\n"
      ],
      "metadata": {
        "id": "Br4jbqKI1q7W"
      },
      "execution_count": null,
      "outputs": []
    },
    {
      "cell_type": "code",
      "source": [
        "# Goggle search\n",
        "\n",
        "! pip install google"
      ],
      "metadata": {
        "colab": {
          "base_uri": "https://localhost:8080/"
        },
        "id": "AmgYiUi5M8Sg",
        "outputId": "cf98a048-9565-446d-8c01-aae2e093d5c3"
      },
      "execution_count": null,
      "outputs": [
        {
          "output_type": "stream",
          "name": "stdout",
          "text": [
            "Requirement already satisfied: google in /usr/local/lib/python3.10/dist-packages (2.0.3)\n",
            "Requirement already satisfied: beautifulsoup4 in /usr/local/lib/python3.10/dist-packages (from google) (4.11.2)\n",
            "Requirement already satisfied: soupsieve>1.2 in /usr/local/lib/python3.10/dist-packages (from beautifulsoup4->google) (2.5)\n"
          ]
        }
      ]
    },
    {
      "cell_type": "code",
      "source": [
        "# search in google for the input query\n",
        "# It will display almost all the results possible\n",
        "\n",
        "import google\n",
        "from googlesearch import search\n",
        "\n",
        "query = \"Machine Learning and Deep Learning\"\n",
        "\n",
        "for i in search(query, start = 0, pause = 2) : # It will pause for sometime after 2 searches\n",
        "  print(i)\n"
      ],
      "metadata": {
        "colab": {
          "base_uri": "https://localhost:8080/"
        },
        "id": "vuTJFjoNNN7X",
        "outputId": "f7821fd8-45af-4b38-daa2-962a2c09f110"
      },
      "execution_count": null,
      "outputs": [
        {
          "output_type": "stream",
          "name": "stdout",
          "text": [
            "https://www.zendesk.com/blog/machine-learning-and-deep-learning/\n",
            "https://www.zendesk.com/blog/machine-learning-and-deep-learning/#difference\n",
            "https://www.zendesk.com/blog/machine-learning-and-deep-learning/#ml-types\n",
            "https://www.coursera.org/articles/ai-vs-deep-learning-vs-machine-learning-beginners-guide\n",
            "https://levity.ai/blog/difference-machine-learning-deep-learning\n",
            "https://www.geeksforgeeks.org/difference-between-machine-learning-and-deep-learning/\n",
            "https://flatironschool.com/blog/deep-learning-vs-machine-learning/\n",
            "https://www.ibm.com/blog/ai-vs-machine-learning-vs-deep-learning-vs-neural-networks/\n",
            "https://www.ibm.com/topics/deep-learning\n",
            "https://learn.microsoft.com/en-us/azure/machine-learning/concept-deep-learning-vs-machine-learning?view=azureml-api-2\n",
            "https://aws.amazon.com/compare/the-difference-between-machine-learning-and-deep-learning/\n",
            "https://blogs.nvidia.com/blog/2016/07/29/whats-difference-artificial-intelligence-machine-learning-deep-learning-ai/\n",
            "https://www.techtarget.com/searchenterpriseai/definition/deep-learning-deep-neural-network\n",
            "https://mitsloan.mit.edu/ideas-made-to-matter/machine-learning-explained\n",
            "https://www.mathworks.com/discovery/deep-learning.html\n",
            "https://towardsdatascience.com/why-deep-learning-is-needed-over-traditional-machine-learning-1b6a99177063\n",
            "https://www.youtube.com/watch?v=q6kJ71tEYqM\n",
            "https://en.wikipedia.org/wiki/Deep_learning\n",
            "https://www.simplilearn.com/tutorials/artificial-intelligence-tutorial/ai-vs-machine-learning-vs-deep-learning\n",
            "https://www.interviewbit.com/blog/deep-learning-vs-machine-learning/\n",
            "https://link.springer.com/article/10.1007/s12525-021-00475-2\n",
            "https://www.scs.org.sg/articles/machine-learning-vs-deep-learning\n",
            "https://www.javatpoint.com/machine-learning-vs-deep-learning\n",
            "https://www.deeplearning.ai/\n",
            "https://www.sciencedirect.com/science/article/pii/S2666285X21000042\n",
            "https://arxiv.org/abs/2104.05314\n",
            "https://www.tensorflow.org/resources/learn-ml\n",
            "https://www.ionos.com/digitalguide/online-marketing/search-engine-marketing/deep-learning-vs-machine-learning/\n",
            "https://www.mdpi.com/2073-431X/12/5/91\n",
            "http://neuralnetworksanddeeplearning.com/\n",
            "https://www.xenonstack.com/blog/deep-learning-vs-ml-vs-neural-network\n",
            "https://viso.ai/deep-learning/deep-learning-vs-machine-learning/\n",
            "https://builtin.com/artificial-intelligence/ai-vs-machine-learning\n",
            "https://www.datacamp.com/tutorial/machine-deep-learning\n",
            "https://www.oracle.com/artificial-intelligence/machine-learning/what-is-deep-learning/\n",
            "https://rapidminer.com/blog/artificial-intelligence-machine-learning-deep-learning/\n",
            "https://www.sas.com/en_us/insights/articles/big-data/artificial-intelligence-machine-learning-deep-learning-and-beyond.html\n",
            "https://www.talend.com/resources/ai-vs-machine-learning-vs-deep-learning/\n",
            "https://blog.invgate.com/ai-vs-machine-learning-vs-deep-learning-vs-neural-networks\n",
            "https://www.unite.ai/machine-learning-vs-deep-learning-key-differences/\n",
            "https://besjournals.onlinelibrary.wiley.com/doi/full/10.1111/2041-210X.14061\n",
            "https://machinelearningmastery.com/what-is-deep-learning/\n",
            "https://www.forbes.com/sites/bernardmarr/2016/12/08/what-is-the-difference-between-deep-learning-machine-learning-and-ai/\n",
            "https://d2l.ai/\n",
            "https://www.tutorialspoint.com/tensorflow/tensorflow_machine_learning_deep_learning.htm\n",
            "https://tvst.arvojournals.org/article.aspx?articleid=2762344\n",
            "https://www.edx.org/learn/machine-learning/massachusetts-institute-of-technology-machine-learning-with-python-from-linear-models-to-deep-learning\n",
            "https://www.turing.com/blog/artificial-intelligence-vs-machine-learning-vs-deep-learning/\n",
            "https://www.byteant.com/blog/computer-vision-vs-machine-learning-vs-deep-learning-guide-to-ai-applications/\n",
            "https://data-flair.training/blogs/deep-learning-vs-machine-learning/\n",
            "https://appen.com/blog/ai-vs-deep-learning-vs-machine-learning-everything-youve-ever-wanted-to-know/\n",
            "https://journalofbigdata.springeropen.com/articles/10.1186/s40537-021-00444-8\n",
            "https://www.deeplearningbook.org/\n",
            "https://www.analyticsvidhya.com/blog/2017/04/comparison-between-deep-learning-machine-learning/\n",
            "https://medium.com/swlh/a-beginners-guide-to-understanding-the-buzz-words-ai-ml-nlp-deep-learning-computer-vision-a877ee1c2cde\n",
            "https://emeritus.org/blog/deep-learning-vs-machine-learning/\n",
            "https://www.ncbi.nlm.nih.gov/pmc/articles/PMC7347027/\n",
            "https://www.spiceworks.com/tech/artificial-intelligence/articles/ai-machine-learning-deep-learning/\n",
            "https://www.projectpro.io/article/deep-learning-algorithms/443\n",
            "https://wiki.pathmind.com/ai-vs-machine-learning-vs-deep-learning\n",
            "https://www.springboard.com/blog/data-science/artificial-intelligence-vs-machine-learning-vs-deep-learning/\n",
            "https://www.linkedin.com/advice/0/what-pros-cons-using-deep-learning-vs-traditional\n",
            "https://www.altexsoft.com/blog/data-science-artificial-intelligence-machine-learning-deep-learning-data-mining/\n",
            "https://byjus.com/gate/difference-between-machine-learning-and-deep-learning/\n",
            "https://www.ridgerun.com/video-based-ai\n",
            "https://www.pce.uw.edu/certificates/machine-learning-and-deep-learning-application-frontiers\n",
            "https://www.xilinx.com/applications/ai-inference/difference-between-deep-learning-training-and-inference.html\n",
            "https://www.botsandpeople.com/blog/machine-learning-deep-learning-when-computer-learn-independently\n",
            "https://hackernoon.com/deep-learning-vs-machine-learning-a-simple-explanation-47405b3eef08\n",
            "https://www.udemy.com/course/introduction-to-machine-learning-in-python/\n",
            "https://www.sap.com/products/artificial-intelligence/what-is-machine-learning.html\n",
            "https://nix-united.com/blog/artificial-intelligence-vs-machine-learning-vs-deep-learning-explaining-the-difference/\n",
            "https://rockcontent.com/blog/ai-vs-machine-learning-vs-deep-learning/\n",
            "https://blog.purestorage.com/purely-informational/deep-learning-vs-neural-networks/\n",
            "https://blog.bismart.com/en/difference-between-machine-learning-deep-learning\n",
            "https://bernardmarr.com/what-is-deep-learning-ai-a-simple-guide-with-8-practical-examples/\n",
            "https://intellipaat.com/blog/data-science-vs-deep-learning-vs-machine-learning-vs-artificial-intelligence/\n",
            "https://www.sitech.me/blog/ai-vs-machine-learning-vs-deep-learning\n",
            "https://gemvietnam.com/artificial-intelligence/machine-learning-vs-deep-learning/\n",
            "https://pubs.acs.org/doi/10.1021/acs.chas.0c00075\n",
            "https://www.edureka.co/blog/ai-vs-machine-learning-vs-deep-learning/\n",
            "https://ai-med.io/ac-observations/is-deep-learning-supervised-or-unsupervised/\n",
            "https://blog.rtbhouse.com/deep-learning-vs-machine-learning-in-advertising/\n",
            "https://knowledgetransfer.web.cern.ch/competences/machine-learning-and-deep-learning\n",
            "https://www.learndatasci.com/best-machine-learning-courses/\n",
            "https://sonix.ai/articles/difference-between-artificial-intelligence-machine-learning-and-natural-language-processing\n",
            "https://www.andrewng.org/courses/\n",
            "https://www.learntek.org/blog/machine-learning-vs-deep-learning/\n",
            "https://www.domo.com/glossary/what-are-machine-learning-basics\n",
            "https://www.techrepublic.com/article/understanding-the-differences-between-ai-machine-learning-and-deep-learning/\n",
            "https://www.dataversity.net/brief-history-deep-learning/\n",
            "https://quantdare.com/what-is-the-difference-between-deep-learning-and-machine-learning/\n",
            "https://online.york.ac.uk/the-next-step-in-machine-learning-deep-learning/\n",
            "https://www.datanami.com/2019/09/17/whats-the-difference-between-ai-ml-deep-learning-and-active-learning/\n",
            "http://introtodeeplearning.com/\n",
            "https://cs230.stanford.edu/\n",
            "https://www.ansys.com/technology-trends/artificial-intelligence-machine-learning-deep-learning\n",
            "https://www.freecodecamp.org/news/deep-learning-neural-networks-explained-in-plain-english/\n",
            "https://www.upgrad.com/blog/machine-learning-vs-neural-networks/\n",
            "https://www.digitaltrends.com/cool-tech/deep-learning-vs-machine-learning-explained/\n",
            "https://master-iesc-angers.com/artificial-intelligence-machine-learning-and-deep-learning-same-context-different-concepts/\n",
            "https://pro.arcgis.com/en/pro-app/latest/help/analysis/deep-learning/what-is-deep-learning-.htm\n",
            "https://www.cs.ox.ac.uk/people/nando.defreitas/machinelearning/\n",
            "https://www.pentalog.com/blog/tech-trends/chatgpt-fundamentals/\n",
            "https://www.alibabacloud.com/blog/deep-learning-vs-machine-learning-vs-pattern-recognition_207110\n",
            "https://www.toptal.com/machine-learning/machine-learning-theory-an-introductory-primer\n",
            "https://www.nature.com/articles/nature14539\n",
            "https://www.numenta.com/blog/2022/01/25/the-path-to-machine-intelligence/\n",
            "https://www.routledge.com/Applications-of-Machine-Learning-and-Deep-Learning-on-Biological-Data/Masoodi-Quasim-Bukhari-Dixit-Alam/p/book/9781032214375\n",
            "https://www.akkio.com/post/the-five-main-subsets-of-ai-machine-learning-nlp-and-more\n",
            "https://onlinecourses.nptel.ac.in/noc23_ee87/preview\n",
            "https://ieeexplore.ieee.org/iel7/8671767/8674884/08675097.pdf\n",
            "https://www.v7labs.com/blog/deep-reinforcement-learning-guide\n",
            "https://escapeauthority.com/data-science-machine-learning-deep-learning-services-upwork-pp-9OqL7GCx\n",
            "https://reference.wolfram.com/language/guide/MachineLearning.html\n",
            "https://www.weka.io/learn/ai-ml/computer-vision-vs-machine-learning/\n",
            "https://www.scientificamerican.com/article/springtime-for-ai-the-rise-of-deep-learning/\n",
            "https://course.fast.ai/\n",
            "https://www.kdnuggets.com/2022/10/15-free-machine-learning-deep-learning-books.html\n",
            "https://keras.io/\n",
            "https://plat.ai/blog/deep-learning-in-data-science/\n",
            "https://www.strath.ac.uk/courses/postgraduatetaught/machinelearningdeeplearning/\n",
            "https://hbr.org/2017/01/deep-learning-will-radically-change-the-ways-we-interact-with-technology\n",
            "https://www.oreilly.com/library/view/hands-on-machine-learning/9781492032632/\n",
            "https://www.arivis.com/applications/ai-machine-learning-deep-learning\n",
            "https://healthitanalytics.com/features/what-is-deep-learning-and-how-will-it-change-healthcare\n",
            "https://realpython.com/python-ai-neural-network/\n",
            "https://h2o.ai/\n",
            "https://github.com/ashishpatel26/500-AI-Machine-learning-Deep-learning-Computer-vision-NLP-Projects-with-code\n",
            "https://fortune.com/longform/ai-artificial-intelligence-deep-machine-learning/\n",
            "https://paperswithcode.com/\n",
            "https://www.iqiglobal.com/blog/ai-vs-machine-vs-deep-learning/\n",
            "https://www.mygreatlearning.com/blog/deep-learning-applications/\n",
            "https://www.cognex.com/products/deep-learning\n",
            "https://marutitech.com/top-8-deep-learning-frameworks/\n",
            "https://developer.apple.com/machine-learning/\n",
            "https://www.sophos.com/en-us/content/deep-learning-cybersecurity\n",
            "https://nautil.us/deep-learning-is-hitting-a-wall-238440/\n",
            "https://www.w3schools.com/python/python_ml_getting_started.asp\n",
            "https://www.mckinsey.com/featured-insights/mckinsey-explainers/what-is-ai\n",
            "https://a16z.com/ai-deep-learning-and-machine-learning-a-primer/\n",
            "https://pytorch.org/tutorials/beginner/deep_learning_60min_blitz.html\n",
            "https://serokell.io/blog/ai-ml-dl-difference\n",
            "https://www.deepmind.com/\n",
            "https://www.lengoo.com/blog/ai-buzzwords/\n",
            "https://discite.ai/our-specialisations/ml-deep-learning/\n",
            "https://www.climatechange.ai/\n",
            "https://www.udacity.com/school/artificial-intelligence\n",
            "https://www.reddit.com/r/learnmachinelearning/comments/16woxpz/1850_data_science_machine_learning_deep_learning/\n",
            "https://www.nytimes.com/2012/06/26/technology/in-a-big-network-of-computers-evidence-of-machine-learning.html\n",
            "https://www.net-cloud.com/blog/machine-learning-and-deep-learning-101/\n"
          ]
        }
      ]
    },
    {
      "cell_type": "code",
      "source": [
        "# Pocket Dictonary\n",
        "\n",
        "! pip install pydictionary"
      ],
      "metadata": {
        "id": "gIwAWCWgMuCi",
        "colab": {
          "base_uri": "https://localhost:8080/"
        },
        "outputId": "d1790726-5842-4859-8370-ba66ae31d877"
      },
      "execution_count": null,
      "outputs": [
        {
          "output_type": "stream",
          "name": "stdout",
          "text": [
            "Requirement already satisfied: pydictionary in /usr/local/lib/python3.10/dist-packages (2.0.1)\n",
            "Requirement already satisfied: bs4 in /usr/local/lib/python3.10/dist-packages (from pydictionary) (0.0.1)\n",
            "Requirement already satisfied: click in /usr/local/lib/python3.10/dist-packages (from pydictionary) (8.1.7)\n",
            "Requirement already satisfied: goslate in /usr/local/lib/python3.10/dist-packages (from pydictionary) (1.5.4)\n",
            "Requirement already satisfied: requests in /usr/local/lib/python3.10/dist-packages (from pydictionary) (2.31.0)\n",
            "Requirement already satisfied: beautifulsoup4 in /usr/local/lib/python3.10/dist-packages (from bs4->pydictionary) (4.11.2)\n",
            "Requirement already satisfied: futures in /usr/local/lib/python3.10/dist-packages (from goslate->pydictionary) (3.0.5)\n",
            "Requirement already satisfied: charset-normalizer<4,>=2 in /usr/local/lib/python3.10/dist-packages (from requests->pydictionary) (3.2.0)\n",
            "Requirement already satisfied: idna<4,>=2.5 in /usr/local/lib/python3.10/dist-packages (from requests->pydictionary) (3.4)\n",
            "Requirement already satisfied: urllib3<3,>=1.21.1 in /usr/local/lib/python3.10/dist-packages (from requests->pydictionary) (2.0.4)\n",
            "Requirement already satisfied: certifi>=2017.4.17 in /usr/local/lib/python3.10/dist-packages (from requests->pydictionary) (2023.7.22)\n",
            "Requirement already satisfied: soupsieve>1.2 in /usr/local/lib/python3.10/dist-packages (from beautifulsoup4->bs4->pydictionary) (2.5)\n"
          ]
        }
      ]
    },
    {
      "cell_type": "code",
      "source": [
        "from PyDictionary import PyDictionary\n",
        "\n",
        "dictionary = PyDictionary()\n",
        "\n",
        "word = input(\"Enter the word of which you want to find the meaning:\")\n",
        "\n",
        "print(dictionary.meaning(word))"
      ],
      "metadata": {
        "colab": {
          "base_uri": "https://localhost:8080/"
        },
        "id": "8wIOnF9LPCVo",
        "outputId": "e37c1839-1e70-422b-f1a9-677a36fd3557"
      },
      "execution_count": null,
      "outputs": [
        {
          "output_type": "stream",
          "name": "stdout",
          "text": [
            "Enter the word of which you want to find the meaning:love \n",
            "{'Noun': ['a strong positive emotion of regard and affection', 'any object of warm affection or devotion', 'a beloved person; used as terms of endearment', 'a deep feeling of sexual desire and attraction', 'a score of zero in tennis or squash', 'sexual activities (often including sexual intercourse'], 'Verb': ['have a great affection or liking for', 'get pleasure from', 'be enamored or in love with', 'have sexual intercourse with']}\n"
          ]
        }
      ]
    },
    {
      "cell_type": "code",
      "source": [],
      "metadata": {
        "id": "4bmPdT4719Bs"
      },
      "execution_count": null,
      "outputs": []
    }
  ]
}