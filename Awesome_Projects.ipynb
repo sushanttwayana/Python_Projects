{
  "nbformat": 4,
  "nbformat_minor": 0,
  "metadata": {
    "colab": {
      "provenance": [],
      "authorship_tag": "ABX9TyM4VGotYumlcYcm+rd+eWhg",
      "include_colab_link": true
    },
    "kernelspec": {
      "name": "python3",
      "display_name": "Python 3"
    },
    "language_info": {
      "name": "python"
    }
  },
  "cells": [
    {
      "cell_type": "markdown",
      "metadata": {
        "id": "view-in-github",
        "colab_type": "text"
      },
      "source": [
        "<a href=\"https://colab.research.google.com/github/sushanttwayana/Python_Projects/blob/main/Awesome_Projects.ipynb\" target=\"_parent\"><img src=\"https://colab.research.google.com/assets/colab-badge.svg\" alt=\"Open In Colab\"/></a>"
      ]
    },
    {
      "cell_type": "code",
      "execution_count": null,
      "metadata": {
        "colab": {
          "base_uri": "https://localhost:8080/"
        },
        "id": "3Y-8p4NA5cW_",
        "outputId": "c7fcd62b-040d-48af-c7ef-d436b74b445b"
      },
      "outputs": [
        {
          "output_type": "stream",
          "name": "stdout",
          "text": [
            "Let's Begin!\n",
            "---------\n",
            "Guess a word:\n"
          ]
        }
      ],
      "source": [
        "# Hangman\n",
        "import random\n",
        "\n",
        "words = [\"banana\",\n",
        "\"elephant\",\n",
        "\"computer\",\n",
        "\"chocolate\",\n",
        "\"butterfly\",\n",
        "\"adventure\",\n",
        "\"sunshine\",\n",
        "\"happiness\",\n",
        "\"universe\",\n",
        "\"mountain\",\n",
        "\"waterfall\",\n",
        "\"telephone\",\n",
        "\"guitar\",\n",
        "\"kangaroo\",\n",
        "\"pizza\",\n",
        "\"rainbow\",\n",
        "\"treasure\",\n",
        "\"whisper\",\n",
        "\"vacation\",\n",
        "\"icecream\"]\n",
        "\n",
        "# extract word from a file\n",
        "\n",
        "# f = open(\"words.txt\", \"r\")\n",
        "# data = f.readline()\n",
        "# words = data.split()\n",
        "# word = random.choice(words)\n",
        "# word = word.lower()\n",
        "\n",
        "\n",
        "word = random.choice(words)\n",
        "total_chances = 7\n",
        "guess_word = \"-\" * len(word)\n",
        "print(\"Let's Begin!\")\n",
        "print(guess_word)\n",
        "\n",
        "while total_chances != 0:\n",
        "\n",
        "    print(\"Guess a word:\")\n",
        "    letter = input(\"Guess a letter :\").lower()\n",
        "\n",
        "    if letter in word:\n",
        "\n",
        "            for i in range(len(word)):\n",
        "                if word[i] == letter:\n",
        "                    guess_word = guess_word[:i] + letter + guess_word[i + 1:]\n",
        "                    print(guess_word)\n",
        "\n",
        "            if guess_word == word:\n",
        "                print(\"Congratulations, You Won!!\")\n",
        "                break\n",
        "\n",
        "    else :\n",
        "        total_chances -= 1\n",
        "        print(\"Incorrect Guess\")\n",
        "        print (guess_word)\n",
        "        print(\"Your remaining chances are:\", total_chances)\n",
        "\n",
        "else :\n",
        "    print(\"Game Over\")\n",
        "    print(\"Sorry You Lose\")\n",
        "    print(\"The correct word is :\", word)"
      ]
    }
  ]
}