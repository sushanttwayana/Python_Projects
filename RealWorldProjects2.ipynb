{
  "nbformat": 4,
  "nbformat_minor": 0,
  "metadata": {
    "colab": {
      "provenance": [],
      "authorship_tag": "ABX9TyNGkuTDW4/CJKH4pl8Y8vto",
      "include_colab_link": true
    },
    "kernelspec": {
      "name": "python3",
      "display_name": "Python 3"
    },
    "language_info": {
      "name": "python"
    }
  },
  "cells": [
    {
      "cell_type": "markdown",
      "metadata": {
        "id": "view-in-github",
        "colab_type": "text"
      },
      "source": [
        "<a href=\"https://colab.research.google.com/github/sushanttwayana/Python_Projects/blob/main/RealWorldProjects2.ipynb\" target=\"_parent\"><img src=\"https://colab.research.google.com/assets/colab-badge.svg\" alt=\"Open In Colab\"/></a>"
      ]
    },
    {
      "cell_type": "code",
      "execution_count": null,
      "metadata": {
        "id": "QDvjUda9g8IZ"
      },
      "outputs": [],
      "source": [
        "# import module_1, module_2, ....\n",
        "# module_name.function_name\n",
        "# from module_name import function_name1, function_name2,..... -> when specified attributes know\n",
        "# from module_name import * -> import all"
      ]
    },
    {
      "cell_type": "code",
      "source": [
        "# YOU NEED AN IDE WHICH HAVE BUILT IN GUI SO AS TO RUN THESE PROJECTS LIKE VS CODE, Jupyter"
      ],
      "metadata": {
        "id": "r-qUcZ0rmhZT"
      },
      "execution_count": null,
      "outputs": []
    },
    {
      "cell_type": "code",
      "source": [
        "# get started with Tkinter with a hello world, application\n",
        "# work with widgets such as buttons and text boxes\n",
        "# control your applications with a geometry managers\n",
        "# make your applications interactive by associating button clicks with pythons functions\n",
        "# Tkinter is a well-known library for creating GUI -based applications\n",
        "# Enable us to create a fully featured application with the help of widgets, functions and modules\n",
        "# The frame widget in Tkinter manages all widgets in an application as a container\n",
        "# Geometry manager helps to create  the layout of the widget and place them in a certain order\n",
        "# The foundational element of the Tkinter GUI is window\n",
        "# Window is the container in which all other GUI elements are going to be placed. These other GUI elements such as text boxes,\n",
        "# labels and buttons are known as widget\n",
        "# mainloop() tells the python to run Tkinter event loop. This method listens for events such as button clicks and blocks any code that comes after it\n",
        "# from running it until you close the window where you call the method\n",
        "\n",
        "# Widgets are those which user interact with the programs\n",
        "# Each widget in Tkinter is defined by a class\n",
        "# Label widget -> used to display text on the screen\n",
        "# Button -> that can contain texts and perform actions when clicked\n",
        "# Entry -> widget that allows only a single line of text\n",
        "# Text -> allows multiline text entry\n",
        "# Frame Widget -> rectangular region\n",
        "\n",
        "# Each window or frame can use only one Geometry manager\n",
        "# BUt different frames can use different GEometry managers\n",
        "\n",
        "# .pack() uses a packing algorithm to place widgets in a Frame or Window in a specified order, ceneters\n"
      ],
      "metadata": {
        "id": "Nq9pt-HFlfgO"
      },
      "execution_count": null,
      "outputs": []
    },
    {
      "cell_type": "code",
      "source": [
        "from tkinter import *\n",
        "\n",
        "# create an instance\n",
        "window = Tk()\n",
        "\n",
        "# without main loop the new window wont open and we cant define requirements inside it\n",
        "window.mainloop()\n"
      ],
      "metadata": {
        "colab": {
          "base_uri": "https://localhost:8080/",
          "height": 366
        },
        "id": "Kj85CM_Xsa9r",
        "outputId": "9afd64d0-59b2-40c6-af1f-2f58e33a55ef"
      },
      "execution_count": null,
      "outputs": [
        {
          "output_type": "error",
          "ename": "TclError",
          "evalue": "ignored",
          "traceback": [
            "\u001b[0;31m---------------------------------------------------------------------------\u001b[0m",
            "\u001b[0;31mTclError\u001b[0m                                  Traceback (most recent call last)",
            "\u001b[0;32m<ipython-input-1-81a7ca5c5b25>\u001b[0m in \u001b[0;36m<cell line: 4>\u001b[0;34m()\u001b[0m\n\u001b[1;32m      2\u001b[0m \u001b[0;34m\u001b[0m\u001b[0m\n\u001b[1;32m      3\u001b[0m \u001b[0;31m# create an instance\u001b[0m\u001b[0;34m\u001b[0m\u001b[0;34m\u001b[0m\u001b[0m\n\u001b[0;32m----> 4\u001b[0;31m \u001b[0mwindow\u001b[0m \u001b[0;34m=\u001b[0m \u001b[0mTk\u001b[0m\u001b[0;34m(\u001b[0m\u001b[0;34m)\u001b[0m\u001b[0;34m\u001b[0m\u001b[0;34m\u001b[0m\u001b[0m\n\u001b[0m\u001b[1;32m      5\u001b[0m \u001b[0;34m\u001b[0m\u001b[0m\n\u001b[1;32m      6\u001b[0m \u001b[0;31m# without main loop the new window wont open and we cant define requirements inside it\u001b[0m\u001b[0;34m\u001b[0m\u001b[0;34m\u001b[0m\u001b[0m\n",
            "\u001b[0;32m/usr/lib/python3.10/tkinter/__init__.py\u001b[0m in \u001b[0;36m__init__\u001b[0;34m(self, screenName, baseName, className, useTk, sync, use)\u001b[0m\n\u001b[1;32m   2297\u001b[0m                 \u001b[0mbaseName\u001b[0m \u001b[0;34m=\u001b[0m \u001b[0mbaseName\u001b[0m \u001b[0;34m+\u001b[0m \u001b[0mext\u001b[0m\u001b[0;34m\u001b[0m\u001b[0;34m\u001b[0m\u001b[0m\n\u001b[1;32m   2298\u001b[0m         \u001b[0minteractive\u001b[0m \u001b[0;34m=\u001b[0m \u001b[0;32mFalse\u001b[0m\u001b[0;34m\u001b[0m\u001b[0;34m\u001b[0m\u001b[0m\n\u001b[0;32m-> 2299\u001b[0;31m         \u001b[0mself\u001b[0m\u001b[0;34m.\u001b[0m\u001b[0mtk\u001b[0m \u001b[0;34m=\u001b[0m \u001b[0m_tkinter\u001b[0m\u001b[0;34m.\u001b[0m\u001b[0mcreate\u001b[0m\u001b[0;34m(\u001b[0m\u001b[0mscreenName\u001b[0m\u001b[0;34m,\u001b[0m \u001b[0mbaseName\u001b[0m\u001b[0;34m,\u001b[0m \u001b[0mclassName\u001b[0m\u001b[0;34m,\u001b[0m \u001b[0minteractive\u001b[0m\u001b[0;34m,\u001b[0m \u001b[0mwantobjects\u001b[0m\u001b[0;34m,\u001b[0m \u001b[0museTk\u001b[0m\u001b[0;34m,\u001b[0m \u001b[0msync\u001b[0m\u001b[0;34m,\u001b[0m \u001b[0muse\u001b[0m\u001b[0;34m)\u001b[0m\u001b[0;34m\u001b[0m\u001b[0;34m\u001b[0m\u001b[0m\n\u001b[0m\u001b[1;32m   2300\u001b[0m         \u001b[0;32mif\u001b[0m \u001b[0museTk\u001b[0m\u001b[0;34m:\u001b[0m\u001b[0;34m\u001b[0m\u001b[0;34m\u001b[0m\u001b[0m\n\u001b[1;32m   2301\u001b[0m             \u001b[0mself\u001b[0m\u001b[0;34m.\u001b[0m\u001b[0m_loadtk\u001b[0m\u001b[0;34m(\u001b[0m\u001b[0;34m)\u001b[0m\u001b[0;34m\u001b[0m\u001b[0;34m\u001b[0m\u001b[0m\n",
            "\u001b[0;31mTclError\u001b[0m: no display name and no $DISPLAY environment variable"
          ]
        }
      ]
    },
    {
      "cell_type": "code",
      "source": [
        "# turtle is a preinstalled library that enables users to create pictures and shapes by providing them with a virtual canvas\n",
        "\n",
        "# there are four directions that a turtle can move in:\n",
        "# forward\n",
        "# backward\n",
        "# Left\n",
        "# Right\n",
        "\n",
        "import turtle\n",
        "turtle.bgcolor(\"black\")\n",
        "turtle.pensize(5)\n",
        "turtle.speed(0.1)\n",
        "colors = [\"red\", \"green\", \"blue\", \"cyan\", \"purple\", \"yellow\", \"orange\"]\n",
        "\n",
        "for i in range(20):\n",
        "    for color in colors:\n",
        "        # turtle.fillcolor(color)\n",
        "        turtle.color(color)\n",
        "        turtle.circle(120)\n",
        "        turtle.right(10)\n",
        "\n",
        "turtle.mainloop()"
      ],
      "metadata": {
        "id": "Rx3gr23Zmjxq"
      },
      "execution_count": null,
      "outputs": []
    },
    {
      "cell_type": "code",
      "source": [
        "# gTTS API\n",
        "# pyttsx3\n",
        "# pip install pyttsx3\n",
        "\n",
        "import pyttsx3\n",
        "import os\n",
        "\n",
        "# read from an file and convert to speech\n",
        "myFile = open(\"machine_learning.txt\", 'r')\n",
        "myText = myFile.read()\n",
        "\n",
        "voice  = pyttsx3.init()\n",
        "\n",
        "# convert directly the given text gto speech\n",
        "# myText = \"Hello everyone, My name is Sushant twayana. It's nice to meet you all and hope all of you are doing well.\"\n",
        "\n",
        "voice.say(myText)\n",
        "# voice.save_to_file(myText, \"hello.mp3\")\n",
        "voice.save_to_file(myText, \"machinelearning.mp3\")\n",
        "voice.runAndWait()\n",
        "\n",
        "# os.system(\"start hello.mp3\")\n",
        "os.system(\"start machinelearning.mp3\")"
      ],
      "metadata": {
        "id": "oPdsIlB9mkaa"
      },
      "execution_count": null,
      "outputs": []
    },
    {
      "cell_type": "code",
      "source": [
        "# pip install moviepy\n",
        "\n",
        "import moviepy.editor as mp\n",
        "from tkinter import *\n",
        "from tkinter import filedialog\n",
        "\n",
        "# Now we are going to create a function for converting video file to audio file\n",
        "def convert():\n",
        "    videoClip = mp.VideoFileClip(fname)\n",
        "\n",
        "    # The generated filename is speech\n",
        "    videoClip.audio.write_audiofile(\"speech.mp3\")\n",
        "    messageToGenerate.set(\"Congrtulation, audio file is generated successfully\")\n",
        "\n",
        "# Create a function for uploading the video file\n",
        "\n",
        "def upload():\n",
        "    # uploading file\n",
        "    filename = filedialog.askopenfilename(filetypes= [('MP4 Files', '*.mp4'), ('WW Files', '.*.wmv'), ('ogg files', '.*ogg')])\n",
        "    # the message showing when the file is uploaded\n",
        "    messageForUpload.set(\"File Uploaded:\"+filename)\n",
        "    # declaring global variable\n",
        "    global fname\n",
        "    # passing uploaded filename into fname\n",
        "    fname = filename\n",
        "\n",
        "# project canva\n",
        "\n",
        "root = Tk()\n",
        "\n",
        "# setting the window height and width\n",
        "# root.geometry(\"700 x 250\")\n",
        "#setting project/window background color\n",
        "root[\"bg\"] = \"orange\"\n",
        "# setting project title\n",
        "root.title(\"Video to audio converting app done!\")\n",
        "\n",
        "# create variables for messages\n",
        "global messageForUpload\n",
        "global messageToGenerate\n",
        "\n",
        "messageForUpload = StringVar()\n",
        "messageToGenerate= StringVar()\n",
        "\n",
        "# Label for uploading message\n",
        "Label(root, text=\"Hello\", textvar = messageForUpload, font = \"Arial 12\", fg = \"#fff\", bg =\"black\").place(x=100, y = 40)\n",
        "\n",
        "# Button for uploading files\n",
        "Button(root, text=\"Upload Video\", command=upload, font=\"Arial 12 bold\",fg = \"#fff\", bg=\"green\").place(x=100, y =70)\n",
        "\n",
        "# Button for Converting video to audio\n",
        "Button(root, text=\"Convert Video\", command=convert, font=\"Arial 12 bold\",fg = \"#fff\", bg=\"green\").place(x=350, y =70)\n",
        "\n",
        "\n",
        "# Label for converting message\n",
        "Label(root, text=\"Hello\", textvar = messageToGenerate, font = \"Arial 12\", fg = \"#fff\", bg =\"black\").place(x=100, y = 120)\n",
        "\n",
        "root.mainloop()"
      ],
      "metadata": {
        "id": "or3Yy-4WmnWz"
      },
      "execution_count": null,
      "outputs": []
    },
    {
      "cell_type": "code",
      "source": [
        "from tkinter import *\n",
        "\n",
        "# create an instance\n",
        "window = Tk()\n",
        "\n",
        "# create label widget\n",
        "label = Label(text = \"Hello everyone\", fg = \"black\", bg=\"orange\", width = 20, height= 20)\n",
        "label.pack()\n",
        "\n",
        "# create a clickable widgets\n",
        "button = Button(text = \"Click Here\", width = 8, height=1, fg=\"white\", bg =\"green\", border = 5)\n",
        "button.pack()\n",
        "\n",
        "# without main loop the new window wont open and we cant define requirements inside it\n",
        "window.mainloop()\n",
        "\n",
        "\n",
        "\n",
        "from tkinter import *\n",
        "\n",
        "window = Tk()\n",
        "\n",
        "frame_a = Frame()\n",
        "label_a = Label(master = frame_a, text =\" Learn python doing projects\")\n",
        "label_a.pack()\n",
        "\n",
        "frame_b =  Frame()\n",
        "label_b = Label(master= frame_b, text =\" I am a programmer\")\n",
        "label_b.pack()\n",
        "\n",
        "frame_a.pack()\n",
        "frame_b.pack()\n",
        "\n",
        "window.mainloop()"
      ],
      "metadata": {
        "id": "OrzMG7zJmr-T"
      },
      "execution_count": null,
      "outputs": []
    },
    {
      "cell_type": "code",
      "source": [
        "from tkinter import *\n",
        "\n",
        "window = Tk()\n",
        "\n",
        "# create a function\n",
        "\n",
        "def greeting_msg():\n",
        "    greeting_a = Label(text = \"What is your name\",font= \"Arial 14 bold\", fg = \"orange\", bg =\"blue\" )\n",
        "    greeting_a.pack()\n",
        "    greeting_b = Label(text = \"How are you?\",font= \"Arial 14 bold\", fg = \"black\", bg =\"red\" )\n",
        "    greeting_b.pack()\n",
        "\n",
        "btn = Button(text=\"Click Me\", font= \"Arial 14 bold\", fg = \"white\", bg =\"green\", command = greeting_msg)\n",
        "btn.pack()\n",
        "\n",
        "window.mainloop()"
      ],
      "metadata": {
        "id": "ZWvpaY10mwIR"
      },
      "execution_count": null,
      "outputs": []
    },
    {
      "cell_type": "code",
      "source": [
        "# controlling Application Layout with Geometry Managers\n",
        "# Geometry Managers -> .pack(), .grid(), .place()\n",
        "\n",
        "from tkinter import *\n",
        "\n",
        "window = Tk()\n",
        "\n",
        "# defaults center\n",
        "# frame_a = Frame(master=window, width = 150, height= 150, bg = \"blue\")\n",
        "# frame_a.pack()\n",
        "\n",
        "# frame_b = Frame(master=window, width = 100, height= 100, bg = \"red\")\n",
        "# frame_b.pack()\n",
        "\n",
        "# frame_c = Frame(master=window, width = 50, height= 50, bg = \"green\")\n",
        "# frame_c.pack()\n",
        "\n",
        "# frame_d = Frame(master=window, width = 10, height= 10, bg = \"yellow\")\n",
        "# frame_d.pack()\n",
        "\n",
        "# ----------------- size and X and Y parameters are defined\n",
        "# frame_a = Frame(master=window, width = 150, height= 150, bg = \"blue\")\n",
        "# frame_a.pack(fill=X) # defaults center\n",
        "\n",
        "# frame_b = Frame(master=window, width = 100, height= 100, bg = \"red\")\n",
        "# frame_b.pack(fill=X)\n",
        "\n",
        "# frame_c = Frame(master=window, width = 50, height= 50, bg = \"green\")\n",
        "# frame_c.pack(fill=Y, side=LEFT)\n",
        "\n",
        "# frame_d = Frame(master=window, width = 10, height= 10, bg = \"yellow\")\n",
        "# frame_d.pack(fill=Y, side = LEFT)\n",
        "\n",
        "\n",
        "# ------------------ in both direction\n",
        "frame_a = Frame(master=window, width = 150, height= 150, bg = \"blue\")\n",
        "frame_a.pack(fill = BOTH, side= RIGHT, expand=True) # defaults center\n",
        "\n",
        "frame_b = Frame(master=window, width = 100, height= 100, bg = \"red\")\n",
        "frame_b.pack(fill = BOTH, side= RIGHT, expand=True)\n",
        "\n",
        "frame_c = Frame(master=window, width = 50, height= 50, bg = \"green\")\n",
        "frame_c.pack(fill = BOTH, side= RIGHT, expand=True)\n",
        "\n",
        "frame_d = Frame(master=window, width = 10, height= 10, bg = \"yellow\")\n",
        "frame_d.pack(fill = BOTH, side= RIGHT, expand=True)\n",
        "\n",
        "window.mainloop()"
      ],
      "metadata": {
        "id": "Vhqb57TsmzjL"
      },
      "execution_count": null,
      "outputs": []
    }
  ]
}