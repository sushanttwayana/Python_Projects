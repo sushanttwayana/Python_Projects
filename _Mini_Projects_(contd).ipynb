{
  "nbformat": 4,
  "nbformat_minor": 0,
  "metadata": {
    "colab": {
      "provenance": [],
      "authorship_tag": "ABX9TyMvftgSgrAKV1aNPucKbcWP",
      "include_colab_link": true
    },
    "kernelspec": {
      "name": "python3",
      "display_name": "Python 3"
    },
    "language_info": {
      "name": "python"
    }
  },
  "cells": [
    {
      "cell_type": "markdown",
      "metadata": {
        "id": "view-in-github",
        "colab_type": "text"
      },
      "source": [
        "<a href=\"https://colab.research.google.com/github/sushanttwayana/Python_Projects/blob/main/_Mini_Projects_(contd).ipynb\" target=\"_parent\"><img src=\"https://colab.research.google.com/assets/colab-badge.svg\" alt=\"Open In Colab\"/></a>"
      ]
    },
    {
      "cell_type": "code",
      "execution_count": null,
      "metadata": {
        "id": "q7cf9q_9gqbh"
      },
      "outputs": [],
      "source": [
        "# ========================== Covid 19 Update Bot ===================================\n",
        "\n",
        "# please use an currently available url for fetching the data\n",
        "# pip install requests, win10toast\n",
        "# reuests library allows us to send requests to different websites\n",
        "# win10toast allows us to show notificitaion in windows\n",
        "\n",
        "import requests\n",
        "from win10toast import ToastNotifier\n",
        "import json # An API which allows us the as to be in json format\n",
        "import time\n",
        "\n",
        "def update():\n",
        "\n",
        "    r = requests.get('https://api.covid19api.com/all')\n",
        "    r.raise_for_status()  # Raise an exception for HTTP errors (e.g., 404)\n",
        "    data = r.json() # convert data into json format\n",
        "    # text = f'Confirmed Cases: {data[\"cases\"]}\\nDeaths: {data[\"deaths\"]}\\nRecovered: {data[\"recovered\"]}'\n",
        "    text = f'Confirmed Cases: {data[\"cases\"]}\\nDeaths: {data[\"deaths\"]}\\nRecovered: {data[\"recovered\"]}'\n",
        "\n",
        "    while True :\n",
        "        toast = ToastNotifier()\n",
        "        toast.show_toast(\"Covid-19 Updates\",text,duration = 20) #sleep after 20 seconds\n",
        "        time.sleep(60) #every 60 minute this notification will pop up again\n",
        "\n",
        "\n",
        "update()\n",
        "\n",
        "\n",
        "# ============================================\n",
        "\n",
        "# import requests\n",
        "# from win10toast import ToastNotifier\n",
        "# import time\n",
        "\n",
        "# def update():\n",
        "#     while True:\n",
        "#         # try:\n",
        "#             r = requests.get('https://coronavirus.jhu.edu/map.html')\n",
        "#             data = r.json()\n",
        "#             text = f'Confirmed Cases: {data[\"cases\"]}\\nDeaths: {data[\"deaths\"]}\\nRecovered: {data[\"recovered\"]}'\n",
        "#             toast = ToastNotifier()\n",
        "#             toast.show_toast(\"Covid-19 Updates\", text, duration=20)\n",
        "#             time.sleep(3600)  # Show the notification every 60 minutes\n",
        "\n",
        "#         # except Exception as e:\n",
        "#         #     print(f\"An error occurred: {str(e)}\")\n",
        "\n",
        "# if __name__ == \"__main__\":\n",
        "#     update()\n"
      ]
    },
    {
      "cell_type": "code",
      "source": [
        "# ========================== IMAGE TO TEXT ===================================\n",
        "# Use this link to download necessecary tesseract file \"github.com/UB-Mannheim/tesseract/wiki\"\n",
        "# pip install tesseract\n",
        "\n",
        "import pytesseract\n",
        "import os\n",
        "from PIL import Image\n",
        "\n",
        "pytesseract.pytesseract.tesseract_cmd = r\"D:\\vs code\\my_folder\\python\\Modules\\tesseract.exe\" # path to tesseract\n",
        "\n",
        "def convert() :\n",
        "    img  = Image.open('ocr_img1.png')\n",
        "    text = pytesseract.image_to_string(img)\n",
        "    print(text)\n",
        "\n",
        "convert()\n"
      ],
      "metadata": {
        "id": "Pd3M1BqnhEnt"
      },
      "execution_count": null,
      "outputs": []
    },
    {
      "cell_type": "code",
      "source": [
        "# ========================== TEXT TO SPEECH ===================================\n",
        "\n",
        "# pip install pyttsx3\n",
        "\n",
        "import pyttsx3\n",
        "\n",
        "data  = input(\"Enter text which you want to convert to speech:\\n\")\n",
        "\n",
        "engine = pyttsx3.init()\n",
        "# engine.say(\"I love my babes very much. Her name is Miss Sumina Awa\")\n",
        "engine.say(data)\n",
        "engine.runAndWait()"
      ],
      "metadata": {
        "id": "xnrBi9sHhVGR"
      },
      "execution_count": null,
      "outputs": []
    },
    {
      "cell_type": "code",
      "source": [
        "# ========================== SPEECH TO TEXT ===================================\n",
        "\n",
        "# pip install SpeechRecognition\n",
        "# pip install pyaudio\n",
        "\n",
        "import pyttsx3\n",
        "import speech_recognition as sr\n",
        "\n",
        "def get_audio() :\n",
        "\n",
        "    r = sr.Recognizer()\n",
        "    with sr.Microphone() as source:\n",
        "        print(\"Listening... Please say something!\")\n",
        "        audio = r.listen(source)\n",
        "        print(\"DONE!!\")\n",
        "\n",
        "    try:\n",
        "        text = r.recognize_google(audio)\n",
        "        print(\"You said : \"+ text)\n",
        "\n",
        "    except Exception as e:\n",
        "        print('Sorry, I did not understand')\n",
        "        # print(e)\n",
        "\n",
        "get_audio()"
      ],
      "metadata": {
        "id": "oyU2N0iDh47F"
      },
      "execution_count": null,
      "outputs": []
    },
    {
      "cell_type": "code",
      "source": [
        "# ========================== CHROME AUTOMATION ===================================\n",
        "\n",
        "import webbrowser as wb\n",
        "\n",
        "def web_auto():\n",
        "\n",
        "    # Path of the chrome in your device\n",
        "    chrome_path = \"C:\\Program Files\\Google\\Chrome\\Application\\chrome.exe %s\"\n",
        "\n",
        "    URLS = (\n",
        "        \"facebook.com\",\n",
        "        \"gmail.com\",\n",
        "        \"github.com/sushanttwayana/\"\n",
        "    )\n",
        "\n",
        "    for url in URLS :\n",
        "        print(\"opening:\" + url)\n",
        "        wb.get(chrome_path).open(url)\n",
        "\n",
        "web_auto()\n"
      ],
      "metadata": {
        "id": "wkzkBVDsh7Ly"
      },
      "execution_count": null,
      "outputs": []
    },
    {
      "cell_type": "code",
      "source": [
        "# ========================== WEB CAM  ===================================\n",
        "\n",
        "# pip install opencv-python\n",
        "\n",
        "import cv2\n",
        "\n",
        "img_capture = cv2.VideoCapture(0) # id of the webcam as in laptop we have only 1 inbuilt webcam so it is assigned 1 , if you have multiple webcams assign it in similar way\n",
        "\n",
        "result = True\n",
        "\n",
        "while result :\n",
        "    ret, frame = img_capture.read()\n",
        "    cv2.imwrite('test1.jpg', frame)\n",
        "    result = False\n",
        "    print(\"Image Captured\")\n",
        "\n",
        "img_capture.release()\n"
      ],
      "metadata": {
        "id": "IHfgUXzzh8M5"
      },
      "execution_count": null,
      "outputs": []
    },
    {
      "cell_type": "code",
      "source": [
        "# ==========================  IMPLICATION OF JSON ===================================\n",
        "\n",
        "import json\n",
        "\n",
        "# Create a Python dictionary\n",
        "data = {\n",
        "    \"name\": \"John\",\n",
        "    \"age\": 30,\n",
        "    \"city\": \"New York\"\n",
        "}\n",
        "\n",
        "# Serialize the dictionary to a JSON string\n",
        "json_string = json.dumps(data)\n",
        "\n",
        "# Print the JSON string\n",
        "print(json_string)\n",
        "\n",
        "# Deserialize the JSON string back to a Python object (dictionary)\n",
        "decoded_data = json.loads(json_string)\n",
        "\n",
        "# Access data in the dictionary\n",
        "print(decoded_data[\"name\"])  # Outputs: John"
      ],
      "metadata": {
        "id": "8AUcy4HXh8qs"
      },
      "execution_count": null,
      "outputs": []
    },
    {
      "cell_type": "code",
      "source": [
        "# ========================== IMAGE TO TEXT ==================================="
      ],
      "metadata": {
        "id": "UARygfBMh-ox"
      },
      "execution_count": null,
      "outputs": []
    }
  ]
}