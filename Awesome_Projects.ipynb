{
  "nbformat": 4,
  "nbformat_minor": 0,
  "metadata": {
    "colab": {
      "provenance": [],
      "authorship_tag": "ABX9TyMXOpQY1umBpHFuJv/RImI0",
      "include_colab_link": true
    },
    "kernelspec": {
      "name": "python3",
      "display_name": "Python 3"
    },
    "language_info": {
      "name": "python"
    }
  },
  "cells": [
    {
      "cell_type": "markdown",
      "metadata": {
        "id": "view-in-github",
        "colab_type": "text"
      },
      "source": [
        "<a href=\"https://colab.research.google.com/github/sushanttwayana/Python_Projects/blob/main/Awesome_Projects.ipynb\" target=\"_parent\"><img src=\"https://colab.research.google.com/assets/colab-badge.svg\" alt=\"Open In Colab\"/></a>"
      ]
    },
    {
      "cell_type": "code",
      "execution_count": null,
      "metadata": {
        "id": "q7u2o_DO6qaq"
      },
      "outputs": [],
      "source": [
        "# ***************** Handwritten Assignment *************************\n",
        "\n",
        "import pywhatkit\n",
        "# \"\"\" indicates a paragraph format\n",
        "txt = \"\"\"\n",
        "Python is a versatile and high-level programming language known for its readability and simplicity. It supports a wide range of applications, from web development and data analysis to artificial intelligence and scientific computing. Python's extensive standard library and vast community of developers make it a popular choice for both beginners and experts. It uses indentation to define code blocks, which enforces clean and consistent coding practices. Python's dynamic typing and interpreted nature make it accessible for rapid development, while its strong support for integration with other languages and systems ensures compatibility and extensibility.\"\"\"\n",
        "\n",
        "\n",
        "# pw.text_to_handwriting(txt, \"demo1.png\", (0,0,168))\n",
        "pywhatkit.text_to_handwriting(txt, \"demo1.png\", (255, 0, 0 ) )\n",
        "print(\"END\")\n"
      ]
    }
  ]
}